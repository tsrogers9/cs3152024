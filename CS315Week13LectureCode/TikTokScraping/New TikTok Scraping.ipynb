{
 "cells": [
  {
   "cell_type": "markdown",
   "id": "11f91b9d-8cd2-46c1-930d-0db5617b27fd",
   "metadata": {},
   "source": [
    "# New Tutorial on TikTok Scraping\n",
    "\n",
    "This tutorial does the following:\n",
    "\n",
    "1. Connects to an existing (open) Chrome instance. **[Part 1](#sec1)**\n",
    "2. It shows how we can get videos from a TikTok account page. **[Part 2](#sec2)**\n",
    "3. It scrolls to get a certain number of videos. **[Part 3](#sec3)**"
   ]
  },
  {
   "cell_type": "markdown",
   "id": "8a870e68-8252-434e-bbfe-47b487f2bd02",
   "metadata": {},
   "source": [
    "<a id=\"sec1\"></a>\n",
    "## Part 1: Create Chrome Instance\n",
    "\n",
    "**Important:** For this to work, you should already have the Google instance running on your computer. To do that, open a console and run the command for your browser (see below).\n",
    "\n",
    "\n",
    "**On Mac:**\n",
    "```\n",
    "/Applications/Google\\ Chrome.app/Contents/MacOS/Google\\ Chrome --remote-debugging-port=9222 --user-data-dir=\"/tmp/chrome_dev_test\"\n",
    "```\n",
    "\n",
    "**On Windows:**\n",
    "\n",
    "```\n",
    "C:\\Program Files (x86)\\Google\\Chrome\\Application\\chrome.exe\" --remote-debugging-port=9222 --user-data-dir=\"C:\\selenium\\ChromeTestProfile\n",
    "```"
   ]
  },
  {
   "cell_type": "markdown",
   "id": "6c0c085f-1d43-40ae-909f-f664a615c1e7",
   "metadata": {},
   "source": [
    "**New installation**\n",
    "\n",
    "If you don't have the following package, install it once."
   ]
  },
  {
   "cell_type": "code",
   "execution_count": null,
   "id": "8a110b0c-cfc0-4590-95ee-5ba4ae4b3ff9",
   "metadata": {},
   "outputs": [],
   "source": [
    "pip install webdriver_manager"
   ]
  },
  {
   "cell_type": "markdown",
   "id": "8376e2a0-943c-47b4-9a9a-40a1ee0ae88d",
   "metadata": {},
   "source": [
    "Now you are ready to run the code below:"
   ]
  },
  {
   "cell_type": "code",
   "execution_count": null,
   "id": "ee7c1141-84f6-4c0b-b0b5-475b1ddfef18",
   "metadata": {},
   "outputs": [],
   "source": [
    "from selenium import webdriver\n",
    "from selenium.webdriver.chrome.options import Options\n",
    "from selenium.webdriver.chrome.service import Service\n",
    "from webdriver_manager.chrome import ChromeDriverManager\n",
    "from selenium.webdriver.common.by import By\n",
    "from selenium.webdriver.common.action_chains import ActionChains\n",
    "from selenium.webdriver.common.keys import Keys\n",
    "import time\n",
    "\n",
    "# Set up Chrome options\n",
    "options = Options()\n",
    "options.add_experimental_option(\"debuggerAddress\", \"127.0.0.1:9222\")\n",
    "\n",
    "# Path to your ChromeDriver\n",
    "service = Service(ChromeDriverManager().install())\n",
    "\n",
    "# Connect to the existing Chrome browser session\n",
    "driver = webdriver.Chrome(service=service, options=options)\n",
    "\n",
    "# Interact with the existing browser session\n",
    "driver.get('http://www.tiktok.com/@nytimes')"
   ]
  },
  {
   "cell_type": "code",
   "execution_count": null,
   "id": "d195d588-0bc4-457c-aa3a-905fc185b180",
   "metadata": {},
   "outputs": [],
   "source": [
    "driver.title"
   ]
  },
  {
   "cell_type": "markdown",
   "id": "fa954dd5-9c26-496c-a778-7d74d3872941",
   "metadata": {},
   "source": [
    "<a id=\"sec2\"></a>\n",
    "## Part 2: Getting Videos from a TikTok Page\n",
    "\n",
    "\n",
    "I will be using class names to find some HTML elements that are useful for the scraping. These are:\n",
    "\n",
    "```\n",
    "CONTAINER_CLASS = \"eegew6e2\"\n",
    "VIDEO_CLASS = \"e19c29qe8\"\n",
    "DESC_CLASS = \"eih2qak4\"\n",
    "```\n",
    "\n",
    "I am creating variables for them, so that if these classes change, we can plug in here the new class names."
   ]
  },
  {
   "cell_type": "code",
   "execution_count": null,
   "id": "7b5ee862-9ddc-4b17-bbae-5db12d7bb020",
   "metadata": {},
   "outputs": [],
   "source": [
    "CONTAINER_CLASS = \"eegew6e2\" \n",
    "VIDEO_CLASS = \"e19c29qe8\"\n",
    "DESC_CLASS = \"eih2qak4\""
   ]
  },
  {
   "cell_type": "markdown",
   "id": "09bc5715-df61-48d3-98ae-68854c14e073",
   "metadata": {},
   "source": [
    "Here is a function that will get the posts (both URLs and descriptions of each video):"
   ]
  },
  {
   "cell_type": "code",
   "execution_count": null,
   "id": "6152340f-efb2-4f9c-a7c9-96bb175f858f",
   "metadata": {},
   "outputs": [],
   "source": [
    "def getVideosAndDescriptions(driver):\n",
    "    \"\"\"Given an open driver instance on a TikTok account page, \n",
    "    get the list of video URLs that are accessible.\n",
    "    \"\"\"\n",
    "    time.sleep(2) # in case the page hasn't loaded yet\n",
    "\n",
    "    # Get the container of the videos\n",
    "    try:\n",
    "        container = driver.find_element(By.CLASS_NAME, \"eegew6e2\")\n",
    "    except Exception as e:\n",
    "        print(f\"Container: An unexpected error occurred: {e}\")\n",
    "        return []\n",
    "\n",
    "    # Get the video elements\n",
    "    try:\n",
    "        posts = container.find_elements(By.CLASS_NAME, VIDEO_CLASS)\n",
    "    except Exception as e:\n",
    "        print(f\"Post: An unexpected error occurred: {e}\")\n",
    "        return []\n",
    "\n",
    "    # Get the URLs of the videos\n",
    "    try:\n",
    "        urls = [post.find_element(By.TAG_NAME, \"a\").get_attribute('href') for post in posts]\n",
    "    except Exception as e:\n",
    "        print(f\"URL: An unexpected error occurred: {e}\")\n",
    "        return []\n",
    "\n",
    "    # Get the description of each post. Since some of them don't have one, we'll add an empty string\n",
    "    descriptions = []\n",
    "    for post in posts:\n",
    "        try:\n",
    "            desc = post.find_element(By.CLASS_NAME, DESC_CLASS).text\n",
    "            descriptions.append(desc)\n",
    "        except:\n",
    "            descriptions.append('')\n",
    "\n",
    "    # Combine together urls and descriptions\n",
    "    return list(zip(urls, descriptions))"
   ]
  },
  {
   "cell_type": "markdown",
   "id": "68f0317e-1b08-462d-879f-45b47e20f4be",
   "metadata": {},
   "source": [
    "Now let's try this out with the videos from a famous account"
   ]
  },
  {
   "cell_type": "code",
   "execution_count": null,
   "id": "b73b6119-2b3d-434e-b203-eaad805cc111",
   "metadata": {},
   "outputs": [],
   "source": [
    "url = \"https://www.tiktok.com/@taylorswift\"\n",
    "driver.get(url)\n",
    "posts = getVideosAndDescriptions(driver)\n",
    "len(posts)"
   ]
  },
  {
   "cell_type": "markdown",
   "id": "138c6519-7578-4a92-adb1-d92c9c6d2ad9",
   "metadata": {},
   "source": [
    "Show a few posts:"
   ]
  },
  {
   "cell_type": "code",
   "execution_count": null,
   "id": "b815d9fa-45b4-422e-8137-40e7e4bf6590",
   "metadata": {},
   "outputs": [],
   "source": [
    "posts[:3]"
   ]
  },
  {
   "cell_type": "markdown",
   "id": "bebf07dd-ba3d-4e73-a4e7-d8094b3e8281",
   "metadata": {},
   "source": [
    "**Note:** By default, when visiting the page of a Tiktok account, we only get the first 35 posts. If we want more, we need to scroll down."
   ]
  },
  {
   "cell_type": "markdown",
   "id": "96cf26d0-0662-4a16-aa13-2a5734393297",
   "metadata": {},
   "source": [
    "<a id=\"sec3\"></a>\n",
    "## Part 3: Scrolling down the page\n",
    "\n",
    "We show how we can scroll for a few times:"
   ]
  },
  {
   "cell_type": "code",
   "execution_count": null,
   "id": "4228868d-d810-41be-8a10-9e35345d134f",
   "metadata": {},
   "outputs": [],
   "source": [
    "# We press the arrow_down key every 1/10 of a second\n",
    "\n",
    "actions = ActionChains(driver)\n",
    "\n",
    "for i in range(50):\n",
    "    actions.send_keys(Keys.ARROW_DOWN)\n",
    "    actions.perform()\n",
    "    time.sleep(0.1)"
   ]
  },
  {
   "cell_type": "markdown",
   "id": "b3728e92-e058-4fd7-a979-5d20bdec63c5",
   "metadata": {},
   "source": [
    "We can call the function to get the posts:"
   ]
  },
  {
   "cell_type": "code",
   "execution_count": null,
   "id": "16068047-35c9-4afa-af8e-6565dfc026f3",
   "metadata": {},
   "outputs": [],
   "source": [
    "posts = getVideosAndDescriptions(driver)\n",
    "len(posts)"
   ]
  },
  {
   "cell_type": "markdown",
   "id": "e05ffd1a-0dbb-4e52-9b4d-2b486cf4dbba",
   "metadata": {},
   "source": [
    "As we can see, by scrolling down for 50 keys, our document went from 35 posts to 104 posts. \n",
    "\n",
    "My tests have shown that when scrolling, the posts don't disappear from the DOM, once they have seen, they remain there. Thus, we can scroll for a while and then stop and save all the posts."
   ]
  },
  {
   "cell_type": "code",
   "execution_count": null,
   "id": "aee07177-ee22-4cce-853c-564a33d195a3",
   "metadata": {},
   "outputs": [],
   "source": [
    "accounts = ['nytimes', 'washingtonpost', 'bbcnews']\n",
    "\n",
    "for acc in accounts:\n",
    "    url = f\"https://www.tiktok.com/@{acc}\"\n",
    "    driver.get(url)\n",
    "\n",
    "    # Scroll down for a while to load posts\n",
    "    for i in range(150):\n",
    "        actions.send_keys(Keys.ARROW_DOWN)\n",
    "        actions.perform()\n",
    "        time.sleep(0.1)\n",
    "\n",
    "    posts = getVideosAndDescriptions(driver)\n",
    "    print(acc, len(posts))\n",
    "\n",
    "    # Save in different files\n",
    "    import json\n",
    "    with open(f\"{acc}.json\", 'w') as fout:\n",
    "        json.dump(posts, fout)"
   ]
  },
  {
   "cell_type": "code",
   "execution_count": null,
   "id": "f9010919-85aa-4ff7-a59e-580c95107ed8",
   "metadata": {},
   "outputs": [],
   "source": []
  },
  {
   "cell_type": "code",
   "execution_count": null,
   "id": "8165cfe3-ee51-4a0d-8fdf-c0772650df3d",
   "metadata": {},
   "outputs": [],
   "source": []
  }
 ],
 "metadata": {
  "kernelspec": {
   "display_name": "Python 3 (ipykernel)",
   "language": "python",
   "name": "python3"
  },
  "language_info": {
   "codemirror_mode": {
    "name": "ipython",
    "version": 3
   },
   "file_extension": ".py",
   "mimetype": "text/x-python",
   "name": "python",
   "nbconvert_exporter": "python",
   "pygments_lexer": "ipython3",
   "version": "3.11.5"
  }
 },
 "nbformat": 4,
 "nbformat_minor": 5
}
