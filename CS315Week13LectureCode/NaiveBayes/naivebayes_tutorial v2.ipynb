{
 "cells": [
  {
   "cell_type": "markdown",
   "id": "589c1e17",
   "metadata": {},
   "source": [
    "# Naive Bayes\n",
    "\n",
    "Tutorial for the Naive Bayes classifier using scikit-learn. This example uses Pyktok data to classify TikTok videos as ads or non-ads.\n",
    "\n",
    "Code based on tutorial from StackAbuse: https://stackabuse.com/the-naive-bayes-algorithm-in-python-with-scikit-learn/  \n",
    "\n",
    "### 1. Preparing our data for the model"
   ]
  },
  {
   "cell_type": "code",
   "execution_count": 15,
   "id": "3039cc71",
   "metadata": {},
   "outputs": [],
   "source": [
    "import pandas as pd\n",
    "pd.set_option('display.max_colwidth', None)"
   ]
  },
  {
   "cell_type": "code",
   "execution_count": 16,
   "id": "3b5de966",
   "metadata": {},
   "outputs": [],
   "source": [
    "df = pd.read_csv('pyktok_ad_data.csv',\n",
    "                   usecols=['video_id', 'suggested_words', 'video_description', 'video_is_ad'])"
   ]
  },
  {
   "cell_type": "markdown",
   "id": "b360685f",
   "metadata": {},
   "source": [
    "#### Preprocessing the data"
   ]
  },
  {
   "cell_type": "code",
   "execution_count": 17,
   "id": "8bbffc50",
   "metadata": {},
   "outputs": [
    {
     "data": {
      "text/html": [
       "<div>\n",
       "<style scoped>\n",
       "    .dataframe tbody tr th:only-of-type {\n",
       "        vertical-align: middle;\n",
       "    }\n",
       "\n",
       "    .dataframe tbody tr th {\n",
       "        vertical-align: top;\n",
       "    }\n",
       "\n",
       "    .dataframe thead th {\n",
       "        text-align: right;\n",
       "    }\n",
       "</style>\n",
       "<table border=\"1\" class=\"dataframe\">\n",
       "  <thead>\n",
       "    <tr style=\"text-align: right;\">\n",
       "      <th></th>\n",
       "      <th>video_id</th>\n",
       "      <th>suggested_words</th>\n",
       "      <th>video_description</th>\n",
       "      <th>video_is_ad</th>\n",
       "      <th>description</th>\n",
       "    </tr>\n",
       "  </thead>\n",
       "  <tbody>\n",
       "    <tr>\n",
       "      <th>0</th>\n",
       "      <td>7305500598084881706</td>\n",
       "      <td>Cat Tunnel Bed, Cat Brush, cattok, pet products, Cats Of TikTok, tik tok shop, TikTok Shop Items, powder donut face pets, cat accessories, toothbrush cat</td>\n",
       "      <td>Diz and Dub bith love their cat donut from the tiktok shop! Get it before sale runs out! 😻 #fyp #foryou #petbrush #cattunnel #catcave #TikTokShop  #catmom #catdad #catperson #smurfcat #PetsOfTikTok #catbed #catsoftiktok #petlover #catlover #happycat #save #foryoupage #catdonut #tiktokshopblackfriday #tiktokshopcybermonday</td>\n",
       "      <td>1</td>\n",
       "      <td>cat tunnel bed, cat brush, cattok, pet products, cats of tiktok, tik tok shop, tiktok shop items, powder donut face pets, cat accessories, toothbrush cat</td>\n",
       "    </tr>\n",
       "    <tr>\n",
       "      <th>1</th>\n",
       "      <td>7303242532790619422</td>\n",
       "      <td>cider sweater dress, Sweater Dress, knitted sweater dress, knitted dress, cider dress, 2 piece knitted dress, dresses, Viral Dress TikTok, Dress Outfit, Fashion Dresses</td>\n",
       "      <td>this dress fits like a glove! so flattering &amp; comfy! love that it is a 2 piece as well 🤍 @Cider #sweaterdress #knitteddress #viraldress #cider #shopcider #TikTokShopBlackFriday #tiktokshopcybermonday</td>\n",
       "      <td>1</td>\n",
       "      <td>cider sweater dress, sweater dress, knitted sweater dress, knitted dress, cider dress, 2 piece knitted dress, dresses, viral dress tiktok, dress outfit, fashion dresses</td>\n",
       "    </tr>\n",
       "    <tr>\n",
       "      <th>2</th>\n",
       "      <td>7285271361201687839</td>\n",
       "      <td>homeika pet vacuum, dog grooming vacuum, tik tok shop, homeika vacuum, homeika, dog grooming, Pet Vacuum, Belgian Malinois, vacuums, Vacuum Cleaner Pets</td>\n",
       "      <td>Paw Patrol approves this message. 🐶🚔 RUN DONT WALK! @Homeika_Official, I love you. #obsessed #homeikaofficial #homeikavacuum #homeika #tiktokmademebuyit #petgrooming #k9softiktok #k9officer #k9handler #tiktokshop #shoporflop #pawpatrol #holidaysteals</td>\n",
       "      <td>1</td>\n",
       "      <td>homeika pet vacuum, dog grooming vacuum, tik tok shop, homeika vacuum, homeika, dog grooming, pet vacuum, belgian malinois, vacuums, vacuum cleaner pets</td>\n",
       "    </tr>\n",
       "    <tr>\n",
       "      <th>3</th>\n",
       "      <td>7301040085624016170</td>\n",
       "      <td>Cat Water Fountain, stainless steel water fountain, Cat Fountain, stainless steel fountain, uah pet fountain, Cattok, Fountain, Cat Of Tiktok, Stainless Steel, pet products</td>\n",
       "      <td>Stainless steel water fountains are my favorite. Use code 'WHITEBEARD' for 20% off!! #cats #catsoftiktok #pets #petsoftiktok #tabbycats #tortoiseshellcats #catlover #catslover #cutecats #UAHPET #PetFountain</td>\n",
       "      <td>1</td>\n",
       "      <td>cat water fountain, stainless steel water fountain, cat fountain, stainless steel fountain, uah pet fountain, cattok, fountain, cat of tiktok, stainless steel, pet products</td>\n",
       "    </tr>\n",
       "    <tr>\n",
       "      <th>4</th>\n",
       "      <td>7310401556791217450</td>\n",
       "      <td>lenovo gm2pro earbuds, lenovo earbuds, TikTok shop, lenovo, Headphones, gm2 pro, airpods, bluetooth earbuds, bluetooth earphones, Lenovo Headphones</td>\n",
       "      <td>Most insane deal I’ve ever seen #lenovo #gm2pro #lenovogm2pro #earbuds #bluetooth #music #bluetoothearphone #coolgadget #tiktokshopholidaysale #thinkplus</td>\n",
       "      <td>1</td>\n",
       "      <td>lenovo gm2pro earbuds, lenovo earbuds, tiktok shop, lenovo, headphones, gm2 pro, airpods, bluetooth earbuds, bluetooth earphones, lenovo headphones</td>\n",
       "    </tr>\n",
       "  </tbody>\n",
       "</table>\n",
       "</div>"
      ],
      "text/plain": [
       "              video_id  \\\n",
       "0  7305500598084881706   \n",
       "1  7303242532790619422   \n",
       "2  7285271361201687839   \n",
       "3  7301040085624016170   \n",
       "4  7310401556791217450   \n",
       "\n",
       "                                                                                                                                                                suggested_words  \\\n",
       "0                     Cat Tunnel Bed, Cat Brush, cattok, pet products, Cats Of TikTok, tik tok shop, TikTok Shop Items, powder donut face pets, cat accessories, toothbrush cat   \n",
       "1      cider sweater dress, Sweater Dress, knitted sweater dress, knitted dress, cider dress, 2 piece knitted dress, dresses, Viral Dress TikTok, Dress Outfit, Fashion Dresses   \n",
       "2                      homeika pet vacuum, dog grooming vacuum, tik tok shop, homeika vacuum, homeika, dog grooming, Pet Vacuum, Belgian Malinois, vacuums, Vacuum Cleaner Pets   \n",
       "3  Cat Water Fountain, stainless steel water fountain, Cat Fountain, stainless steel fountain, uah pet fountain, Cattok, Fountain, Cat Of Tiktok, Stainless Steel, pet products   \n",
       "4                           lenovo gm2pro earbuds, lenovo earbuds, TikTok shop, lenovo, Headphones, gm2 pro, airpods, bluetooth earbuds, bluetooth earphones, Lenovo Headphones   \n",
       "\n",
       "                                                                                                                                                                                                                                                                                                                     video_description  \\\n",
       "0  Diz and Dub bith love their cat donut from the tiktok shop! Get it before sale runs out! 😻 #fyp #foryou #petbrush #cattunnel #catcave #TikTokShop  #catmom #catdad #catperson #smurfcat #PetsOfTikTok #catbed #catsoftiktok #petlover #catlover #happycat #save #foryoupage #catdonut #tiktokshopblackfriday #tiktokshopcybermonday   \n",
       "1                                                                                                                              this dress fits like a glove! so flattering & comfy! love that it is a 2 piece as well 🤍 @Cider #sweaterdress #knitteddress #viraldress #cider #shopcider #TikTokShopBlackFriday #tiktokshopcybermonday   \n",
       "2                                                                           Paw Patrol approves this message. 🐶🚔 RUN DONT WALK! @Homeika_Official, I love you. #obsessed #homeikaofficial #homeikavacuum #homeika #tiktokmademebuyit #petgrooming #k9softiktok #k9officer #k9handler #tiktokshop #shoporflop #pawpatrol #holidaysteals   \n",
       "3                                                                                                                       Stainless steel water fountains are my favorite. Use code 'WHITEBEARD' for 20% off!! #cats #catsoftiktok #pets #petsoftiktok #tabbycats #tortoiseshellcats #catlover #catslover #cutecats #UAHPET #PetFountain   \n",
       "4                                                                                                                                                                            Most insane deal I’ve ever seen #lenovo #gm2pro #lenovogm2pro #earbuds #bluetooth #music #bluetoothearphone #coolgadget #tiktokshopholidaysale #thinkplus   \n",
       "\n",
       "   video_is_ad  \\\n",
       "0            1   \n",
       "1            1   \n",
       "2            1   \n",
       "3            1   \n",
       "4            1   \n",
       "\n",
       "                                                                                                                                                                    description  \n",
       "0                     cat tunnel bed, cat brush, cattok, pet products, cats of tiktok, tik tok shop, tiktok shop items, powder donut face pets, cat accessories, toothbrush cat  \n",
       "1      cider sweater dress, sweater dress, knitted sweater dress, knitted dress, cider dress, 2 piece knitted dress, dresses, viral dress tiktok, dress outfit, fashion dresses  \n",
       "2                      homeika pet vacuum, dog grooming vacuum, tik tok shop, homeika vacuum, homeika, dog grooming, pet vacuum, belgian malinois, vacuums, vacuum cleaner pets  \n",
       "3  cat water fountain, stainless steel water fountain, cat fountain, stainless steel fountain, uah pet fountain, cattok, fountain, cat of tiktok, stainless steel, pet products  \n",
       "4                           lenovo gm2pro earbuds, lenovo earbuds, tiktok shop, lenovo, headphones, gm2 pro, airpods, bluetooth earbuds, bluetooth earphones, lenovo headphones  "
      ]
     },
     "execution_count": 17,
     "metadata": {},
     "output_type": "execute_result"
    }
   ],
   "source": [
    "df['video_is_ad'] = df.video_is_ad.map({False: 0, True: 1})\n",
    "\n",
    "#merge the suggested_words and video_description columns\n",
    "df['description'] = df['suggested_words'].combine_first(df['video_description'])\n",
    "\n",
    "#lowercase and remove punctuation\n",
    "df['description'] = df.description.map(lambda x: x.lower())\n",
    "df['description'] = df.description.str.replace('[^\\w\\s]', '')\n",
    "\n",
    "df.head()"
   ]
  },
  {
   "cell_type": "code",
   "execution_count": 18,
   "id": "1cc848c1-0e9c-49ca-b370-e049a6c5baa7",
   "metadata": {},
   "outputs": [
    {
     "data": {
      "text/plain": [
       "(110, 5)"
      ]
     },
     "execution_count": 18,
     "metadata": {},
     "output_type": "execute_result"
    }
   ],
   "source": [
    "df.shape"
   ]
  },
  {
   "cell_type": "markdown",
   "id": "71d49754",
   "metadata": {},
   "source": [
    "#### Tokenize the descriptions into separate words using nltk\n",
    "\n",
    "You will need to install the nltk library, if you don't have it:"
   ]
  },
  {
   "cell_type": "code",
   "execution_count": 13,
   "id": "25e22a47-ee96-4ea0-a915-e74bc7832be8",
   "metadata": {},
   "outputs": [
    {
     "name": "stdout",
     "output_type": "stream",
     "text": [
      "Requirement already satisfied: nltk in /Library/Frameworks/Python.framework/Versions/3.11/lib/python3.11/site-packages (3.8.1)\n",
      "Requirement already satisfied: click in /Library/Frameworks/Python.framework/Versions/3.11/lib/python3.11/site-packages (from nltk) (8.1.7)\n",
      "Requirement already satisfied: joblib in /Library/Frameworks/Python.framework/Versions/3.11/lib/python3.11/site-packages (from nltk) (1.4.0)\n",
      "Requirement already satisfied: regex>=2021.8.3 in /Library/Frameworks/Python.framework/Versions/3.11/lib/python3.11/site-packages (from nltk) (2024.4.16)\n",
      "Requirement already satisfied: tqdm in /Library/Frameworks/Python.framework/Versions/3.11/lib/python3.11/site-packages (from nltk) (4.66.2)\n",
      "Note: you may need to restart the kernel to use updated packages.\n"
     ]
    }
   ],
   "source": [
    "pip install nltk"
   ]
  },
  {
   "cell_type": "markdown",
   "id": "d5d942be",
   "metadata": {},
   "source": [
    "***NOTE:***\n",
    "The code below will open a dialog window to ask you to downlaod some packages. In that window, switch to the \"Models\" tab and choose \"punkt\" from the \"Identifier\" column. Click \"Download\" and it will install the necessary files to apply tokenization."
   ]
  },
  {
   "cell_type": "code",
   "execution_count": 1,
   "id": "278a6cfa",
   "metadata": {},
   "outputs": [
    {
     "name": "stdout",
     "output_type": "stream",
     "text": [
      "showing info https://raw.githubusercontent.com/nltk/nltk_data/gh-pages/index.xml\n"
     ]
    },
    {
     "data": {
      "text/plain": [
       "True"
      ]
     },
     "execution_count": 1,
     "metadata": {},
     "output_type": "execute_result"
    }
   ],
   "source": [
    "import nltk\n",
    "nltk.download()"
   ]
  },
  {
   "cell_type": "code",
   "execution_count": 19,
   "id": "8beb2a75",
   "metadata": {},
   "outputs": [],
   "source": [
    "df['description'] = df['description'].apply(nltk.word_tokenize)"
   ]
  },
  {
   "cell_type": "markdown",
   "id": "e46ee750",
   "metadata": {},
   "source": [
    "#### Perform word stemming"
   ]
  },
  {
   "cell_type": "code",
   "execution_count": 20,
   "id": "82851282",
   "metadata": {},
   "outputs": [
    {
     "data": {
      "text/html": [
       "<div>\n",
       "<style scoped>\n",
       "    .dataframe tbody tr th:only-of-type {\n",
       "        vertical-align: middle;\n",
       "    }\n",
       "\n",
       "    .dataframe tbody tr th {\n",
       "        vertical-align: top;\n",
       "    }\n",
       "\n",
       "    .dataframe thead th {\n",
       "        text-align: right;\n",
       "    }\n",
       "</style>\n",
       "<table border=\"1\" class=\"dataframe\">\n",
       "  <thead>\n",
       "    <tr style=\"text-align: right;\">\n",
       "      <th></th>\n",
       "      <th>video_id</th>\n",
       "      <th>suggested_words</th>\n",
       "      <th>video_description</th>\n",
       "      <th>video_is_ad</th>\n",
       "      <th>description</th>\n",
       "    </tr>\n",
       "  </thead>\n",
       "  <tbody>\n",
       "    <tr>\n",
       "      <th>0</th>\n",
       "      <td>7305500598084881706</td>\n",
       "      <td>Cat Tunnel Bed, Cat Brush, cattok, pet products, Cats Of TikTok, tik tok shop, TikTok Shop Items, powder donut face pets, cat accessories, toothbrush cat</td>\n",
       "      <td>Diz and Dub bith love their cat donut from the tiktok shop! Get it before sale runs out! 😻 #fyp #foryou #petbrush #cattunnel #catcave #TikTokShop  #catmom #catdad #catperson #smurfcat #PetsOfTikTok #catbed #catsoftiktok #petlover #catlover #happycat #save #foryoupage #catdonut #tiktokshopblackfriday #tiktokshopcybermonday</td>\n",
       "      <td>1</td>\n",
       "      <td>[cat, tunnel, bed, ,, cat, brush, ,, cattok, ,, pet, product, ,, cat, of, tiktok, ,, tik, tok, shop, ,, tiktok, shop, item, ,, powder, donut, face, pet, ,, cat, accessori, ,, toothbrush, cat]</td>\n",
       "    </tr>\n",
       "    <tr>\n",
       "      <th>1</th>\n",
       "      <td>7303242532790619422</td>\n",
       "      <td>cider sweater dress, Sweater Dress, knitted sweater dress, knitted dress, cider dress, 2 piece knitted dress, dresses, Viral Dress TikTok, Dress Outfit, Fashion Dresses</td>\n",
       "      <td>this dress fits like a glove! so flattering &amp; comfy! love that it is a 2 piece as well 🤍 @Cider #sweaterdress #knitteddress #viraldress #cider #shopcider #TikTokShopBlackFriday #tiktokshopcybermonday</td>\n",
       "      <td>1</td>\n",
       "      <td>[cider, sweater, dress, ,, sweater, dress, ,, knit, sweater, dress, ,, knit, dress, ,, cider, dress, ,, 2, piec, knit, dress, ,, dress, ,, viral, dress, tiktok, ,, dress, outfit, ,, fashion, dress]</td>\n",
       "    </tr>\n",
       "    <tr>\n",
       "      <th>2</th>\n",
       "      <td>7285271361201687839</td>\n",
       "      <td>homeika pet vacuum, dog grooming vacuum, tik tok shop, homeika vacuum, homeika, dog grooming, Pet Vacuum, Belgian Malinois, vacuums, Vacuum Cleaner Pets</td>\n",
       "      <td>Paw Patrol approves this message. 🐶🚔 RUN DONT WALK! @Homeika_Official, I love you. #obsessed #homeikaofficial #homeikavacuum #homeika #tiktokmademebuyit #petgrooming #k9softiktok #k9officer #k9handler #tiktokshop #shoporflop #pawpatrol #holidaysteals</td>\n",
       "      <td>1</td>\n",
       "      <td>[homeika, pet, vacuum, ,, dog, groom, vacuum, ,, tik, tok, shop, ,, homeika, vacuum, ,, homeika, ,, dog, groom, ,, pet, vacuum, ,, belgian, malinoi, ,, vacuum, ,, vacuum, cleaner, pet]</td>\n",
       "    </tr>\n",
       "    <tr>\n",
       "      <th>3</th>\n",
       "      <td>7301040085624016170</td>\n",
       "      <td>Cat Water Fountain, stainless steel water fountain, Cat Fountain, stainless steel fountain, uah pet fountain, Cattok, Fountain, Cat Of Tiktok, Stainless Steel, pet products</td>\n",
       "      <td>Stainless steel water fountains are my favorite. Use code 'WHITEBEARD' for 20% off!! #cats #catsoftiktok #pets #petsoftiktok #tabbycats #tortoiseshellcats #catlover #catslover #cutecats #UAHPET #PetFountain</td>\n",
       "      <td>1</td>\n",
       "      <td>[cat, water, fountain, ,, stainless, steel, water, fountain, ,, cat, fountain, ,, stainless, steel, fountain, ,, uah, pet, fountain, ,, cattok, ,, fountain, ,, cat, of, tiktok, ,, stainless, steel, ,, pet, product]</td>\n",
       "    </tr>\n",
       "    <tr>\n",
       "      <th>4</th>\n",
       "      <td>7310401556791217450</td>\n",
       "      <td>lenovo gm2pro earbuds, lenovo earbuds, TikTok shop, lenovo, Headphones, gm2 pro, airpods, bluetooth earbuds, bluetooth earphones, Lenovo Headphones</td>\n",
       "      <td>Most insane deal I’ve ever seen #lenovo #gm2pro #lenovogm2pro #earbuds #bluetooth #music #bluetoothearphone #coolgadget #tiktokshopholidaysale #thinkplus</td>\n",
       "      <td>1</td>\n",
       "      <td>[lenovo, gm2pro, earbud, ,, lenovo, earbud, ,, tiktok, shop, ,, lenovo, ,, headphon, ,, gm2, pro, ,, airpod, ,, bluetooth, earbud, ,, bluetooth, earphon, ,, lenovo, headphon]</td>\n",
       "    </tr>\n",
       "  </tbody>\n",
       "</table>\n",
       "</div>"
      ],
      "text/plain": [
       "              video_id  \\\n",
       "0  7305500598084881706   \n",
       "1  7303242532790619422   \n",
       "2  7285271361201687839   \n",
       "3  7301040085624016170   \n",
       "4  7310401556791217450   \n",
       "\n",
       "                                                                                                                                                                suggested_words  \\\n",
       "0                     Cat Tunnel Bed, Cat Brush, cattok, pet products, Cats Of TikTok, tik tok shop, TikTok Shop Items, powder donut face pets, cat accessories, toothbrush cat   \n",
       "1      cider sweater dress, Sweater Dress, knitted sweater dress, knitted dress, cider dress, 2 piece knitted dress, dresses, Viral Dress TikTok, Dress Outfit, Fashion Dresses   \n",
       "2                      homeika pet vacuum, dog grooming vacuum, tik tok shop, homeika vacuum, homeika, dog grooming, Pet Vacuum, Belgian Malinois, vacuums, Vacuum Cleaner Pets   \n",
       "3  Cat Water Fountain, stainless steel water fountain, Cat Fountain, stainless steel fountain, uah pet fountain, Cattok, Fountain, Cat Of Tiktok, Stainless Steel, pet products   \n",
       "4                           lenovo gm2pro earbuds, lenovo earbuds, TikTok shop, lenovo, Headphones, gm2 pro, airpods, bluetooth earbuds, bluetooth earphones, Lenovo Headphones   \n",
       "\n",
       "                                                                                                                                                                                                                                                                                                                     video_description  \\\n",
       "0  Diz and Dub bith love their cat donut from the tiktok shop! Get it before sale runs out! 😻 #fyp #foryou #petbrush #cattunnel #catcave #TikTokShop  #catmom #catdad #catperson #smurfcat #PetsOfTikTok #catbed #catsoftiktok #petlover #catlover #happycat #save #foryoupage #catdonut #tiktokshopblackfriday #tiktokshopcybermonday   \n",
       "1                                                                                                                              this dress fits like a glove! so flattering & comfy! love that it is a 2 piece as well 🤍 @Cider #sweaterdress #knitteddress #viraldress #cider #shopcider #TikTokShopBlackFriday #tiktokshopcybermonday   \n",
       "2                                                                           Paw Patrol approves this message. 🐶🚔 RUN DONT WALK! @Homeika_Official, I love you. #obsessed #homeikaofficial #homeikavacuum #homeika #tiktokmademebuyit #petgrooming #k9softiktok #k9officer #k9handler #tiktokshop #shoporflop #pawpatrol #holidaysteals   \n",
       "3                                                                                                                       Stainless steel water fountains are my favorite. Use code 'WHITEBEARD' for 20% off!! #cats #catsoftiktok #pets #petsoftiktok #tabbycats #tortoiseshellcats #catlover #catslover #cutecats #UAHPET #PetFountain   \n",
       "4                                                                                                                                                                            Most insane deal I’ve ever seen #lenovo #gm2pro #lenovogm2pro #earbuds #bluetooth #music #bluetoothearphone #coolgadget #tiktokshopholidaysale #thinkplus   \n",
       "\n",
       "   video_is_ad  \\\n",
       "0            1   \n",
       "1            1   \n",
       "2            1   \n",
       "3            1   \n",
       "4            1   \n",
       "\n",
       "                                                                                                                                                                                                              description  \n",
       "0                         [cat, tunnel, bed, ,, cat, brush, ,, cattok, ,, pet, product, ,, cat, of, tiktok, ,, tik, tok, shop, ,, tiktok, shop, item, ,, powder, donut, face, pet, ,, cat, accessori, ,, toothbrush, cat]  \n",
       "1                   [cider, sweater, dress, ,, sweater, dress, ,, knit, sweater, dress, ,, knit, dress, ,, cider, dress, ,, 2, piec, knit, dress, ,, dress, ,, viral, dress, tiktok, ,, dress, outfit, ,, fashion, dress]  \n",
       "2                                [homeika, pet, vacuum, ,, dog, groom, vacuum, ,, tik, tok, shop, ,, homeika, vacuum, ,, homeika, ,, dog, groom, ,, pet, vacuum, ,, belgian, malinoi, ,, vacuum, ,, vacuum, cleaner, pet]  \n",
       "3  [cat, water, fountain, ,, stainless, steel, water, fountain, ,, cat, fountain, ,, stainless, steel, fountain, ,, uah, pet, fountain, ,, cattok, ,, fountain, ,, cat, of, tiktok, ,, stainless, steel, ,, pet, product]  \n",
       "4                                          [lenovo, gm2pro, earbud, ,, lenovo, earbud, ,, tiktok, shop, ,, lenovo, ,, headphon, ,, gm2, pro, ,, airpod, ,, bluetooth, earbud, ,, bluetooth, earphon, ,, lenovo, headphon]  "
      ]
     },
     "execution_count": 20,
     "metadata": {},
     "output_type": "execute_result"
    }
   ],
   "source": [
    "from nltk.stem import PorterStemmer\n",
    "\n",
    "stemmer = PorterStemmer()\n",
    " \n",
    "df['description'] = df['description'].apply(lambda x: [stemmer.stem(y) for y in x])\n",
    "df.head()"
   ]
  },
  {
   "cell_type": "markdown",
   "id": "d1575381",
   "metadata": {},
   "source": [
    "#### Use CountVectorizer to transform data into occurrences"
   ]
  },
  {
   "cell_type": "code",
   "execution_count": 21,
   "id": "09500d84",
   "metadata": {},
   "outputs": [],
   "source": [
    "import sklearn\n",
    "from sklearn.feature_extraction.text import CountVectorizer\n",
    "\n",
    "# This converts the list of words into space-separated strings\n",
    "df['description'] = df['description'].apply(lambda x: ' '.join(x))\n",
    "\n",
    "count_vect = CountVectorizer()\n",
    "counts = count_vect.fit_transform(df['description'])"
   ]
  },
  {
   "cell_type": "markdown",
   "id": "e4570a22",
   "metadata": {},
   "source": [
    "#### Use TF-IDF as model features instead of word counts"
   ]
  },
  {
   "cell_type": "code",
   "execution_count": 23,
   "id": "1ce7369a",
   "metadata": {},
   "outputs": [],
   "source": [
    "from sklearn.feature_extraction.text import TfidfTransformer\n",
    "\n",
    "transformer = TfidfTransformer().fit(counts)\n",
    "\n",
    "counts = transformer.transform(counts)"
   ]
  },
  {
   "cell_type": "markdown",
   "id": "59564c8d",
   "metadata": {},
   "source": [
    "### 2. Using the Naive Bayes Model\n",
    "\n",
    "#### Split the data into training and testing sets"
   ]
  },
  {
   "cell_type": "code",
   "execution_count": 25,
   "id": "74dc9d8e",
   "metadata": {},
   "outputs": [],
   "source": [
    "from sklearn.model_selection import train_test_split\n",
    "\n",
    "shuffled_df = df.sample(frac=1, random_state=1)\n",
    "X_train, X_test, y_train, y_test = train_test_split(counts, shuffled_df['video_is_ad'], \n",
    "                                                    test_size=0.2, random_state=1)"
   ]
  },
  {
   "cell_type": "markdown",
   "id": "5768ccf6",
   "metadata": {},
   "source": [
    "#### Fit the data to a Naive Bayes classifier.\n",
    "\n",
    "We use the Multinomial Naive Bayes Classifier here for text classification. There are other types of Naive Bayes classifiers for a variety of tasks."
   ]
  },
  {
   "cell_type": "code",
   "execution_count": 26,
   "id": "bee3a09f",
   "metadata": {},
   "outputs": [],
   "source": [
    "from sklearn.naive_bayes import MultinomialNB\n",
    "\n",
    "model = MultinomialNB().fit(X_train, y_train)"
   ]
  },
  {
   "cell_type": "markdown",
   "id": "837eddec",
   "metadata": {},
   "source": [
    "#### Testing the model "
   ]
  },
  {
   "cell_type": "code",
   "execution_count": 27,
   "id": "73d36282",
   "metadata": {
    "scrolled": true
   },
   "outputs": [
    {
     "name": "stdout",
     "output_type": "stream",
     "text": [
      "0.7272727272727273\n"
     ]
    }
   ],
   "source": [
    "import numpy as np\n",
    "\n",
    "predicted = model.predict(X_test)\n",
    "\n",
    "print(np.mean(predicted == y_test))"
   ]
  },
  {
   "cell_type": "markdown",
   "id": "d80dc5e0",
   "metadata": {},
   "source": [
    "Our model's accuracy varies between 60-75%, which isn't great...Let's check the number of features and the sparsity of the document-term matrix. "
   ]
  },
  {
   "cell_type": "code",
   "execution_count": 28,
   "id": "93dfffa3",
   "metadata": {},
   "outputs": [
    {
     "name": "stdout",
     "output_type": "stream",
     "text": [
      "Number of features: 844\n",
      "Sparsity: 98.36412106850496\n"
     ]
    }
   ],
   "source": [
    "import numpy as np\n",
    "\n",
    "features = len(count_vect.get_feature_names_out())\n",
    "print(\"Number of features:\", features)\n",
    "\n",
    "#Sparsity is the number of zero-valued elements divided by the total number of elements\n",
    "sparsity = (1- np.count_nonzero(X_train.toarray()) / np.prod(X_train.shape)) * 100\n",
    "print(\"Sparsity:\", sparsity)\n"
   ]
  },
  {
   "cell_type": "markdown",
   "id": "6ca66f65",
   "metadata": {},
   "source": [
    "We can use a confusion matrix to get a better idea of our model's performance:\n",
    "\n",
    "### 3. Confusion Matrix Heatmap"
   ]
  },
  {
   "cell_type": "code",
   "execution_count": 29,
   "id": "7def704b",
   "metadata": {},
   "outputs": [],
   "source": [
    "from sklearn.metrics import confusion_matrix\n",
    "\n",
    "conf_matrix = confusion_matrix(y_test, predicted)"
   ]
  },
  {
   "cell_type": "code",
   "execution_count": 31,
   "id": "52559fa0",
   "metadata": {
    "scrolled": true
   },
   "outputs": [
    {
     "data": {
      "text/plain": [
       "Text(0.5, 1.0, 'Confusion Matrix for TikTok Ad Detection Model')"
      ]
     },
     "execution_count": 31,
     "metadata": {},
     "output_type": "execute_result"
    },
    {
     "data": {
      "image/png": "[encoded data removed]",
      "text/plain": [
       "<Figure size 640x480 with 2 Axes>"
      ]
     },
     "metadata": {},
     "output_type": "display_data"
    }
   ],
   "source": [
    "import seaborn as sns\n",
    "\n",
    "# Plot confusion matrix\n",
    "ax = sns.heatmap(conf_matrix, annot=True)\n",
    " \n",
    "# set x-axis label and ticks. \n",
    "ax.set_xlabel(\"Predicted label\", fontsize=14, labelpad=20)\n",
    "ax.xaxis.set_ticklabels(['Non-Ad', 'Ad'])\n",
    " \n",
    "# set y-axis label and ticks\n",
    "ax.set_ylabel(\"True label\", fontsize=14, labelpad=20)\n",
    "ax.yaxis.set_ticklabels(['Non-Ad', 'Ad'])\n",
    " \n",
    "# set plot title\n",
    "ax.set_title(\"Confusion Matrix for TikTok Ad Detection Model\", fontsize=14, pad=20)"
   ]
  },
  {
   "cell_type": "code",
   "execution_count": 32,
   "id": "2cc9617f",
   "metadata": {},
   "outputs": [
    {
     "data": {
      "text/plain": [
       "(7, 4, 2, 9)"
      ]
     },
     "execution_count": 32,
     "metadata": {},
     "output_type": "execute_result"
    }
   ],
   "source": [
    "# Let's print out the values for each cell in the confusion matrix:\n",
    "true_neg, false_pos, false_neg, true_pos = conf_matrix.ravel()\n",
    " \n",
    "true_neg, false_pos, false_neg, true_pos"
   ]
  },
  {
   "cell_type": "markdown",
   "id": "ae5ca373-6432-4c28-821c-54ffa319761c",
   "metadata": {},
   "source": [
    "**Calculate f1_score**"
   ]
  },
  {
   "cell_type": "code",
   "execution_count": 33,
   "id": "845bac9a-378e-4d74-b271-e3a17e8a4a6e",
   "metadata": {},
   "outputs": [
    {
     "data": {
      "text/plain": [
       "0.725"
      ]
     },
     "execution_count": 33,
     "metadata": {},
     "output_type": "execute_result"
    }
   ],
   "source": [
    "from sklearn.metrics import f1_score\n",
    "\n",
    "f1_score(y_test.values, predicted, average='weighted')"
   ]
  }
 ],
 "metadata": {
  "kernelspec": {
   "display_name": "Python 3 (ipykernel)",
   "language": "python",
   "name": "python3"
  },
  "language_info": {
   "codemirror_mode": {
    "name": "ipython",
    "version": 3
   },
   "file_extension": ".py",
   "mimetype": "text/x-python",
   "name": "python",
   "nbconvert_exporter": "python",
   "pygments_lexer": "ipython3",
   "version": "3.11.3"
  }
 },
 "nbformat": 4,
 "nbformat_minor": 5
}
