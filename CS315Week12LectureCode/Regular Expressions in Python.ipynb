{
 "cells": [
  {
   "cell_type": "markdown",
   "metadata": {},
   "source": [
    "# Regular Expressions in Python\n",
    "\n",
    "Regular expressions provide us a language to write patterns for searching through strings. These are used when we want to find certain kinds of text, such as phone numbers, email addresses, or URLs in text. All programming languages have built-in support for regular expressions. Once you have learned their syntax, you can use them in many platforms (e.g., operating systems, programming languages, search engines, etc.)\n",
    "\n",
    "**Table of Contents**\n",
    "\n",
    "1. [Raw Strings](#raw)\n",
    "2. [Create a pattern](#pattern)\n",
    "3. [An example of a metacharacter](#meta)\n",
    "4. [Introducing more metacharacters](#meta2)\n",
    "5. [Introducing anchors](#anchors)\n",
    "6. [Example: Matching phone numbers](#phone)\n",
    "7. [Using a character set](#set)\n",
    "8. [Character ranges with dash](#dash)\n",
    "9. [The ^ character for negating](#carot)\n",
    "10. [Quantifiers](#quant) \n",
    "11. [Groups](#groups)\n",
    "12. [Replace using groups](#replace)\n",
    "13. [Python flags](#flags)\n",
    "14. [Your turn: Solve simple problems](#turn)"
   ]
  },
  {
   "cell_type": "code",
   "execution_count": null,
   "metadata": {},
   "outputs": [],
   "source": [
    "import re"
   ]
  },
  {
   "cell_type": "code",
   "execution_count": null,
   "metadata": {},
   "outputs": [],
   "source": [
    "someText = '''\n",
    "abcdefghijklmnopqrstuvwxyz\n",
    "ABCDEFGHIJKLMNOPQRSTUVWXYZ\n",
    "0123456789\n",
    "\n",
    "wendy@wellesley.edu\n",
    "www.wellesley.edu\n",
    "\n",
    "oh ohohoh\n",
    "\n",
    "Metacharacters that need to be escaped\n",
    "\n",
    ". ^ $ * + ? { } [ ] \\ | ( )\n",
    "\n",
    "781-283-3190\n",
    "800.255.4398\n",
    "781 305 0000\n",
    "\n",
    "Mrs. Robinson\n",
    "Ms Gardner\n",
    "Mr Potter\n",
    "Mr. Bond\n",
    "Mr T\n",
    "\n",
    "e-mail for up-to-date news\n",
    "our_values\n",
    "'''\n",
    "\n",
    "sentence = \"Two roads diverged in a yellow wood, And sorry I could not travel both\""
   ]
  },
  {
   "cell_type": "markdown",
   "metadata": {},
   "source": [
    "<a id=\"raw\"></a>\n",
    "## 1. Raw strings\n",
    "\n",
    "Special string characters, such as `\\t` or `\\n` are interpreted by Python to display their meaning. By using the raw string notation, we ensure that a string is not interpreted for display. This notation is simply the letter `r` preceding a string. Below we show how when printing a normal string and a raw string, the `\\n` character is treated differently."
   ]
  },
  {
   "cell_type": "code",
   "execution_count": null,
   "metadata": {},
   "outputs": [],
   "source": [
    "line = \"this is a line.\\n\"\n",
    "print(line)"
   ]
  },
  {
   "cell_type": "code",
   "execution_count": null,
   "metadata": {},
   "outputs": [],
   "source": [
    "line = r\"this is a line.\\n\"\n",
    "print(line)"
   ]
  },
  {
   "cell_type": "markdown",
   "metadata": {},
   "source": [
    "<a id=\"pattern\"></a>\n",
    "## 2. Create a pattern\n",
    "\n",
    "To create a pattern of characters to find in a string, we use the function `compile`."
   ]
  },
  {
   "cell_type": "code",
   "execution_count": null,
   "metadata": {},
   "outputs": [],
   "source": [
    "pattern = re.compile(\"edu\")\n",
    "pattern"
   ]
  },
  {
   "cell_type": "markdown",
   "metadata": {},
   "source": [
    "In the output, notice the representation of the string as \"raw\" string within the compile object, even though we didn't use the symbol 'r' in our input.\n",
    "Now that we have a pattern, we can try to find matches for it in the text. There are two methods we could use: `findall` and `finditer`."
   ]
  },
  {
   "cell_type": "code",
   "execution_count": null,
   "metadata": {},
   "outputs": [],
   "source": [
    "pattern.findall(someText)"
   ]
  },
  {
   "cell_type": "code",
   "execution_count": null,
   "metadata": {},
   "outputs": [],
   "source": [
    "for p in pattern.finditer(someText):\n",
    "    print(p)"
   ]
  },
  {
   "cell_type": "markdown",
   "metadata": {},
   "source": [
    "Notice that differently from `findall`,  `finditer` returns an object that contains the \"span\" of the found phrase, that is, its start and end indices, which can be used for string slicing.\n",
    "\n",
    "We can use special functions to access the start and end indices of the slice, as well as the group the was found."
   ]
  },
  {
   "cell_type": "code",
   "execution_count": null,
   "metadata": {},
   "outputs": [],
   "source": [
    "for p in pattern.finditer(someText):\n",
    "    print(p.start(), p.end(), p.group())"
   ]
  },
  {
   "cell_type": "markdown",
   "metadata": {},
   "source": [
    "<a id=\"meta\"></a>\n",
    "## 3. An example of a metacharacter\n",
    "\n",
    "Let's assume we want to search for the period character."
   ]
  },
  {
   "cell_type": "code",
   "execution_count": null,
   "metadata": {},
   "outputs": [],
   "source": [
    "pattern = re.compile(\".\")\n",
    "pattern"
   ]
  },
  {
   "cell_type": "code",
   "execution_count": null,
   "metadata": {},
   "outputs": [],
   "source": [
    "for p in pattern.finditer(someText):\n",
    "    print(p)"
   ]
  },
  {
   "cell_type": "markdown",
   "metadata": {},
   "source": [
    "Wow, we got everything! This is because the period is a special character in regular expressions, and it matches every character. If we want to search for the period, then we need to escape it. "
   ]
  },
  {
   "cell_type": "code",
   "execution_count": null,
   "metadata": {},
   "outputs": [],
   "source": [
    "pattern = re.compile(\"\\.\")\n",
    "pattern"
   ]
  },
  {
   "cell_type": "code",
   "execution_count": null,
   "metadata": {},
   "outputs": [],
   "source": [
    "for p in pattern.finditer(someText):\n",
    "    print(p)"
   ]
  },
  {
   "cell_type": "markdown",
   "metadata": {},
   "source": [
    "Notice that this time we only got the strings that match the period and not every other character."
   ]
  },
  {
   "cell_type": "markdown",
   "metadata": {},
   "source": [
    "<a id=\"meta2\"></a>\n",
    "## 4. Introducing more metacharacters\n",
    "\n",
    "Here is a list of some of the most common metacharacters that are used commonly. Remember, a metacharacter is a character that has a special meaning during pattern processing.\n",
    "\n",
    "```\n",
    ".  - any character but the new line\n",
    "\\d - digits 0 to 9\n",
    "\\D - not a digit\n",
    "\\w - word characters (a-z, A-Z, 0-9, _)\n",
    "\\W - not a word character\n",
    "\\s - whitespace (tab, space, newline)\n",
    "\\S - not whitespace\n",
    "```"
   ]
  },
  {
   "cell_type": "code",
   "execution_count": null,
   "metadata": {},
   "outputs": [],
   "source": [
    "pattern = re.compile('\\d')\n",
    "for p in pattern.finditer(someText):\n",
    "    print(p)"
   ]
  },
  {
   "cell_type": "markdown",
   "metadata": {},
   "source": [
    "We can see that `\\d`  matches every digit, but `\\D` does the opposite and matches every non-digit:"
   ]
  },
  {
   "cell_type": "code",
   "execution_count": null,
   "metadata": {},
   "outputs": [],
   "source": [
    "pattern = re.compile('\\D')\n",
    "for p in pattern.finditer(someText):\n",
    "    print(p)"
   ]
  },
  {
   "cell_type": "markdown",
   "metadata": {},
   "source": [
    "Meanwhile, `\\w` matches every word character (letters, digits, and undercore):"
   ]
  },
  {
   "cell_type": "code",
   "execution_count": null,
   "metadata": {},
   "outputs": [],
   "source": [
    "pattern = re.compile('\\w')\n",
    "for p in pattern.finditer(someText):\n",
    "    print(p)"
   ]
  },
  {
   "cell_type": "markdown",
   "metadata": {},
   "source": [
    "While `\\W` matches all non-word characters:"
   ]
  },
  {
   "cell_type": "code",
   "execution_count": null,
   "metadata": {},
   "outputs": [],
   "source": [
    "pattern = re.compile('\\W')\n",
    "for p in pattern.finditer(someText):\n",
    "    print(p)"
   ]
  },
  {
   "cell_type": "markdown",
   "metadata": {},
   "source": [
    "We can also match all space characters with `\\s`:"
   ]
  },
  {
   "cell_type": "code",
   "execution_count": null,
   "metadata": {},
   "outputs": [],
   "source": [
    "pattern = re.compile('\\s')\n",
    "for p in pattern.finditer(someText):\n",
    "    print(p)"
   ]
  },
  {
   "cell_type": "markdown",
   "metadata": {},
   "source": [
    "While `\\S` will do the opposite and match all non-space characters."
   ]
  },
  {
   "cell_type": "code",
   "execution_count": null,
   "metadata": {},
   "outputs": [],
   "source": [
    "pattern = re.compile('\\S')\n",
    "for p in pattern.finditer(someText):\n",
    "    print(p)"
   ]
  },
  {
   "cell_type": "markdown",
   "metadata": {},
   "source": [
    "<a id=\"anchors\"></a>\n",
    "## 5. Introducing Anchors\n",
    "\n",
    "In addition to the metacharacters we saw, there are some special characters that match invisible positions before or after characters. They are always used in conjunction with other patterns and are known as **anchors**:\n",
    "\n",
    "```\n",
    "\\b - word boundary\n",
    "\\B - not a word boundary\n",
    "^ - start of a string\n",
    "$ - end of a string\n",
    "```"
   ]
  },
  {
   "cell_type": "code",
   "execution_count": null,
   "metadata": {},
   "outputs": [],
   "source": [
    "pattern = re.compile(r'\\boh')\n",
    "for p in pattern.finditer(someText):\n",
    "    print(p)"
   ]
  },
  {
   "cell_type": "markdown",
   "metadata": {},
   "source": [
    "It matched two \"oh\" strings, which have a word boundary, but didn't match the other two \"oh\"s. Meanwhile, `\\B` will do the opposite and match the `oh`s that don't have a word boundary."
   ]
  },
  {
   "cell_type": "code",
   "execution_count": null,
   "metadata": {},
   "outputs": [],
   "source": [
    "someText[106:115]"
   ]
  },
  {
   "cell_type": "code",
   "execution_count": null,
   "metadata": {},
   "outputs": [],
   "source": [
    "pattern = re.compile(r'\\Boh')\n",
    "for p in pattern.finditer(someText):\n",
    "    print(p)"
   ]
  },
  {
   "cell_type": "markdown",
   "metadata": {},
   "source": [
    "Let's look at `^` that finds patterns at the beginning of text."
   ]
  },
  {
   "cell_type": "code",
   "execution_count": null,
   "metadata": {},
   "outputs": [],
   "source": [
    "pattern = re.compile(r'^Two')\n",
    "for p in pattern.finditer(sentence):\n",
    "    print(p)"
   ]
  },
  {
   "cell_type": "markdown",
   "metadata": {},
   "source": [
    "It found the pattern \"Two\" at the beginning, but if we look for something else, it will not work, if that fragment is not at the start of the sentence:"
   ]
  },
  {
   "cell_type": "code",
   "execution_count": null,
   "metadata": {},
   "outputs": [],
   "source": [
    "pattern = re.compile(r'^road')\n",
    "for p in pattern.finditer(sentence):\n",
    "    print(p)"
   ]
  },
  {
   "cell_type": "markdown",
   "metadata": {},
   "source": [
    "We know that \"road\" is in the sentence, but it's not at the beginning:"
   ]
  },
  {
   "cell_type": "code",
   "execution_count": null,
   "metadata": {},
   "outputs": [],
   "source": [
    "pattern = re.compile(r'road')\n",
    "for p in pattern.finditer(sentence):\n",
    "    print(p)"
   ]
  },
  {
   "cell_type": "markdown",
   "metadata": {},
   "source": [
    "Similarly, we can use `$` to search for a pattern at the end of a word, notice that `$` is at the end."
   ]
  },
  {
   "cell_type": "code",
   "execution_count": null,
   "metadata": {},
   "outputs": [],
   "source": [
    "pattern = re.compile(r'both$')\n",
    "for p in pattern.finditer(sentence):\n",
    "    print(p)"
   ]
  },
  {
   "cell_type": "markdown",
   "metadata": {},
   "source": [
    "Same way, if we search for something that's in the string but not at the end, it will not find it:"
   ]
  },
  {
   "cell_type": "code",
   "execution_count": null,
   "metadata": {},
   "outputs": [],
   "source": [
    "pattern = re.compile(r'travel$')\n",
    "for p in pattern.finditer(sentence):\n",
    "    print(p)"
   ]
  },
  {
   "cell_type": "markdown",
   "metadata": {},
   "source": [
    "<a id=\"phone\"></a>\n",
    "## 6. Matching phone numbers\n",
    "\n",
    "There are two phone numbers in our text, they look like this:\n",
    "\n",
    "```\n",
    "781-283-3190\n",
    "800.255.4398\n",
    "```\n",
    "\n",
    "We can start by matching the first three digits:"
   ]
  },
  {
   "cell_type": "code",
   "execution_count": null,
   "metadata": {},
   "outputs": [],
   "source": [
    "pattern = re.compile(r'\\d\\d\\d')\n",
    "for p in pattern.finditer(someText):\n",
    "    print(p)"
   ]
  },
  {
   "cell_type": "markdown",
   "metadata": {},
   "source": [
    "We can use `.` to match any character, in this case the hyphen or the period itself. Then, we match the other groups of digits as above, the final result will look like this:"
   ]
  },
  {
   "cell_type": "code",
   "execution_count": null,
   "metadata": {},
   "outputs": [],
   "source": [
    "pattern = re.compile(r'\\d\\d\\d.\\d\\d\\d.\\d\\d\\d\\d')\n",
    "for p in pattern.finditer(someText):\n",
    "    print(p)"
   ]
  },
  {
   "cell_type": "markdown",
   "metadata": {},
   "source": [
    "A more succinct way of writing the pattern for phone numbers is shown in the section about Quantifiers further down in this notebook."
   ]
  },
  {
   "cell_type": "markdown",
   "metadata": {},
   "source": [
    "<a id=\"set\"></a>\n",
    "## 7. Using a character set\n",
    "\n",
    "The period we used above can match any character as a separator for the phone numbers. If we want to restrict what separators to accept, we can use a character set, denoted by the use of square brackets."
   ]
  },
  {
   "cell_type": "code",
   "execution_count": null,
   "metadata": {},
   "outputs": [],
   "source": [
    "pattern = re.compile(r'\\d\\d\\d[-.]\\d\\d\\d[-.]\\d\\d\\d\\d')\n",
    "for p in pattern.finditer(someText):\n",
    "    print(p)"
   ]
  },
  {
   "cell_type": "markdown",
   "metadata": {},
   "source": [
    "If we use a different separator in the number, for example space, as shown in the example below, then, our character set will not match anything:"
   ]
  },
  {
   "cell_type": "code",
   "execution_count": null,
   "metadata": {},
   "outputs": [],
   "source": [
    "pattern = re.compile(r'\\d\\d\\d[-.]\\d\\d\\d[-.]\\d\\d\\d\\d')\n",
    "for p in pattern.finditer(\"781 283 3190\"):\n",
    "    print(p)"
   ]
  },
  {
   "cell_type": "markdown",
   "metadata": {},
   "source": [
    "**Question:** How to modify the pattern to also capture the empty space as a separator of the phone numbers? Try it out in the cell above."
   ]
  },
  {
   "cell_type": "markdown",
   "metadata": {},
   "source": [
    "Let's see another use for character sets, finding 800 and 900 numbers:"
   ]
  },
  {
   "cell_type": "code",
   "execution_count": null,
   "metadata": {},
   "outputs": [],
   "source": [
    "numbers = \"\"\"800-200-4000\n",
    "900.234.5678\n",
    "300-211-9087\"\"\""
   ]
  },
  {
   "cell_type": "code",
   "execution_count": null,
   "metadata": {},
   "outputs": [],
   "source": [
    "pattern = re.compile(r'[89]00[-.]\\d\\d\\d[-.]\\d\\d\\d\\d')\n",
    "for p in pattern.finditer(numbers):\n",
    "    print(p)"
   ]
  },
  {
   "cell_type": "markdown",
   "metadata": {},
   "source": [
    "**Note:** Character sets only match one and only one of the characters in the set."
   ]
  },
  {
   "cell_type": "markdown",
   "metadata": {},
   "source": [
    "<a id=\"dash\"></a>\n",
    "## 8. Character ranges with dash\n",
    "\n",
    "The special character dash, when in between two other characters in a character set, serves to create a range."
   ]
  },
  {
   "cell_type": "code",
   "execution_count": null,
   "metadata": {},
   "outputs": [],
   "source": [
    "# find all digits between 0 and 5\n",
    "pattern = re.compile(r'[0-5]')\n",
    "for p in pattern.finditer(numbers):\n",
    "    print(p)"
   ]
  },
  {
   "cell_type": "markdown",
   "metadata": {},
   "source": [
    "Notice that it's matching only the digits 0 to 5. Let's try range with letter characters. As a reminder, here is our sentence:"
   ]
  },
  {
   "cell_type": "code",
   "execution_count": null,
   "metadata": {},
   "outputs": [],
   "source": [
    "sentence"
   ]
  },
  {
   "cell_type": "code",
   "execution_count": null,
   "metadata": {},
   "outputs": [],
   "source": [
    "pattern = re.compile(r'[a-e]')\n",
    "for p in pattern.finditer(sentence):\n",
    "    print(p)"
   ]
  },
  {
   "cell_type": "markdown",
   "metadata": {},
   "source": [
    "We can use character range sets for uppercase letters too:"
   ]
  },
  {
   "cell_type": "code",
   "execution_count": null,
   "metadata": {},
   "outputs": [],
   "source": [
    "pattern = re.compile(r'[A-Z]')\n",
    "for p in pattern.finditer(sentence):\n",
    "    print(p)"
   ]
  },
  {
   "cell_type": "markdown",
   "metadata": {},
   "source": [
    "<a id=\"carot\"></a>\n",
    "## 9. The ^ character for negating\n",
    "\n",
    "The character ^ within a character set behaves differently from when it is outside. In this case, it will negate the content of the set, so that the pattern matches everything that is not in the set."
   ]
  },
  {
   "cell_type": "code",
   "execution_count": null,
   "metadata": {},
   "outputs": [],
   "source": [
    "phrase = \"My number is: 555\""
   ]
  },
  {
   "cell_type": "code",
   "execution_count": null,
   "metadata": {},
   "outputs": [],
   "source": [
    "pattern = re.compile(r'[^a-zA-Z]')\n",
    "for p in pattern.finditer(phrase):\n",
    "    print(p)"
   ]
  },
  {
   "cell_type": "markdown",
   "metadata": {},
   "source": [
    "For the phrase above, the pattern matches only the white space, the colon, and the digits, which are non-letter characters.\n",
    "\n",
    "Below is another use of ^ for negating a character set:"
   ]
  },
  {
   "cell_type": "code",
   "execution_count": null,
   "metadata": {},
   "outputs": [],
   "source": [
    "words = \"\"\"cat\n",
    "bat\n",
    "mat\n",
    "pat\n",
    "tat\"\"\"\n",
    "\n",
    "pattern = re.compile(r'[^bp]at') # find three letter words ending with at, but that don't start with b or p\n",
    "for p in pattern.finditer(words):\n",
    "    print(p)"
   ]
  },
  {
   "cell_type": "markdown",
   "metadata": {},
   "source": [
    "<a id=\"quant\"></a>\n",
    "## 10. Quantifiers\n",
    "\n",
    "All the examples so far find one character at a time. Even when we found the phone number, we used a complex pattern. But, that doesn't need to be the case. We can use other special characters to look for repeating patterns.\n",
    "\n",
    "```\n",
    "*       - 0 or more\n",
    "+       - 1 or more\n",
    "?       - 0 or 1\n",
    "{3}     - exact number\n",
    "{3, 4}  - range of numbers (min, max)\n",
    "```"
   ]
  },
  {
   "cell_type": "markdown",
   "metadata": {},
   "source": [
    "Let's rewrite the pattern for phone numbers, by using one of these quantifiers, that specifies an exact number of digits:"
   ]
  },
  {
   "cell_type": "code",
   "execution_count": null,
   "metadata": {},
   "outputs": [],
   "source": [
    "pattern = re.compile(r'\\d{3}.\\d{3}.\\d{4}')\n",
    "for p in pattern.finditer(someText):\n",
    "    print(p.group())\n"
   ]
  },
  {
   "cell_type": "markdown",
   "metadata": {},
   "source": [
    "Often, we don't know the length of a sequence as we do with phone numbers, thus, we need to use the other quantifiers. Let's do that to try to get all Misters from this string of names:"
   ]
  },
  {
   "cell_type": "code",
   "execution_count": null,
   "metadata": {},
   "outputs": [],
   "source": [
    "names = \"\"\"Mrs. Robinson\n",
    "Ms Gardner\n",
    "Mr Potter\n",
    "Mr. Bond\n",
    "Mr T\"\"\""
   ]
  },
  {
   "cell_type": "markdown",
   "metadata": {},
   "source": [
    "**Step 1: Find Mr.** "
   ]
  },
  {
   "cell_type": "code",
   "execution_count": null,
   "metadata": {},
   "outputs": [],
   "source": [
    "pattern = re.compile(r'Mr\\.') # escape the period\n",
    "for p in pattern.finditer(names):\n",
    "    print(p)"
   ]
  },
  {
   "cell_type": "markdown",
   "metadata": {},
   "source": [
    "This finds Mr. but we miss Mr that is not followed by a period. By using the question mark character we can specify that the period can show 0 or 1 times.\n",
    "\n",
    "**Step 2: Find Mr. and Mr**"
   ]
  },
  {
   "cell_type": "code",
   "execution_count": null,
   "metadata": {},
   "outputs": [],
   "source": [
    "pattern = re.compile(r'Mr\\.?')\n",
    "for p in pattern.finditer(names):\n",
    "    print(p)"
   ]
  },
  {
   "cell_type": "markdown",
   "metadata": {},
   "source": [
    "This catches all of them, but also Mr in Mrs. Robinson. Now, let's get the rest of the name:\n",
    "\n",
    "**Step 3: Find name**"
   ]
  },
  {
   "cell_type": "code",
   "execution_count": null,
   "metadata": {},
   "outputs": [],
   "source": [
    "pattern = re.compile(r'Mr\\.?\\s[A-Z]')\n",
    "for p in pattern.finditer(names):\n",
    "    print(p)"
   ]
  },
  {
   "cell_type": "markdown",
   "metadata": {},
   "source": [
    "We followed the question mark with the space character `\\s`, and then a character set for uppercase letters. Finally, to get the whole names, we can use `\\w`, to match word characters.\n",
    "\n",
    "**Step 4: Find the complete names**"
   ]
  },
  {
   "cell_type": "code",
   "execution_count": null,
   "metadata": {},
   "outputs": [],
   "source": [
    "pattern = re.compile(r'Mr\\.?\\s[A-Z]\\w*')\n",
    "for p in pattern.finditer(names):\n",
    "    print(p)"
   ]
  },
  {
   "cell_type": "markdown",
   "metadata": {},
   "source": [
    "It worked! We found all strings about misters, despite their different structure."
   ]
  },
  {
   "cell_type": "markdown",
   "metadata": {},
   "source": [
    "<a id=\"groups\"></a>\n",
    "\n",
    "## 11. Groups\n",
    "\n",
    "The special characters `( )` are used to create groups, and often the pipe character `|` (that means OR), is used together with them. Groups allow for the definition of more complex patterns. For example, we can modify the code from **Step 4** above to also include female titles:"
   ]
  },
  {
   "cell_type": "code",
   "execution_count": null,
   "metadata": {},
   "outputs": [],
   "source": [
    "pattern = re.compile(r'(Mrs|Ms|Mr)\\.?\\s[A-Z]\\w*') # match Mr or Ms in their variations\n",
    "for p in pattern.finditer(names):\n",
    "    print(p)"
   ]
  },
  {
   "cell_type": "markdown",
   "metadata": {},
   "source": [
    "Let's look at another example, matching email addresses:"
   ]
  },
  {
   "cell_type": "code",
   "execution_count": null,
   "metadata": {},
   "outputs": [],
   "source": [
    "emails = \"\"\"harry.potter@hogwards.edu\n",
    "hgranger@gryffindor-house.info\n",
    "ron_weasley@theburrow.com\n",
    "\"\"\""
   ]
  },
  {
   "cell_type": "markdown",
   "metadata": {},
   "source": [
    "We can start by thinking of the simplest pattern, some characters, the @ symbol, and some more characters. If we use `\\w` to match word characters, we can write:"
   ]
  },
  {
   "cell_type": "code",
   "execution_count": null,
   "metadata": {},
   "outputs": [],
   "source": [
    "pattern = re.compile(r'\\w+@\\w+')\n",
    "for p in pattern.finditer(emails):\n",
    "    print(p)"
   ]
  },
  {
   "cell_type": "markdown",
   "metadata": {},
   "source": [
    "We got all the emails, but they are truncated at characters such as the period or dash. Here is another try:"
   ]
  },
  {
   "cell_type": "code",
   "execution_count": null,
   "metadata": {},
   "outputs": [],
   "source": [
    "pattern = re.compile(r'\\w+@\\w+\\.(edu|info|com)')\n",
    "for p in pattern.finditer(emails):\n",
    "    print(p)"
   ]
  },
  {
   "cell_type": "markdown",
   "metadata": {},
   "source": [
    "We got only two addresses, because that from Hermione contains a dash for which we have not accounted. We should add that as a character set that is repeated 0 or one time."
   ]
  },
  {
   "cell_type": "code",
   "execution_count": null,
   "metadata": {},
   "outputs": [],
   "source": [
    "pattern = re.compile(r'\\w+[-.]?\\w+@\\w+[-]?\\w+\\.(edu|info|com)')\n",
    "for p in pattern.finditer(emails):\n",
    "    print(p)"
   ]
  },
  {
   "cell_type": "markdown",
   "metadata": {},
   "source": [
    "Finally, to cover more email domain endings, we can replace the group with repeated characters:"
   ]
  },
  {
   "cell_type": "code",
   "execution_count": null,
   "metadata": {},
   "outputs": [],
   "source": [
    "pattern = re.compile(r'\\w+[-.]?\\w+@\\w+[-]?\\w+\\.\\w+')\n",
    "for p in pattern.finditer(emails):\n",
    "    print(p)"
   ]
  },
  {
   "cell_type": "markdown",
   "metadata": {},
   "source": [
    "By grouping the various elements of the email structure, we can access each of them separately by using the method group. Without an argument, this method prints the entire group:"
   ]
  },
  {
   "cell_type": "code",
   "execution_count": null,
   "metadata": {},
   "outputs": [],
   "source": [
    "pattern = re.compile(r'(\\w+[-.]?\\w+)+@(\\w+[-]?\\w+)(\\.\\w+)') # notice three groups\n",
    "for p in pattern.finditer(emails):\n",
    "    print(p.group())"
   ]
  },
  {
   "cell_type": "markdown",
   "metadata": {},
   "source": [
    "By providing the indices of the groups: 1, 2, 3, we can access each group separately:"
   ]
  },
  {
   "cell_type": "code",
   "execution_count": null,
   "metadata": {},
   "outputs": [],
   "source": [
    "for p in pattern.finditer(emails):\n",
    "    print(p.group(1)) # 1st group is the email account"
   ]
  },
  {
   "cell_type": "code",
   "execution_count": null,
   "metadata": {},
   "outputs": [],
   "source": [
    "for p in pattern.finditer(emails):\n",
    "    print(p.group(2)) # 2nd group is the email domain server"
   ]
  },
  {
   "cell_type": "code",
   "execution_count": null,
   "metadata": {},
   "outputs": [],
   "source": [
    "for p in pattern.finditer(emails):\n",
    "    print(p.group(3)) # 3rd group is the domain ending"
   ]
  },
  {
   "cell_type": "markdown",
   "metadata": {},
   "source": [
    "<a id=\"replace\"></a>\n",
    "## 12. Replace using groups\n",
    "\n",
    "Until now we have only used regular expressions to find patterns in text, but often, we are interested in replacing something we find. Groups can be very useful to do this, because they serve as indices to access parts of a matched pattern. This is done through a mechanism known as back references.\n",
    "\n",
    "For this example, we will use a few URLs. We want to identify irrelevant parts and \"remove\" them, so that we only have the domain names such as __google.com__, etc."
   ]
  },
  {
   "cell_type": "code",
   "execution_count": null,
   "metadata": {},
   "outputs": [],
   "source": [
    "urls = \"\"\"\n",
    "https://www.google.com\n",
    "https://nytimes.com\n",
    "https://www.wellesley.edu\n",
    "http://facebook.com\n",
    "\"\"\""
   ]
  },
  {
   "cell_type": "markdown",
   "metadata": {},
   "source": [
    "Below we use the group syntax, `( )`, to refer to three different groups that usually compose a domain URL."
   ]
  },
  {
   "cell_type": "code",
   "execution_count": null,
   "metadata": {},
   "outputs": [],
   "source": [
    "pattern = re.compile(r'https?://(www\\.)?(\\w+)(\\.\\w+)') # notice three groups, one for each part of the domain\n",
    "pattern"
   ]
  },
  {
   "cell_type": "markdown",
   "metadata": {},
   "source": [
    "We'll use the method `sub` which has a different syntax, so, we'll first create a list of URLs:"
   ]
  },
  {
   "cell_type": "code",
   "execution_count": null,
   "metadata": {},
   "outputs": [],
   "source": [
    "urls = urls.split()\n",
    "urls"
   ]
  },
  {
   "cell_type": "markdown",
   "metadata": {},
   "source": [
    "The method `sub` takes three arguments, the pattern, a replacement string, and the original string. In the code below, our replacement string is composed of **back references**, that is, of indices that refers to groups in the pattern. The command is saying, if you find the pattern in the string, replace it with the content of the replacement string. "
   ]
  },
  {
   "cell_type": "code",
   "execution_count": null,
   "metadata": {},
   "outputs": [],
   "source": [
    "for url in urls:\n",
    "    print(re.sub(pattern, r'\\2\\3', url))"
   ]
  },
  {
   "cell_type": "markdown",
   "metadata": {},
   "source": [
    "As we can see, the regex finds the whole URLs, but replaces them with the contenxt of groups 2 and 3 that contain the domain name and ending."
   ]
  },
  {
   "cell_type": "markdown",
   "metadata": {},
   "source": [
    "To learn more about the syntax of the `sub` function, check out its documentation with `help`:"
   ]
  },
  {
   "cell_type": "code",
   "execution_count": null,
   "metadata": {},
   "outputs": [],
   "source": [
    "help(re.sub)"
   ]
  },
  {
   "cell_type": "markdown",
   "metadata": {},
   "source": [
    "<a id=\"flags\"></a>\n",
    "## 13. Python flags\n",
    "\n",
    "The Python module `re` has so-called flags that can be called in the function `findall` or `finditer` to change its behavior. Here are some flags:\n",
    "\n",
    "```\n",
    "re.IGNORECASE or re.I  \n",
    "re.ASCII or re.A. \n",
    "re.LOCALE or re.L  \n",
    "```\n",
    "\n",
    "Each of them does something different. For example, re.ASCII makes the regex apply only to ascii characters (by default it applies to unicde). Ignore case is about ignoring the casing of a word. Here is an example: find all instances of a word, independently of the case."
   ]
  },
  {
   "cell_type": "code",
   "execution_count": null,
   "metadata": {},
   "outputs": [],
   "source": [
    "pattern = re.compile(\"python\", re.IGNORECASE)\n",
    "text = \"Python is fun. python is powerful. I love PYTHON!\"\n",
    "\n",
    "for p in pattern.finditer(text):\n",
    "    print(p)"
   ]
  },
  {
   "cell_type": "markdown",
   "metadata": {},
   "source": [
    "Remember, that if you only want the text, you can always use the function `findall`:"
   ]
  },
  {
   "cell_type": "code",
   "execution_count": null,
   "metadata": {},
   "outputs": [],
   "source": [
    "matches = re.findall(r'python', text, re.IGNORECASE)\n",
    "matches"
   ]
  },
  {
   "cell_type": "markdown",
   "metadata": {},
   "source": [
    "<a id=\"turn\"></a>\n",
    "## 14. Your Turn: Solve simple problems\n",
    "\n",
    "Put to action the things you learned above:  \n",
    "\n",
    "**Ex. 1:** Find all the words that start with \"a\" and end with an \"e\" (independetly of case). Here is a sentence to try: \"Alice asked for an apple, an envelope, and an artichoke. What an astute girl!\"  The expected result is: ['Alice', 'apple', 'artichoke', 'astute'].\n",
    "\n",
    "**Ex. 2:** Replace all occurrences of whitespace (space, tab, newline) with a single space. Here is an example text: \"This\\nstring\\tcontains multiple\\n\\tspaces.\" You need to use the function `sub`.\n",
    "\n",
    "**Ex 3:** Find all instances of year in dates of format \"YYYY-MM-DD\". Here is some text:\n",
    "\"The school year started in 2023-09-05. More than 2300 students were enrolled. 2023-2024 is going to be a great year! The ending ceremony is on 2024-05-17.\" Your code will use groups to find the dates, for example, [('2023', '09', '05'), ('2024', '05', '17')], and then index the year."
   ]
  },
  {
   "cell_type": "code",
   "execution_count": null,
   "metadata": {},
   "outputs": [],
   "source": []
  }
 ],
 "metadata": {
  "kernelspec": {
   "display_name": "Python 3 (ipykernel)",
   "language": "python",
   "name": "python3"
  },
  "language_info": {
   "codemirror_mode": {
    "name": "ipython",
    "version": 3
   },
   "file_extension": ".py",
   "mimetype": "text/x-python",
   "name": "python",
   "nbconvert_exporter": "python",
   "pygments_lexer": "ipython3",
   "version": "3.11.5"
  }
 },
 "nbformat": 4,
 "nbformat_minor": 4
}
