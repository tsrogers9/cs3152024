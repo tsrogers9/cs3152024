{
 "cells": [
  {
   "cell_type": "markdown",
   "metadata": {},
   "source": [
    "# Regular Expressions in Python\n",
    "\n",
    "Regular expressions provide us a language to write patterns for searching through strings. These are used when we want to find certain kinds of text, such as phone numbers, email addresses, or URLs in text. All programming languages have built-in support for regular expressions. Once you have learned their syntax, you can use them in many platforms (e.g., operating systems, programming languages, search engines, etc.)\n",
    "\n",
    "**Table of Contents**\n",
    "\n",
    "1. [Raw Strings](#raw)\n",
    "2. [Create a pattern](#pattern)\n",
    "3. [An example of a metacharacter](#meta)\n",
    "4. [Introducing more metacharacters](#meta2)\n",
    "5. [Introducing anchors](#anchors)\n",
    "6. [Example: Matching phone numbers](#phone)\n",
    "7. [Using a character set](#set)\n",
    "8. [Character ranges with dash](#dash)\n",
    "9. [The ^ character for negating](#carot)\n",
    "10. [Quantifiers](#quant) \n",
    "11. [Groups](#groups)\n",
    "12. [Replace using groups](#replace)\n",
    "13. [Python flags](#flags)\n",
    "14. [Your turn: Solve simple problems](#turn)"
   ]
  },
  {
   "cell_type": "code",
   "execution_count": 2,
   "metadata": {},
   "outputs": [],
   "source": [
    "import re"
   ]
  },
  {
   "cell_type": "code",
   "execution_count": 3,
   "metadata": {},
   "outputs": [],
   "source": [
    "someText = '''\n",
    "abcdefghijklmnopqrstuvwxyz\n",
    "ABCDEFGHIJKLMNOPQRSTUVWXYZ\n",
    "0123456789\n",
    "\n",
    "wendy@wellesley.edu\n",
    "www.wellesley.edu\n",
    "\n",
    "oh ohohoh\n",
    "\n",
    "Metacharacters that need to be escaped\n",
    "\n",
    ". ^ $ * + ? { } [ ] \\ | ( )\n",
    "\n",
    "781-283-3190\n",
    "800.255.4398\n",
    "781 305 0000\n",
    "\n",
    "Mrs. Robinson\n",
    "Ms Gardner\n",
    "Mr Potter\n",
    "Mr. Bond\n",
    "Mr T\n",
    "\n",
    "e-mail for up-to-date news\n",
    "our_values\n",
    "'''\n",
    "\n",
    "sentence = \"Two roads diverged in a yellow wood, And sorry I could not travel both\""
   ]
  },
  {
   "cell_type": "markdown",
   "metadata": {},
   "source": [
    "<a id=\"raw\"></a>\n",
    "## 1. Raw strings\n",
    "\n",
    "Special string characters, such as `\\t` or `\\n` are interpreted by Python to display their meaning. By using the raw string notation, we ensure that a string is not interpreted for display. This notation is simply the letter `r` preceding a string. Below we show how when printing a normal string and a raw string, the `\\n` character is treated differently."
   ]
  },
  {
   "cell_type": "code",
   "execution_count": 4,
   "metadata": {},
   "outputs": [
    {
     "name": "stdout",
     "output_type": "stream",
     "text": [
      "this is a line.\n",
      "\n"
     ]
    }
   ],
   "source": [
    "line = \"this is a line.\\n\"\n",
    "print(line)"
   ]
  },
  {
   "cell_type": "code",
   "execution_count": 5,
   "metadata": {},
   "outputs": [
    {
     "name": "stdout",
     "output_type": "stream",
     "text": [
      "this is a line.\\n\n"
     ]
    }
   ],
   "source": [
    "line = r\"this is a line.\\n\"\n",
    "print(line)"
   ]
  },
  {
   "cell_type": "markdown",
   "metadata": {},
   "source": [
    "<a id=\"pattern\"></a>\n",
    "## 2. Create a pattern\n",
    "\n",
    "To create a pattern of characters to find in a string, we use the function `compile`."
   ]
  },
  {
   "cell_type": "code",
   "execution_count": 6,
   "metadata": {},
   "outputs": [
    {
     "data": {
      "text/plain": [
       "re.compile(r'edu', re.UNICODE)"
      ]
     },
     "execution_count": 6,
     "metadata": {},
     "output_type": "execute_result"
    }
   ],
   "source": [
    "pattern = re.compile(\"edu\")\n",
    "pattern"
   ]
  },
  {
   "cell_type": "markdown",
   "metadata": {},
   "source": [
    "In the output, notice the representation of the string as \"raw\" string within the compile object, even though we didn't use the symbol 'r' in our input.\n",
    "Now that we have a pattern, we can try to find matches for it in the text. There are two methods we could use: `findall` and `finditer`."
   ]
  },
  {
   "cell_type": "code",
   "execution_count": 7,
   "metadata": {},
   "outputs": [
    {
     "data": {
      "text/plain": [
       "['edu', 'edu']"
      ]
     },
     "execution_count": 7,
     "metadata": {},
     "output_type": "execute_result"
    }
   ],
   "source": [
    "pattern.findall(someText)"
   ]
  },
  {
   "cell_type": "code",
   "execution_count": 13,
   "metadata": {},
   "outputs": [
    {
     "name": "stdout",
     "output_type": "stream",
     "text": [
      "<re.Match object; span=(83, 86), match='edu'>\n",
      "<re.Match object; span=(101, 104), match='edu'>\n"
     ]
    }
   ],
   "source": [
    "for p in pattern.finditer(someText):\n",
    "    print(p)"
   ]
  },
  {
   "cell_type": "markdown",
   "metadata": {},
   "source": [
    "Notice that differently from `findall`,  `finditer` returns an object that contains the \"span\" of the found phrase, that is, its start and end indices, which can be used for string slicing.\n",
    "\n",
    "We can use special functions to access the start and end indices of the slice, as well as the group the was found."
   ]
  },
  {
   "cell_type": "code",
   "execution_count": 14,
   "metadata": {},
   "outputs": [
    {
     "name": "stdout",
     "output_type": "stream",
     "text": [
      "83 86 edu\n",
      "101 104 edu\n"
     ]
    }
   ],
   "source": [
    "for p in pattern.finditer(someText):\n",
    "    print(p.start(), p.end(), p.group())"
   ]
  },
  {
   "cell_type": "markdown",
   "metadata": {},
   "source": [
    "<a id=\"meta\"></a>\n",
    "## 3. An example of a metacharacter\n",
    "\n",
    "Let's assume we want to search for the period character."
   ]
  },
  {
   "cell_type": "code",
   "execution_count": 15,
   "metadata": {},
   "outputs": [
    {
     "data": {
      "text/plain": [
       "re.compile(r'.', re.UNICODE)"
      ]
     },
     "execution_count": 15,
     "metadata": {},
     "output_type": "execute_result"
    }
   ],
   "source": [
    "pattern = re.compile(\".\")\n",
    "pattern"
   ]
  },
  {
   "cell_type": "code",
   "execution_count": 16,
   "metadata": {},
   "outputs": [
    {
     "name": "stdout",
     "output_type": "stream",
     "text": [
      "<re.Match object; span=(1, 2), match='a'>\n",
      "<re.Match object; span=(2, 3), match='b'>\n",
      "<re.Match object; span=(3, 4), match='c'>\n",
      "<re.Match object; span=(4, 5), match='d'>\n",
      "<re.Match object; span=(5, 6), match='e'>\n",
      "<re.Match object; span=(6, 7), match='f'>\n",
      "<re.Match object; span=(7, 8), match='g'>\n",
      "<re.Match object; span=(8, 9), match='h'>\n",
      "<re.Match object; span=(9, 10), match='i'>\n",
      "<re.Match object; span=(10, 11), match='j'>\n",
      "<re.Match object; span=(11, 12), match='k'>\n",
      "<re.Match object; span=(12, 13), match='l'>\n",
      "<re.Match object; span=(13, 14), match='m'>\n",
      "<re.Match object; span=(14, 15), match='n'>\n",
      "<re.Match object; span=(15, 16), match='o'>\n",
      "<re.Match object; span=(16, 17), match='p'>\n",
      "<re.Match object; span=(17, 18), match='q'>\n",
      "<re.Match object; span=(18, 19), match='r'>\n",
      "<re.Match object; span=(19, 20), match='s'>\n",
      "<re.Match object; span=(20, 21), match='t'>\n",
      "<re.Match object; span=(21, 22), match='u'>\n",
      "<re.Match object; span=(22, 23), match='v'>\n",
      "<re.Match object; span=(23, 24), match='w'>\n",
      "<re.Match object; span=(24, 25), match='x'>\n",
      "<re.Match object; span=(25, 26), match='y'>\n",
      "<re.Match object; span=(26, 27), match='z'>\n",
      "<re.Match object; span=(28, 29), match='A'>\n",
      "<re.Match object; span=(29, 30), match='B'>\n",
      "<re.Match object; span=(30, 31), match='C'>\n",
      "<re.Match object; span=(31, 32), match='D'>\n",
      "<re.Match object; span=(32, 33), match='E'>\n",
      "<re.Match object; span=(33, 34), match='F'>\n",
      "<re.Match object; span=(34, 35), match='G'>\n",
      "<re.Match object; span=(35, 36), match='H'>\n",
      "<re.Match object; span=(36, 37), match='I'>\n",
      "<re.Match object; span=(37, 38), match='J'>\n",
      "<re.Match object; span=(38, 39), match='K'>\n",
      "<re.Match object; span=(39, 40), match='L'>\n",
      "<re.Match object; span=(40, 41), match='M'>\n",
      "<re.Match object; span=(41, 42), match='N'>\n",
      "<re.Match object; span=(42, 43), match='O'>\n",
      "<re.Match object; span=(43, 44), match='P'>\n",
      "<re.Match object; span=(44, 45), match='Q'>\n",
      "<re.Match object; span=(45, 46), match='R'>\n",
      "<re.Match object; span=(46, 47), match='S'>\n",
      "<re.Match object; span=(47, 48), match='T'>\n",
      "<re.Match object; span=(48, 49), match='U'>\n",
      "<re.Match object; span=(49, 50), match='V'>\n",
      "<re.Match object; span=(50, 51), match='W'>\n",
      "<re.Match object; span=(51, 52), match='X'>\n",
      "<re.Match object; span=(52, 53), match='Y'>\n",
      "<re.Match object; span=(53, 54), match='Z'>\n",
      "<re.Match object; span=(55, 56), match='0'>\n",
      "<re.Match object; span=(56, 57), match='1'>\n",
      "<re.Match object; span=(57, 58), match='2'>\n",
      "<re.Match object; span=(58, 59), match='3'>\n",
      "<re.Match object; span=(59, 60), match='4'>\n",
      "<re.Match object; span=(60, 61), match='5'>\n",
      "<re.Match object; span=(61, 62), match='6'>\n",
      "<re.Match object; span=(62, 63), match='7'>\n",
      "<re.Match object; span=(63, 64), match='8'>\n",
      "<re.Match object; span=(64, 65), match='9'>\n",
      "<re.Match object; span=(67, 68), match='w'>\n",
      "<re.Match object; span=(68, 69), match='e'>\n",
      "<re.Match object; span=(69, 70), match='n'>\n",
      "<re.Match object; span=(70, 71), match='d'>\n",
      "<re.Match object; span=(71, 72), match='y'>\n",
      "<re.Match object; span=(72, 73), match='@'>\n",
      "<re.Match object; span=(73, 74), match='w'>\n",
      "<re.Match object; span=(74, 75), match='e'>\n",
      "<re.Match object; span=(75, 76), match='l'>\n",
      "<re.Match object; span=(76, 77), match='l'>\n",
      "<re.Match object; span=(77, 78), match='e'>\n",
      "<re.Match object; span=(78, 79), match='s'>\n",
      "<re.Match object; span=(79, 80), match='l'>\n",
      "<re.Match object; span=(80, 81), match='e'>\n",
      "<re.Match object; span=(81, 82), match='y'>\n",
      "<re.Match object; span=(82, 83), match='.'>\n",
      "<re.Match object; span=(83, 84), match='e'>\n",
      "<re.Match object; span=(84, 85), match='d'>\n",
      "<re.Match object; span=(85, 86), match='u'>\n",
      "<re.Match object; span=(87, 88), match='w'>\n",
      "<re.Match object; span=(88, 89), match='w'>\n",
      "<re.Match object; span=(89, 90), match='w'>\n",
      "<re.Match object; span=(90, 91), match='.'>\n",
      "<re.Match object; span=(91, 92), match='w'>\n",
      "<re.Match object; span=(92, 93), match='e'>\n",
      "<re.Match object; span=(93, 94), match='l'>\n",
      "<re.Match object; span=(94, 95), match='l'>\n",
      "<re.Match object; span=(95, 96), match='e'>\n",
      "<re.Match object; span=(96, 97), match='s'>\n",
      "<re.Match object; span=(97, 98), match='l'>\n",
      "<re.Match object; span=(98, 99), match='e'>\n",
      "<re.Match object; span=(99, 100), match='y'>\n",
      "<re.Match object; span=(100, 101), match='.'>\n",
      "<re.Match object; span=(101, 102), match='e'>\n",
      "<re.Match object; span=(102, 103), match='d'>\n",
      "<re.Match object; span=(103, 104), match='u'>\n",
      "<re.Match object; span=(106, 107), match='o'>\n",
      "<re.Match object; span=(107, 108), match='h'>\n",
      "<re.Match object; span=(108, 109), match=' '>\n",
      "<re.Match object; span=(109, 110), match='o'>\n",
      "<re.Match object; span=(110, 111), match='h'>\n",
      "<re.Match object; span=(111, 112), match='o'>\n",
      "<re.Match object; span=(112, 113), match='h'>\n",
      "<re.Match object; span=(113, 114), match='o'>\n",
      "<re.Match object; span=(114, 115), match='h'>\n",
      "<re.Match object; span=(117, 118), match='M'>\n",
      "<re.Match object; span=(118, 119), match='e'>\n",
      "<re.Match object; span=(119, 120), match='t'>\n",
      "<re.Match object; span=(120, 121), match='a'>\n",
      "<re.Match object; span=(121, 122), match='c'>\n",
      "<re.Match object; span=(122, 123), match='h'>\n",
      "<re.Match object; span=(123, 124), match='a'>\n",
      "<re.Match object; span=(124, 125), match='r'>\n",
      "<re.Match object; span=(125, 126), match='a'>\n",
      "<re.Match object; span=(126, 127), match='c'>\n",
      "<re.Match object; span=(127, 128), match='t'>\n",
      "<re.Match object; span=(128, 129), match='e'>\n",
      "<re.Match object; span=(129, 130), match='r'>\n",
      "<re.Match object; span=(130, 131), match='s'>\n",
      "<re.Match object; span=(131, 132), match=' '>\n",
      "<re.Match object; span=(132, 133), match='t'>\n",
      "<re.Match object; span=(133, 134), match='h'>\n",
      "<re.Match object; span=(134, 135), match='a'>\n",
      "<re.Match object; span=(135, 136), match='t'>\n",
      "<re.Match object; span=(136, 137), match=' '>\n",
      "<re.Match object; span=(137, 138), match='n'>\n",
      "<re.Match object; span=(138, 139), match='e'>\n",
      "<re.Match object; span=(139, 140), match='e'>\n",
      "<re.Match object; span=(140, 141), match='d'>\n",
      "<re.Match object; span=(141, 142), match=' '>\n",
      "<re.Match object; span=(142, 143), match='t'>\n",
      "<re.Match object; span=(143, 144), match='o'>\n",
      "<re.Match object; span=(144, 145), match=' '>\n",
      "<re.Match object; span=(145, 146), match='b'>\n",
      "<re.Match object; span=(146, 147), match='e'>\n",
      "<re.Match object; span=(147, 148), match=' '>\n",
      "<re.Match object; span=(148, 149), match='e'>\n",
      "<re.Match object; span=(149, 150), match='s'>\n",
      "<re.Match object; span=(150, 151), match='c'>\n",
      "<re.Match object; span=(151, 152), match='a'>\n",
      "<re.Match object; span=(152, 153), match='p'>\n",
      "<re.Match object; span=(153, 154), match='e'>\n",
      "<re.Match object; span=(154, 155), match='d'>\n",
      "<re.Match object; span=(157, 158), match='.'>\n",
      "<re.Match object; span=(158, 159), match=' '>\n",
      "<re.Match object; span=(159, 160), match='^'>\n",
      "<re.Match object; span=(160, 161), match=' '>\n",
      "<re.Match object; span=(161, 162), match='$'>\n",
      "<re.Match object; span=(162, 163), match=' '>\n",
      "<re.Match object; span=(163, 164), match='*'>\n",
      "<re.Match object; span=(164, 165), match=' '>\n",
      "<re.Match object; span=(165, 166), match='+'>\n",
      "<re.Match object; span=(166, 167), match=' '>\n",
      "<re.Match object; span=(167, 168), match='?'>\n",
      "<re.Match object; span=(168, 169), match=' '>\n",
      "<re.Match object; span=(169, 170), match='{'>\n",
      "<re.Match object; span=(170, 171), match=' '>\n",
      "<re.Match object; span=(171, 172), match='}'>\n",
      "<re.Match object; span=(172, 173), match=' '>\n",
      "<re.Match object; span=(173, 174), match='['>\n",
      "<re.Match object; span=(174, 175), match=' '>\n",
      "<re.Match object; span=(175, 176), match=']'>\n",
      "<re.Match object; span=(176, 177), match=' '>\n",
      "<re.Match object; span=(177, 178), match='\\\\'>\n",
      "<re.Match object; span=(178, 179), match=' '>\n",
      "<re.Match object; span=(179, 180), match='|'>\n",
      "<re.Match object; span=(180, 181), match=' '>\n",
      "<re.Match object; span=(181, 182), match='('>\n",
      "<re.Match object; span=(182, 183), match=' '>\n",
      "<re.Match object; span=(183, 184), match=')'>\n",
      "<re.Match object; span=(186, 187), match='7'>\n",
      "<re.Match object; span=(187, 188), match='8'>\n",
      "<re.Match object; span=(188, 189), match='1'>\n",
      "<re.Match object; span=(189, 190), match='-'>\n",
      "<re.Match object; span=(190, 191), match='2'>\n",
      "<re.Match object; span=(191, 192), match='8'>\n",
      "<re.Match object; span=(192, 193), match='3'>\n",
      "<re.Match object; span=(193, 194), match='-'>\n",
      "<re.Match object; span=(194, 195), match='3'>\n",
      "<re.Match object; span=(195, 196), match='1'>\n",
      "<re.Match object; span=(196, 197), match='9'>\n",
      "<re.Match object; span=(197, 198), match='0'>\n",
      "<re.Match object; span=(199, 200), match='8'>\n",
      "<re.Match object; span=(200, 201), match='0'>\n",
      "<re.Match object; span=(201, 202), match='0'>\n",
      "<re.Match object; span=(202, 203), match='.'>\n",
      "<re.Match object; span=(203, 204), match='2'>\n",
      "<re.Match object; span=(204, 205), match='5'>\n",
      "<re.Match object; span=(205, 206), match='5'>\n",
      "<re.Match object; span=(206, 207), match='.'>\n",
      "<re.Match object; span=(207, 208), match='4'>\n",
      "<re.Match object; span=(208, 209), match='3'>\n",
      "<re.Match object; span=(209, 210), match='9'>\n",
      "<re.Match object; span=(210, 211), match='8'>\n",
      "<re.Match object; span=(212, 213), match='7'>\n",
      "<re.Match object; span=(213, 214), match='8'>\n",
      "<re.Match object; span=(214, 215), match='1'>\n",
      "<re.Match object; span=(215, 216), match=' '>\n",
      "<re.Match object; span=(216, 217), match='3'>\n",
      "<re.Match object; span=(217, 218), match='0'>\n",
      "<re.Match object; span=(218, 219), match='5'>\n",
      "<re.Match object; span=(219, 220), match=' '>\n",
      "<re.Match object; span=(220, 221), match='0'>\n",
      "<re.Match object; span=(221, 222), match='0'>\n",
      "<re.Match object; span=(222, 223), match='0'>\n",
      "<re.Match object; span=(223, 224), match='0'>\n",
      "<re.Match object; span=(226, 227), match='M'>\n",
      "<re.Match object; span=(227, 228), match='r'>\n",
      "<re.Match object; span=(228, 229), match='s'>\n",
      "<re.Match object; span=(229, 230), match='.'>\n",
      "<re.Match object; span=(230, 231), match=' '>\n",
      "<re.Match object; span=(231, 232), match='R'>\n",
      "<re.Match object; span=(232, 233), match='o'>\n",
      "<re.Match object; span=(233, 234), match='b'>\n",
      "<re.Match object; span=(234, 235), match='i'>\n",
      "<re.Match object; span=(235, 236), match='n'>\n",
      "<re.Match object; span=(236, 237), match='s'>\n",
      "<re.Match object; span=(237, 238), match='o'>\n",
      "<re.Match object; span=(238, 239), match='n'>\n",
      "<re.Match object; span=(240, 241), match='M'>\n",
      "<re.Match object; span=(241, 242), match='s'>\n",
      "<re.Match object; span=(242, 243), match=' '>\n",
      "<re.Match object; span=(243, 244), match='G'>\n",
      "<re.Match object; span=(244, 245), match='a'>\n",
      "<re.Match object; span=(245, 246), match='r'>\n",
      "<re.Match object; span=(246, 247), match='d'>\n",
      "<re.Match object; span=(247, 248), match='n'>\n",
      "<re.Match object; span=(248, 249), match='e'>\n",
      "<re.Match object; span=(249, 250), match='r'>\n",
      "<re.Match object; span=(251, 252), match='M'>\n",
      "<re.Match object; span=(252, 253), match='r'>\n",
      "<re.Match object; span=(253, 254), match=' '>\n",
      "<re.Match object; span=(254, 255), match='P'>\n",
      "<re.Match object; span=(255, 256), match='o'>\n",
      "<re.Match object; span=(256, 257), match='t'>\n",
      "<re.Match object; span=(257, 258), match='t'>\n",
      "<re.Match object; span=(258, 259), match='e'>\n",
      "<re.Match object; span=(259, 260), match='r'>\n",
      "<re.Match object; span=(261, 262), match='M'>\n",
      "<re.Match object; span=(262, 263), match='r'>\n",
      "<re.Match object; span=(263, 264), match='.'>\n",
      "<re.Match object; span=(264, 265), match=' '>\n",
      "<re.Match object; span=(265, 266), match='B'>\n",
      "<re.Match object; span=(266, 267), match='o'>\n",
      "<re.Match object; span=(267, 268), match='n'>\n",
      "<re.Match object; span=(268, 269), match='d'>\n",
      "<re.Match object; span=(270, 271), match='M'>\n",
      "<re.Match object; span=(271, 272), match='r'>\n",
      "<re.Match object; span=(272, 273), match=' '>\n",
      "<re.Match object; span=(273, 274), match='T'>\n",
      "<re.Match object; span=(276, 277), match='e'>\n",
      "<re.Match object; span=(277, 278), match='-'>\n",
      "<re.Match object; span=(278, 279), match='m'>\n",
      "<re.Match object; span=(279, 280), match='a'>\n",
      "<re.Match object; span=(280, 281), match='i'>\n",
      "<re.Match object; span=(281, 282), match='l'>\n",
      "<re.Match object; span=(282, 283), match=' '>\n",
      "<re.Match object; span=(283, 284), match='f'>\n",
      "<re.Match object; span=(284, 285), match='o'>\n",
      "<re.Match object; span=(285, 286), match='r'>\n",
      "<re.Match object; span=(286, 287), match=' '>\n",
      "<re.Match object; span=(287, 288), match='u'>\n",
      "<re.Match object; span=(288, 289), match='p'>\n",
      "<re.Match object; span=(289, 290), match='-'>\n",
      "<re.Match object; span=(290, 291), match='t'>\n",
      "<re.Match object; span=(291, 292), match='o'>\n",
      "<re.Match object; span=(292, 293), match='-'>\n",
      "<re.Match object; span=(293, 294), match='d'>\n",
      "<re.Match object; span=(294, 295), match='a'>\n",
      "<re.Match object; span=(295, 296), match='t'>\n",
      "<re.Match object; span=(296, 297), match='e'>\n",
      "<re.Match object; span=(297, 298), match=' '>\n",
      "<re.Match object; span=(298, 299), match='n'>\n",
      "<re.Match object; span=(299, 300), match='e'>\n",
      "<re.Match object; span=(300, 301), match='w'>\n",
      "<re.Match object; span=(301, 302), match='s'>\n",
      "<re.Match object; span=(303, 304), match='o'>\n",
      "<re.Match object; span=(304, 305), match='u'>\n",
      "<re.Match object; span=(305, 306), match='r'>\n",
      "<re.Match object; span=(306, 307), match='_'>\n",
      "<re.Match object; span=(307, 308), match='v'>\n",
      "<re.Match object; span=(308, 309), match='a'>\n",
      "<re.Match object; span=(309, 310), match='l'>\n",
      "<re.Match object; span=(310, 311), match='u'>\n",
      "<re.Match object; span=(311, 312), match='e'>\n",
      "<re.Match object; span=(312, 313), match='s'>\n"
     ]
    }
   ],
   "source": [
    "for p in pattern.finditer(someText):\n",
    "    print(p)"
   ]
  },
  {
   "cell_type": "markdown",
   "metadata": {},
   "source": [
    "Wow, we got everything! This is because the period is a special character in regular expressions, and it matches every character. If we want to search for the period, then we need to escape it. "
   ]
  },
  {
   "cell_type": "code",
   "execution_count": 17,
   "metadata": {},
   "outputs": [
    {
     "data": {
      "text/plain": [
       "re.compile(r'\\.', re.UNICODE)"
      ]
     },
     "execution_count": 17,
     "metadata": {},
     "output_type": "execute_result"
    }
   ],
   "source": [
    "pattern = re.compile(\"\\.\")\n",
    "pattern"
   ]
  },
  {
   "cell_type": "code",
   "execution_count": 18,
   "metadata": {},
   "outputs": [
    {
     "name": "stdout",
     "output_type": "stream",
     "text": [
      "<re.Match object; span=(82, 83), match='.'>\n",
      "<re.Match object; span=(90, 91), match='.'>\n",
      "<re.Match object; span=(100, 101), match='.'>\n",
      "<re.Match object; span=(157, 158), match='.'>\n",
      "<re.Match object; span=(202, 203), match='.'>\n",
      "<re.Match object; span=(206, 207), match='.'>\n",
      "<re.Match object; span=(229, 230), match='.'>\n",
      "<re.Match object; span=(263, 264), match='.'>\n"
     ]
    }
   ],
   "source": [
    "for p in pattern.finditer(someText):\n",
    "    print(p)"
   ]
  },
  {
   "cell_type": "markdown",
   "metadata": {},
   "source": [
    "Notice that this time we only got the strings that match the period and not every other character."
   ]
  },
  {
   "cell_type": "markdown",
   "metadata": {},
   "source": [
    "<a id=\"meta2\"></a>\n",
    "## 4. Introducing more metacharacters\n",
    "\n",
    "Here is a list of some of the most common metacharacters that are used commonly. Remember, a metacharacter is a character that has a special meaning during pattern processing.\n",
    "\n",
    "```\n",
    ".  - any character but the new line\n",
    "\\d - digits 0 to 9\n",
    "\\D - not a digit\n",
    "\\w - word characters (a-z, A-Z, 0-9, _)\n",
    "\\W - not a word character\n",
    "\\s - whitespace (tab, space, newline)\n",
    "\\S - not whitespace\n",
    "```"
   ]
  },
  {
   "cell_type": "code",
   "execution_count": 19,
   "metadata": {},
   "outputs": [
    {
     "name": "stdout",
     "output_type": "stream",
     "text": [
      "<re.Match object; span=(55, 56), match='0'>\n",
      "<re.Match object; span=(56, 57), match='1'>\n",
      "<re.Match object; span=(57, 58), match='2'>\n",
      "<re.Match object; span=(58, 59), match='3'>\n",
      "<re.Match object; span=(59, 60), match='4'>\n",
      "<re.Match object; span=(60, 61), match='5'>\n",
      "<re.Match object; span=(61, 62), match='6'>\n",
      "<re.Match object; span=(62, 63), match='7'>\n",
      "<re.Match object; span=(63, 64), match='8'>\n",
      "<re.Match object; span=(64, 65), match='9'>\n",
      "<re.Match object; span=(186, 187), match='7'>\n",
      "<re.Match object; span=(187, 188), match='8'>\n",
      "<re.Match object; span=(188, 189), match='1'>\n",
      "<re.Match object; span=(190, 191), match='2'>\n",
      "<re.Match object; span=(191, 192), match='8'>\n",
      "<re.Match object; span=(192, 193), match='3'>\n",
      "<re.Match object; span=(194, 195), match='3'>\n",
      "<re.Match object; span=(195, 196), match='1'>\n",
      "<re.Match object; span=(196, 197), match='9'>\n",
      "<re.Match object; span=(197, 198), match='0'>\n",
      "<re.Match object; span=(199, 200), match='8'>\n",
      "<re.Match object; span=(200, 201), match='0'>\n",
      "<re.Match object; span=(201, 202), match='0'>\n",
      "<re.Match object; span=(203, 204), match='2'>\n",
      "<re.Match object; span=(204, 205), match='5'>\n",
      "<re.Match object; span=(205, 206), match='5'>\n",
      "<re.Match object; span=(207, 208), match='4'>\n",
      "<re.Match object; span=(208, 209), match='3'>\n",
      "<re.Match object; span=(209, 210), match='9'>\n",
      "<re.Match object; span=(210, 211), match='8'>\n",
      "<re.Match object; span=(212, 213), match='7'>\n",
      "<re.Match object; span=(213, 214), match='8'>\n",
      "<re.Match object; span=(214, 215), match='1'>\n",
      "<re.Match object; span=(216, 217), match='3'>\n",
      "<re.Match object; span=(217, 218), match='0'>\n",
      "<re.Match object; span=(218, 219), match='5'>\n",
      "<re.Match object; span=(220, 221), match='0'>\n",
      "<re.Match object; span=(221, 222), match='0'>\n",
      "<re.Match object; span=(222, 223), match='0'>\n",
      "<re.Match object; span=(223, 224), match='0'>\n"
     ]
    }
   ],
   "source": [
    "pattern = re.compile('\\d')\n",
    "for p in pattern.finditer(someText):\n",
    "    print(p)"
   ]
  },
  {
   "cell_type": "markdown",
   "metadata": {},
   "source": [
    "We can see that `\\d`  matches every digit, but `\\D` does the opposite and matches every non-digit:"
   ]
  },
  {
   "cell_type": "code",
   "execution_count": 20,
   "metadata": {},
   "outputs": [
    {
     "name": "stdout",
     "output_type": "stream",
     "text": [
      "<re.Match object; span=(0, 1), match='\\n'>\n",
      "<re.Match object; span=(1, 2), match='a'>\n",
      "<re.Match object; span=(2, 3), match='b'>\n",
      "<re.Match object; span=(3, 4), match='c'>\n",
      "<re.Match object; span=(4, 5), match='d'>\n",
      "<re.Match object; span=(5, 6), match='e'>\n",
      "<re.Match object; span=(6, 7), match='f'>\n",
      "<re.Match object; span=(7, 8), match='g'>\n",
      "<re.Match object; span=(8, 9), match='h'>\n",
      "<re.Match object; span=(9, 10), match='i'>\n",
      "<re.Match object; span=(10, 11), match='j'>\n",
      "<re.Match object; span=(11, 12), match='k'>\n",
      "<re.Match object; span=(12, 13), match='l'>\n",
      "<re.Match object; span=(13, 14), match='m'>\n",
      "<re.Match object; span=(14, 15), match='n'>\n",
      "<re.Match object; span=(15, 16), match='o'>\n",
      "<re.Match object; span=(16, 17), match='p'>\n",
      "<re.Match object; span=(17, 18), match='q'>\n",
      "<re.Match object; span=(18, 19), match='r'>\n",
      "<re.Match object; span=(19, 20), match='s'>\n",
      "<re.Match object; span=(20, 21), match='t'>\n",
      "<re.Match object; span=(21, 22), match='u'>\n",
      "<re.Match object; span=(22, 23), match='v'>\n",
      "<re.Match object; span=(23, 24), match='w'>\n",
      "<re.Match object; span=(24, 25), match='x'>\n",
      "<re.Match object; span=(25, 26), match='y'>\n",
      "<re.Match object; span=(26, 27), match='z'>\n",
      "<re.Match object; span=(27, 28), match='\\n'>\n",
      "<re.Match object; span=(28, 29), match='A'>\n",
      "<re.Match object; span=(29, 30), match='B'>\n",
      "<re.Match object; span=(30, 31), match='C'>\n",
      "<re.Match object; span=(31, 32), match='D'>\n",
      "<re.Match object; span=(32, 33), match='E'>\n",
      "<re.Match object; span=(33, 34), match='F'>\n",
      "<re.Match object; span=(34, 35), match='G'>\n",
      "<re.Match object; span=(35, 36), match='H'>\n",
      "<re.Match object; span=(36, 37), match='I'>\n",
      "<re.Match object; span=(37, 38), match='J'>\n",
      "<re.Match object; span=(38, 39), match='K'>\n",
      "<re.Match object; span=(39, 40), match='L'>\n",
      "<re.Match object; span=(40, 41), match='M'>\n",
      "<re.Match object; span=(41, 42), match='N'>\n",
      "<re.Match object; span=(42, 43), match='O'>\n",
      "<re.Match object; span=(43, 44), match='P'>\n",
      "<re.Match object; span=(44, 45), match='Q'>\n",
      "<re.Match object; span=(45, 46), match='R'>\n",
      "<re.Match object; span=(46, 47), match='S'>\n",
      "<re.Match object; span=(47, 48), match='T'>\n",
      "<re.Match object; span=(48, 49), match='U'>\n",
      "<re.Match object; span=(49, 50), match='V'>\n",
      "<re.Match object; span=(50, 51), match='W'>\n",
      "<re.Match object; span=(51, 52), match='X'>\n",
      "<re.Match object; span=(52, 53), match='Y'>\n",
      "<re.Match object; span=(53, 54), match='Z'>\n",
      "<re.Match object; span=(54, 55), match='\\n'>\n",
      "<re.Match object; span=(65, 66), match='\\n'>\n",
      "<re.Match object; span=(66, 67), match='\\n'>\n",
      "<re.Match object; span=(67, 68), match='w'>\n",
      "<re.Match object; span=(68, 69), match='e'>\n",
      "<re.Match object; span=(69, 70), match='n'>\n",
      "<re.Match object; span=(70, 71), match='d'>\n",
      "<re.Match object; span=(71, 72), match='y'>\n",
      "<re.Match object; span=(72, 73), match='@'>\n",
      "<re.Match object; span=(73, 74), match='w'>\n",
      "<re.Match object; span=(74, 75), match='e'>\n",
      "<re.Match object; span=(75, 76), match='l'>\n",
      "<re.Match object; span=(76, 77), match='l'>\n",
      "<re.Match object; span=(77, 78), match='e'>\n",
      "<re.Match object; span=(78, 79), match='s'>\n",
      "<re.Match object; span=(79, 80), match='l'>\n",
      "<re.Match object; span=(80, 81), match='e'>\n",
      "<re.Match object; span=(81, 82), match='y'>\n",
      "<re.Match object; span=(82, 83), match='.'>\n",
      "<re.Match object; span=(83, 84), match='e'>\n",
      "<re.Match object; span=(84, 85), match='d'>\n",
      "<re.Match object; span=(85, 86), match='u'>\n",
      "<re.Match object; span=(86, 87), match='\\n'>\n",
      "<re.Match object; span=(87, 88), match='w'>\n",
      "<re.Match object; span=(88, 89), match='w'>\n",
      "<re.Match object; span=(89, 90), match='w'>\n",
      "<re.Match object; span=(90, 91), match='.'>\n",
      "<re.Match object; span=(91, 92), match='w'>\n",
      "<re.Match object; span=(92, 93), match='e'>\n",
      "<re.Match object; span=(93, 94), match='l'>\n",
      "<re.Match object; span=(94, 95), match='l'>\n",
      "<re.Match object; span=(95, 96), match='e'>\n",
      "<re.Match object; span=(96, 97), match='s'>\n",
      "<re.Match object; span=(97, 98), match='l'>\n",
      "<re.Match object; span=(98, 99), match='e'>\n",
      "<re.Match object; span=(99, 100), match='y'>\n",
      "<re.Match object; span=(100, 101), match='.'>\n",
      "<re.Match object; span=(101, 102), match='e'>\n",
      "<re.Match object; span=(102, 103), match='d'>\n",
      "<re.Match object; span=(103, 104), match='u'>\n",
      "<re.Match object; span=(104, 105), match='\\n'>\n",
      "<re.Match object; span=(105, 106), match='\\n'>\n",
      "<re.Match object; span=(106, 107), match='o'>\n",
      "<re.Match object; span=(107, 108), match='h'>\n",
      "<re.Match object; span=(108, 109), match=' '>\n",
      "<re.Match object; span=(109, 110), match='o'>\n",
      "<re.Match object; span=(110, 111), match='h'>\n",
      "<re.Match object; span=(111, 112), match='o'>\n",
      "<re.Match object; span=(112, 113), match='h'>\n",
      "<re.Match object; span=(113, 114), match='o'>\n",
      "<re.Match object; span=(114, 115), match='h'>\n",
      "<re.Match object; span=(115, 116), match='\\n'>\n",
      "<re.Match object; span=(116, 117), match='\\n'>\n",
      "<re.Match object; span=(117, 118), match='M'>\n",
      "<re.Match object; span=(118, 119), match='e'>\n",
      "<re.Match object; span=(119, 120), match='t'>\n",
      "<re.Match object; span=(120, 121), match='a'>\n",
      "<re.Match object; span=(121, 122), match='c'>\n",
      "<re.Match object; span=(122, 123), match='h'>\n",
      "<re.Match object; span=(123, 124), match='a'>\n",
      "<re.Match object; span=(124, 125), match='r'>\n",
      "<re.Match object; span=(125, 126), match='a'>\n",
      "<re.Match object; span=(126, 127), match='c'>\n",
      "<re.Match object; span=(127, 128), match='t'>\n",
      "<re.Match object; span=(128, 129), match='e'>\n",
      "<re.Match object; span=(129, 130), match='r'>\n",
      "<re.Match object; span=(130, 131), match='s'>\n",
      "<re.Match object; span=(131, 132), match=' '>\n",
      "<re.Match object; span=(132, 133), match='t'>\n",
      "<re.Match object; span=(133, 134), match='h'>\n",
      "<re.Match object; span=(134, 135), match='a'>\n",
      "<re.Match object; span=(135, 136), match='t'>\n",
      "<re.Match object; span=(136, 137), match=' '>\n",
      "<re.Match object; span=(137, 138), match='n'>\n",
      "<re.Match object; span=(138, 139), match='e'>\n",
      "<re.Match object; span=(139, 140), match='e'>\n",
      "<re.Match object; span=(140, 141), match='d'>\n",
      "<re.Match object; span=(141, 142), match=' '>\n",
      "<re.Match object; span=(142, 143), match='t'>\n",
      "<re.Match object; span=(143, 144), match='o'>\n",
      "<re.Match object; span=(144, 145), match=' '>\n",
      "<re.Match object; span=(145, 146), match='b'>\n",
      "<re.Match object; span=(146, 147), match='e'>\n",
      "<re.Match object; span=(147, 148), match=' '>\n",
      "<re.Match object; span=(148, 149), match='e'>\n",
      "<re.Match object; span=(149, 150), match='s'>\n",
      "<re.Match object; span=(150, 151), match='c'>\n",
      "<re.Match object; span=(151, 152), match='a'>\n",
      "<re.Match object; span=(152, 153), match='p'>\n",
      "<re.Match object; span=(153, 154), match='e'>\n",
      "<re.Match object; span=(154, 155), match='d'>\n",
      "<re.Match object; span=(155, 156), match='\\n'>\n",
      "<re.Match object; span=(156, 157), match='\\n'>\n",
      "<re.Match object; span=(157, 158), match='.'>\n",
      "<re.Match object; span=(158, 159), match=' '>\n",
      "<re.Match object; span=(159, 160), match='^'>\n",
      "<re.Match object; span=(160, 161), match=' '>\n",
      "<re.Match object; span=(161, 162), match='$'>\n",
      "<re.Match object; span=(162, 163), match=' '>\n",
      "<re.Match object; span=(163, 164), match='*'>\n",
      "<re.Match object; span=(164, 165), match=' '>\n",
      "<re.Match object; span=(165, 166), match='+'>\n",
      "<re.Match object; span=(166, 167), match=' '>\n",
      "<re.Match object; span=(167, 168), match='?'>\n",
      "<re.Match object; span=(168, 169), match=' '>\n",
      "<re.Match object; span=(169, 170), match='{'>\n",
      "<re.Match object; span=(170, 171), match=' '>\n",
      "<re.Match object; span=(171, 172), match='}'>\n",
      "<re.Match object; span=(172, 173), match=' '>\n",
      "<re.Match object; span=(173, 174), match='['>\n",
      "<re.Match object; span=(174, 175), match=' '>\n",
      "<re.Match object; span=(175, 176), match=']'>\n",
      "<re.Match object; span=(176, 177), match=' '>\n",
      "<re.Match object; span=(177, 178), match='\\\\'>\n",
      "<re.Match object; span=(178, 179), match=' '>\n",
      "<re.Match object; span=(179, 180), match='|'>\n",
      "<re.Match object; span=(180, 181), match=' '>\n",
      "<re.Match object; span=(181, 182), match='('>\n",
      "<re.Match object; span=(182, 183), match=' '>\n",
      "<re.Match object; span=(183, 184), match=')'>\n",
      "<re.Match object; span=(184, 185), match='\\n'>\n",
      "<re.Match object; span=(185, 186), match='\\n'>\n",
      "<re.Match object; span=(189, 190), match='-'>\n",
      "<re.Match object; span=(193, 194), match='-'>\n",
      "<re.Match object; span=(198, 199), match='\\n'>\n",
      "<re.Match object; span=(202, 203), match='.'>\n",
      "<re.Match object; span=(206, 207), match='.'>\n",
      "<re.Match object; span=(211, 212), match='\\n'>\n",
      "<re.Match object; span=(215, 216), match=' '>\n",
      "<re.Match object; span=(219, 220), match=' '>\n",
      "<re.Match object; span=(224, 225), match='\\n'>\n",
      "<re.Match object; span=(225, 226), match='\\n'>\n",
      "<re.Match object; span=(226, 227), match='M'>\n",
      "<re.Match object; span=(227, 228), match='r'>\n",
      "<re.Match object; span=(228, 229), match='s'>\n",
      "<re.Match object; span=(229, 230), match='.'>\n",
      "<re.Match object; span=(230, 231), match=' '>\n",
      "<re.Match object; span=(231, 232), match='R'>\n",
      "<re.Match object; span=(232, 233), match='o'>\n",
      "<re.Match object; span=(233, 234), match='b'>\n",
      "<re.Match object; span=(234, 235), match='i'>\n",
      "<re.Match object; span=(235, 236), match='n'>\n",
      "<re.Match object; span=(236, 237), match='s'>\n",
      "<re.Match object; span=(237, 238), match='o'>\n",
      "<re.Match object; span=(238, 239), match='n'>\n",
      "<re.Match object; span=(239, 240), match='\\n'>\n",
      "<re.Match object; span=(240, 241), match='M'>\n",
      "<re.Match object; span=(241, 242), match='s'>\n",
      "<re.Match object; span=(242, 243), match=' '>\n",
      "<re.Match object; span=(243, 244), match='G'>\n",
      "<re.Match object; span=(244, 245), match='a'>\n",
      "<re.Match object; span=(245, 246), match='r'>\n",
      "<re.Match object; span=(246, 247), match='d'>\n",
      "<re.Match object; span=(247, 248), match='n'>\n",
      "<re.Match object; span=(248, 249), match='e'>\n",
      "<re.Match object; span=(249, 250), match='r'>\n",
      "<re.Match object; span=(250, 251), match='\\n'>\n",
      "<re.Match object; span=(251, 252), match='M'>\n",
      "<re.Match object; span=(252, 253), match='r'>\n",
      "<re.Match object; span=(253, 254), match=' '>\n",
      "<re.Match object; span=(254, 255), match='P'>\n",
      "<re.Match object; span=(255, 256), match='o'>\n",
      "<re.Match object; span=(256, 257), match='t'>\n",
      "<re.Match object; span=(257, 258), match='t'>\n",
      "<re.Match object; span=(258, 259), match='e'>\n",
      "<re.Match object; span=(259, 260), match='r'>\n",
      "<re.Match object; span=(260, 261), match='\\n'>\n",
      "<re.Match object; span=(261, 262), match='M'>\n",
      "<re.Match object; span=(262, 263), match='r'>\n",
      "<re.Match object; span=(263, 264), match='.'>\n",
      "<re.Match object; span=(264, 265), match=' '>\n",
      "<re.Match object; span=(265, 266), match='B'>\n",
      "<re.Match object; span=(266, 267), match='o'>\n",
      "<re.Match object; span=(267, 268), match='n'>\n",
      "<re.Match object; span=(268, 269), match='d'>\n",
      "<re.Match object; span=(269, 270), match='\\n'>\n",
      "<re.Match object; span=(270, 271), match='M'>\n",
      "<re.Match object; span=(271, 272), match='r'>\n",
      "<re.Match object; span=(272, 273), match=' '>\n",
      "<re.Match object; span=(273, 274), match='T'>\n",
      "<re.Match object; span=(274, 275), match='\\n'>\n",
      "<re.Match object; span=(275, 276), match='\\n'>\n",
      "<re.Match object; span=(276, 277), match='e'>\n",
      "<re.Match object; span=(277, 278), match='-'>\n",
      "<re.Match object; span=(278, 279), match='m'>\n",
      "<re.Match object; span=(279, 280), match='a'>\n",
      "<re.Match object; span=(280, 281), match='i'>\n",
      "<re.Match object; span=(281, 282), match='l'>\n",
      "<re.Match object; span=(282, 283), match=' '>\n",
      "<re.Match object; span=(283, 284), match='f'>\n",
      "<re.Match object; span=(284, 285), match='o'>\n",
      "<re.Match object; span=(285, 286), match='r'>\n",
      "<re.Match object; span=(286, 287), match=' '>\n",
      "<re.Match object; span=(287, 288), match='u'>\n",
      "<re.Match object; span=(288, 289), match='p'>\n",
      "<re.Match object; span=(289, 290), match='-'>\n",
      "<re.Match object; span=(290, 291), match='t'>\n",
      "<re.Match object; span=(291, 292), match='o'>\n",
      "<re.Match object; span=(292, 293), match='-'>\n",
      "<re.Match object; span=(293, 294), match='d'>\n",
      "<re.Match object; span=(294, 295), match='a'>\n",
      "<re.Match object; span=(295, 296), match='t'>\n",
      "<re.Match object; span=(296, 297), match='e'>\n",
      "<re.Match object; span=(297, 298), match=' '>\n",
      "<re.Match object; span=(298, 299), match='n'>\n",
      "<re.Match object; span=(299, 300), match='e'>\n",
      "<re.Match object; span=(300, 301), match='w'>\n",
      "<re.Match object; span=(301, 302), match='s'>\n",
      "<re.Match object; span=(302, 303), match='\\n'>\n",
      "<re.Match object; span=(303, 304), match='o'>\n",
      "<re.Match object; span=(304, 305), match='u'>\n",
      "<re.Match object; span=(305, 306), match='r'>\n",
      "<re.Match object; span=(306, 307), match='_'>\n",
      "<re.Match object; span=(307, 308), match='v'>\n",
      "<re.Match object; span=(308, 309), match='a'>\n",
      "<re.Match object; span=(309, 310), match='l'>\n",
      "<re.Match object; span=(310, 311), match='u'>\n",
      "<re.Match object; span=(311, 312), match='e'>\n",
      "<re.Match object; span=(312, 313), match='s'>\n",
      "<re.Match object; span=(313, 314), match='\\n'>\n"
     ]
    }
   ],
   "source": [
    "pattern = re.compile('\\D')\n",
    "for p in pattern.finditer(someText):\n",
    "    print(p)"
   ]
  },
  {
   "cell_type": "markdown",
   "metadata": {},
   "source": [
    "Meanwhile, `\\w` matches every word character (letters, digits, and undercore):"
   ]
  },
  {
   "cell_type": "code",
   "execution_count": 21,
   "metadata": {},
   "outputs": [
    {
     "name": "stdout",
     "output_type": "stream",
     "text": [
      "<re.Match object; span=(1, 2), match='a'>\n",
      "<re.Match object; span=(2, 3), match='b'>\n",
      "<re.Match object; span=(3, 4), match='c'>\n",
      "<re.Match object; span=(4, 5), match='d'>\n",
      "<re.Match object; span=(5, 6), match='e'>\n",
      "<re.Match object; span=(6, 7), match='f'>\n",
      "<re.Match object; span=(7, 8), match='g'>\n",
      "<re.Match object; span=(8, 9), match='h'>\n",
      "<re.Match object; span=(9, 10), match='i'>\n",
      "<re.Match object; span=(10, 11), match='j'>\n",
      "<re.Match object; span=(11, 12), match='k'>\n",
      "<re.Match object; span=(12, 13), match='l'>\n",
      "<re.Match object; span=(13, 14), match='m'>\n",
      "<re.Match object; span=(14, 15), match='n'>\n",
      "<re.Match object; span=(15, 16), match='o'>\n",
      "<re.Match object; span=(16, 17), match='p'>\n",
      "<re.Match object; span=(17, 18), match='q'>\n",
      "<re.Match object; span=(18, 19), match='r'>\n",
      "<re.Match object; span=(19, 20), match='s'>\n",
      "<re.Match object; span=(20, 21), match='t'>\n",
      "<re.Match object; span=(21, 22), match='u'>\n",
      "<re.Match object; span=(22, 23), match='v'>\n",
      "<re.Match object; span=(23, 24), match='w'>\n",
      "<re.Match object; span=(24, 25), match='x'>\n",
      "<re.Match object; span=(25, 26), match='y'>\n",
      "<re.Match object; span=(26, 27), match='z'>\n",
      "<re.Match object; span=(28, 29), match='A'>\n",
      "<re.Match object; span=(29, 30), match='B'>\n",
      "<re.Match object; span=(30, 31), match='C'>\n",
      "<re.Match object; span=(31, 32), match='D'>\n",
      "<re.Match object; span=(32, 33), match='E'>\n",
      "<re.Match object; span=(33, 34), match='F'>\n",
      "<re.Match object; span=(34, 35), match='G'>\n",
      "<re.Match object; span=(35, 36), match='H'>\n",
      "<re.Match object; span=(36, 37), match='I'>\n",
      "<re.Match object; span=(37, 38), match='J'>\n",
      "<re.Match object; span=(38, 39), match='K'>\n",
      "<re.Match object; span=(39, 40), match='L'>\n",
      "<re.Match object; span=(40, 41), match='M'>\n",
      "<re.Match object; span=(41, 42), match='N'>\n",
      "<re.Match object; span=(42, 43), match='O'>\n",
      "<re.Match object; span=(43, 44), match='P'>\n",
      "<re.Match object; span=(44, 45), match='Q'>\n",
      "<re.Match object; span=(45, 46), match='R'>\n",
      "<re.Match object; span=(46, 47), match='S'>\n",
      "<re.Match object; span=(47, 48), match='T'>\n",
      "<re.Match object; span=(48, 49), match='U'>\n",
      "<re.Match object; span=(49, 50), match='V'>\n",
      "<re.Match object; span=(50, 51), match='W'>\n",
      "<re.Match object; span=(51, 52), match='X'>\n",
      "<re.Match object; span=(52, 53), match='Y'>\n",
      "<re.Match object; span=(53, 54), match='Z'>\n",
      "<re.Match object; span=(55, 56), match='0'>\n",
      "<re.Match object; span=(56, 57), match='1'>\n",
      "<re.Match object; span=(57, 58), match='2'>\n",
      "<re.Match object; span=(58, 59), match='3'>\n",
      "<re.Match object; span=(59, 60), match='4'>\n",
      "<re.Match object; span=(60, 61), match='5'>\n",
      "<re.Match object; span=(61, 62), match='6'>\n",
      "<re.Match object; span=(62, 63), match='7'>\n",
      "<re.Match object; span=(63, 64), match='8'>\n",
      "<re.Match object; span=(64, 65), match='9'>\n",
      "<re.Match object; span=(67, 68), match='w'>\n",
      "<re.Match object; span=(68, 69), match='e'>\n",
      "<re.Match object; span=(69, 70), match='n'>\n",
      "<re.Match object; span=(70, 71), match='d'>\n",
      "<re.Match object; span=(71, 72), match='y'>\n",
      "<re.Match object; span=(73, 74), match='w'>\n",
      "<re.Match object; span=(74, 75), match='e'>\n",
      "<re.Match object; span=(75, 76), match='l'>\n",
      "<re.Match object; span=(76, 77), match='l'>\n",
      "<re.Match object; span=(77, 78), match='e'>\n",
      "<re.Match object; span=(78, 79), match='s'>\n",
      "<re.Match object; span=(79, 80), match='l'>\n",
      "<re.Match object; span=(80, 81), match='e'>\n",
      "<re.Match object; span=(81, 82), match='y'>\n",
      "<re.Match object; span=(83, 84), match='e'>\n",
      "<re.Match object; span=(84, 85), match='d'>\n",
      "<re.Match object; span=(85, 86), match='u'>\n",
      "<re.Match object; span=(87, 88), match='w'>\n",
      "<re.Match object; span=(88, 89), match='w'>\n",
      "<re.Match object; span=(89, 90), match='w'>\n",
      "<re.Match object; span=(91, 92), match='w'>\n",
      "<re.Match object; span=(92, 93), match='e'>\n",
      "<re.Match object; span=(93, 94), match='l'>\n",
      "<re.Match object; span=(94, 95), match='l'>\n",
      "<re.Match object; span=(95, 96), match='e'>\n",
      "<re.Match object; span=(96, 97), match='s'>\n",
      "<re.Match object; span=(97, 98), match='l'>\n",
      "<re.Match object; span=(98, 99), match='e'>\n",
      "<re.Match object; span=(99, 100), match='y'>\n",
      "<re.Match object; span=(101, 102), match='e'>\n",
      "<re.Match object; span=(102, 103), match='d'>\n",
      "<re.Match object; span=(103, 104), match='u'>\n",
      "<re.Match object; span=(106, 107), match='o'>\n",
      "<re.Match object; span=(107, 108), match='h'>\n",
      "<re.Match object; span=(109, 110), match='o'>\n",
      "<re.Match object; span=(110, 111), match='h'>\n",
      "<re.Match object; span=(111, 112), match='o'>\n",
      "<re.Match object; span=(112, 113), match='h'>\n",
      "<re.Match object; span=(113, 114), match='o'>\n",
      "<re.Match object; span=(114, 115), match='h'>\n",
      "<re.Match object; span=(117, 118), match='M'>\n",
      "<re.Match object; span=(118, 119), match='e'>\n",
      "<re.Match object; span=(119, 120), match='t'>\n",
      "<re.Match object; span=(120, 121), match='a'>\n",
      "<re.Match object; span=(121, 122), match='c'>\n",
      "<re.Match object; span=(122, 123), match='h'>\n",
      "<re.Match object; span=(123, 124), match='a'>\n",
      "<re.Match object; span=(124, 125), match='r'>\n",
      "<re.Match object; span=(125, 126), match='a'>\n",
      "<re.Match object; span=(126, 127), match='c'>\n",
      "<re.Match object; span=(127, 128), match='t'>\n",
      "<re.Match object; span=(128, 129), match='e'>\n",
      "<re.Match object; span=(129, 130), match='r'>\n",
      "<re.Match object; span=(130, 131), match='s'>\n",
      "<re.Match object; span=(132, 133), match='t'>\n",
      "<re.Match object; span=(133, 134), match='h'>\n",
      "<re.Match object; span=(134, 135), match='a'>\n",
      "<re.Match object; span=(135, 136), match='t'>\n",
      "<re.Match object; span=(137, 138), match='n'>\n",
      "<re.Match object; span=(138, 139), match='e'>\n",
      "<re.Match object; span=(139, 140), match='e'>\n",
      "<re.Match object; span=(140, 141), match='d'>\n",
      "<re.Match object; span=(142, 143), match='t'>\n",
      "<re.Match object; span=(143, 144), match='o'>\n",
      "<re.Match object; span=(145, 146), match='b'>\n",
      "<re.Match object; span=(146, 147), match='e'>\n",
      "<re.Match object; span=(148, 149), match='e'>\n",
      "<re.Match object; span=(149, 150), match='s'>\n",
      "<re.Match object; span=(150, 151), match='c'>\n",
      "<re.Match object; span=(151, 152), match='a'>\n",
      "<re.Match object; span=(152, 153), match='p'>\n",
      "<re.Match object; span=(153, 154), match='e'>\n",
      "<re.Match object; span=(154, 155), match='d'>\n",
      "<re.Match object; span=(186, 187), match='7'>\n",
      "<re.Match object; span=(187, 188), match='8'>\n",
      "<re.Match object; span=(188, 189), match='1'>\n",
      "<re.Match object; span=(190, 191), match='2'>\n",
      "<re.Match object; span=(191, 192), match='8'>\n",
      "<re.Match object; span=(192, 193), match='3'>\n",
      "<re.Match object; span=(194, 195), match='3'>\n",
      "<re.Match object; span=(195, 196), match='1'>\n",
      "<re.Match object; span=(196, 197), match='9'>\n",
      "<re.Match object; span=(197, 198), match='0'>\n",
      "<re.Match object; span=(199, 200), match='8'>\n",
      "<re.Match object; span=(200, 201), match='0'>\n",
      "<re.Match object; span=(201, 202), match='0'>\n",
      "<re.Match object; span=(203, 204), match='2'>\n",
      "<re.Match object; span=(204, 205), match='5'>\n",
      "<re.Match object; span=(205, 206), match='5'>\n",
      "<re.Match object; span=(207, 208), match='4'>\n",
      "<re.Match object; span=(208, 209), match='3'>\n",
      "<re.Match object; span=(209, 210), match='9'>\n",
      "<re.Match object; span=(210, 211), match='8'>\n",
      "<re.Match object; span=(212, 213), match='7'>\n",
      "<re.Match object; span=(213, 214), match='8'>\n",
      "<re.Match object; span=(214, 215), match='1'>\n",
      "<re.Match object; span=(216, 217), match='3'>\n",
      "<re.Match object; span=(217, 218), match='0'>\n",
      "<re.Match object; span=(218, 219), match='5'>\n",
      "<re.Match object; span=(220, 221), match='0'>\n",
      "<re.Match object; span=(221, 222), match='0'>\n",
      "<re.Match object; span=(222, 223), match='0'>\n",
      "<re.Match object; span=(223, 224), match='0'>\n",
      "<re.Match object; span=(226, 227), match='M'>\n",
      "<re.Match object; span=(227, 228), match='r'>\n",
      "<re.Match object; span=(228, 229), match='s'>\n",
      "<re.Match object; span=(231, 232), match='R'>\n",
      "<re.Match object; span=(232, 233), match='o'>\n",
      "<re.Match object; span=(233, 234), match='b'>\n",
      "<re.Match object; span=(234, 235), match='i'>\n",
      "<re.Match object; span=(235, 236), match='n'>\n",
      "<re.Match object; span=(236, 237), match='s'>\n",
      "<re.Match object; span=(237, 238), match='o'>\n",
      "<re.Match object; span=(238, 239), match='n'>\n",
      "<re.Match object; span=(240, 241), match='M'>\n",
      "<re.Match object; span=(241, 242), match='s'>\n",
      "<re.Match object; span=(243, 244), match='G'>\n",
      "<re.Match object; span=(244, 245), match='a'>\n",
      "<re.Match object; span=(245, 246), match='r'>\n",
      "<re.Match object; span=(246, 247), match='d'>\n",
      "<re.Match object; span=(247, 248), match='n'>\n",
      "<re.Match object; span=(248, 249), match='e'>\n",
      "<re.Match object; span=(249, 250), match='r'>\n",
      "<re.Match object; span=(251, 252), match='M'>\n",
      "<re.Match object; span=(252, 253), match='r'>\n",
      "<re.Match object; span=(254, 255), match='P'>\n",
      "<re.Match object; span=(255, 256), match='o'>\n",
      "<re.Match object; span=(256, 257), match='t'>\n",
      "<re.Match object; span=(257, 258), match='t'>\n",
      "<re.Match object; span=(258, 259), match='e'>\n",
      "<re.Match object; span=(259, 260), match='r'>\n",
      "<re.Match object; span=(261, 262), match='M'>\n",
      "<re.Match object; span=(262, 263), match='r'>\n",
      "<re.Match object; span=(265, 266), match='B'>\n",
      "<re.Match object; span=(266, 267), match='o'>\n",
      "<re.Match object; span=(267, 268), match='n'>\n",
      "<re.Match object; span=(268, 269), match='d'>\n",
      "<re.Match object; span=(270, 271), match='M'>\n",
      "<re.Match object; span=(271, 272), match='r'>\n",
      "<re.Match object; span=(273, 274), match='T'>\n",
      "<re.Match object; span=(276, 277), match='e'>\n",
      "<re.Match object; span=(278, 279), match='m'>\n",
      "<re.Match object; span=(279, 280), match='a'>\n",
      "<re.Match object; span=(280, 281), match='i'>\n",
      "<re.Match object; span=(281, 282), match='l'>\n",
      "<re.Match object; span=(283, 284), match='f'>\n",
      "<re.Match object; span=(284, 285), match='o'>\n",
      "<re.Match object; span=(285, 286), match='r'>\n",
      "<re.Match object; span=(287, 288), match='u'>\n",
      "<re.Match object; span=(288, 289), match='p'>\n",
      "<re.Match object; span=(290, 291), match='t'>\n",
      "<re.Match object; span=(291, 292), match='o'>\n",
      "<re.Match object; span=(293, 294), match='d'>\n",
      "<re.Match object; span=(294, 295), match='a'>\n",
      "<re.Match object; span=(295, 296), match='t'>\n",
      "<re.Match object; span=(296, 297), match='e'>\n",
      "<re.Match object; span=(298, 299), match='n'>\n",
      "<re.Match object; span=(299, 300), match='e'>\n",
      "<re.Match object; span=(300, 301), match='w'>\n",
      "<re.Match object; span=(301, 302), match='s'>\n",
      "<re.Match object; span=(303, 304), match='o'>\n",
      "<re.Match object; span=(304, 305), match='u'>\n",
      "<re.Match object; span=(305, 306), match='r'>\n",
      "<re.Match object; span=(306, 307), match='_'>\n",
      "<re.Match object; span=(307, 308), match='v'>\n",
      "<re.Match object; span=(308, 309), match='a'>\n",
      "<re.Match object; span=(309, 310), match='l'>\n",
      "<re.Match object; span=(310, 311), match='u'>\n",
      "<re.Match object; span=(311, 312), match='e'>\n",
      "<re.Match object; span=(312, 313), match='s'>\n"
     ]
    }
   ],
   "source": [
    "pattern = re.compile('\\w')\n",
    "for p in pattern.finditer(someText):\n",
    "    print(p)"
   ]
  },
  {
   "cell_type": "markdown",
   "metadata": {},
   "source": [
    "While `\\W` matches all non-word characters:"
   ]
  },
  {
   "cell_type": "code",
   "execution_count": 22,
   "metadata": {},
   "outputs": [
    {
     "name": "stdout",
     "output_type": "stream",
     "text": [
      "<re.Match object; span=(0, 1), match='\\n'>\n",
      "<re.Match object; span=(27, 28), match='\\n'>\n",
      "<re.Match object; span=(54, 55), match='\\n'>\n",
      "<re.Match object; span=(65, 66), match='\\n'>\n",
      "<re.Match object; span=(66, 67), match='\\n'>\n",
      "<re.Match object; span=(72, 73), match='@'>\n",
      "<re.Match object; span=(82, 83), match='.'>\n",
      "<re.Match object; span=(86, 87), match='\\n'>\n",
      "<re.Match object; span=(90, 91), match='.'>\n",
      "<re.Match object; span=(100, 101), match='.'>\n",
      "<re.Match object; span=(104, 105), match='\\n'>\n",
      "<re.Match object; span=(105, 106), match='\\n'>\n",
      "<re.Match object; span=(108, 109), match=' '>\n",
      "<re.Match object; span=(115, 116), match='\\n'>\n",
      "<re.Match object; span=(116, 117), match='\\n'>\n",
      "<re.Match object; span=(131, 132), match=' '>\n",
      "<re.Match object; span=(136, 137), match=' '>\n",
      "<re.Match object; span=(141, 142), match=' '>\n",
      "<re.Match object; span=(144, 145), match=' '>\n",
      "<re.Match object; span=(147, 148), match=' '>\n",
      "<re.Match object; span=(155, 156), match='\\n'>\n",
      "<re.Match object; span=(156, 157), match='\\n'>\n",
      "<re.Match object; span=(157, 158), match='.'>\n",
      "<re.Match object; span=(158, 159), match=' '>\n",
      "<re.Match object; span=(159, 160), match='^'>\n",
      "<re.Match object; span=(160, 161), match=' '>\n",
      "<re.Match object; span=(161, 162), match='$'>\n",
      "<re.Match object; span=(162, 163), match=' '>\n",
      "<re.Match object; span=(163, 164), match='*'>\n",
      "<re.Match object; span=(164, 165), match=' '>\n",
      "<re.Match object; span=(165, 166), match='+'>\n",
      "<re.Match object; span=(166, 167), match=' '>\n",
      "<re.Match object; span=(167, 168), match='?'>\n",
      "<re.Match object; span=(168, 169), match=' '>\n",
      "<re.Match object; span=(169, 170), match='{'>\n",
      "<re.Match object; span=(170, 171), match=' '>\n",
      "<re.Match object; span=(171, 172), match='}'>\n",
      "<re.Match object; span=(172, 173), match=' '>\n",
      "<re.Match object; span=(173, 174), match='['>\n",
      "<re.Match object; span=(174, 175), match=' '>\n",
      "<re.Match object; span=(175, 176), match=']'>\n",
      "<re.Match object; span=(176, 177), match=' '>\n",
      "<re.Match object; span=(177, 178), match='\\\\'>\n",
      "<re.Match object; span=(178, 179), match=' '>\n",
      "<re.Match object; span=(179, 180), match='|'>\n",
      "<re.Match object; span=(180, 181), match=' '>\n",
      "<re.Match object; span=(181, 182), match='('>\n",
      "<re.Match object; span=(182, 183), match=' '>\n",
      "<re.Match object; span=(183, 184), match=')'>\n",
      "<re.Match object; span=(184, 185), match='\\n'>\n",
      "<re.Match object; span=(185, 186), match='\\n'>\n",
      "<re.Match object; span=(189, 190), match='-'>\n",
      "<re.Match object; span=(193, 194), match='-'>\n",
      "<re.Match object; span=(198, 199), match='\\n'>\n",
      "<re.Match object; span=(202, 203), match='.'>\n",
      "<re.Match object; span=(206, 207), match='.'>\n",
      "<re.Match object; span=(211, 212), match='\\n'>\n",
      "<re.Match object; span=(215, 216), match=' '>\n",
      "<re.Match object; span=(219, 220), match=' '>\n",
      "<re.Match object; span=(224, 225), match='\\n'>\n",
      "<re.Match object; span=(225, 226), match='\\n'>\n",
      "<re.Match object; span=(229, 230), match='.'>\n",
      "<re.Match object; span=(230, 231), match=' '>\n",
      "<re.Match object; span=(239, 240), match='\\n'>\n",
      "<re.Match object; span=(242, 243), match=' '>\n",
      "<re.Match object; span=(250, 251), match='\\n'>\n",
      "<re.Match object; span=(253, 254), match=' '>\n",
      "<re.Match object; span=(260, 261), match='\\n'>\n",
      "<re.Match object; span=(263, 264), match='.'>\n",
      "<re.Match object; span=(264, 265), match=' '>\n",
      "<re.Match object; span=(269, 270), match='\\n'>\n",
      "<re.Match object; span=(272, 273), match=' '>\n",
      "<re.Match object; span=(274, 275), match='\\n'>\n",
      "<re.Match object; span=(275, 276), match='\\n'>\n",
      "<re.Match object; span=(277, 278), match='-'>\n",
      "<re.Match object; span=(282, 283), match=' '>\n",
      "<re.Match object; span=(286, 287), match=' '>\n",
      "<re.Match object; span=(289, 290), match='-'>\n",
      "<re.Match object; span=(292, 293), match='-'>\n",
      "<re.Match object; span=(297, 298), match=' '>\n",
      "<re.Match object; span=(302, 303), match='\\n'>\n",
      "<re.Match object; span=(313, 314), match='\\n'>\n"
     ]
    }
   ],
   "source": [
    "pattern = re.compile('\\W')\n",
    "for p in pattern.finditer(someText):\n",
    "    print(p)"
   ]
  },
  {
   "cell_type": "markdown",
   "metadata": {},
   "source": [
    "We can also match all space characters with `\\s`:"
   ]
  },
  {
   "cell_type": "code",
   "execution_count": 23,
   "metadata": {},
   "outputs": [
    {
     "name": "stdout",
     "output_type": "stream",
     "text": [
      "<re.Match object; span=(0, 1), match='\\n'>\n",
      "<re.Match object; span=(27, 28), match='\\n'>\n",
      "<re.Match object; span=(54, 55), match='\\n'>\n",
      "<re.Match object; span=(65, 66), match='\\n'>\n",
      "<re.Match object; span=(66, 67), match='\\n'>\n",
      "<re.Match object; span=(86, 87), match='\\n'>\n",
      "<re.Match object; span=(104, 105), match='\\n'>\n",
      "<re.Match object; span=(105, 106), match='\\n'>\n",
      "<re.Match object; span=(108, 109), match=' '>\n",
      "<re.Match object; span=(115, 116), match='\\n'>\n",
      "<re.Match object; span=(116, 117), match='\\n'>\n",
      "<re.Match object; span=(131, 132), match=' '>\n",
      "<re.Match object; span=(136, 137), match=' '>\n",
      "<re.Match object; span=(141, 142), match=' '>\n",
      "<re.Match object; span=(144, 145), match=' '>\n",
      "<re.Match object; span=(147, 148), match=' '>\n",
      "<re.Match object; span=(155, 156), match='\\n'>\n",
      "<re.Match object; span=(156, 157), match='\\n'>\n",
      "<re.Match object; span=(158, 159), match=' '>\n",
      "<re.Match object; span=(160, 161), match=' '>\n",
      "<re.Match object; span=(162, 163), match=' '>\n",
      "<re.Match object; span=(164, 165), match=' '>\n",
      "<re.Match object; span=(166, 167), match=' '>\n",
      "<re.Match object; span=(168, 169), match=' '>\n",
      "<re.Match object; span=(170, 171), match=' '>\n",
      "<re.Match object; span=(172, 173), match=' '>\n",
      "<re.Match object; span=(174, 175), match=' '>\n",
      "<re.Match object; span=(176, 177), match=' '>\n",
      "<re.Match object; span=(178, 179), match=' '>\n",
      "<re.Match object; span=(180, 181), match=' '>\n",
      "<re.Match object; span=(182, 183), match=' '>\n",
      "<re.Match object; span=(184, 185), match='\\n'>\n",
      "<re.Match object; span=(185, 186), match='\\n'>\n",
      "<re.Match object; span=(198, 199), match='\\n'>\n",
      "<re.Match object; span=(211, 212), match='\\n'>\n",
      "<re.Match object; span=(215, 216), match=' '>\n",
      "<re.Match object; span=(219, 220), match=' '>\n",
      "<re.Match object; span=(224, 225), match='\\n'>\n",
      "<re.Match object; span=(225, 226), match='\\n'>\n",
      "<re.Match object; span=(230, 231), match=' '>\n",
      "<re.Match object; span=(239, 240), match='\\n'>\n",
      "<re.Match object; span=(242, 243), match=' '>\n",
      "<re.Match object; span=(250, 251), match='\\n'>\n",
      "<re.Match object; span=(253, 254), match=' '>\n",
      "<re.Match object; span=(260, 261), match='\\n'>\n",
      "<re.Match object; span=(264, 265), match=' '>\n",
      "<re.Match object; span=(269, 270), match='\\n'>\n",
      "<re.Match object; span=(272, 273), match=' '>\n",
      "<re.Match object; span=(274, 275), match='\\n'>\n",
      "<re.Match object; span=(275, 276), match='\\n'>\n",
      "<re.Match object; span=(282, 283), match=' '>\n",
      "<re.Match object; span=(286, 287), match=' '>\n",
      "<re.Match object; span=(297, 298), match=' '>\n",
      "<re.Match object; span=(302, 303), match='\\n'>\n",
      "<re.Match object; span=(313, 314), match='\\n'>\n"
     ]
    }
   ],
   "source": [
    "pattern = re.compile('\\s')\n",
    "for p in pattern.finditer(someText):\n",
    "    print(p)"
   ]
  },
  {
   "cell_type": "markdown",
   "metadata": {},
   "source": [
    "While `\\S` will do the opposite and match all non-space characters."
   ]
  },
  {
   "cell_type": "code",
   "execution_count": 24,
   "metadata": {},
   "outputs": [
    {
     "name": "stdout",
     "output_type": "stream",
     "text": [
      "<re.Match object; span=(1, 2), match='a'>\n",
      "<re.Match object; span=(2, 3), match='b'>\n",
      "<re.Match object; span=(3, 4), match='c'>\n",
      "<re.Match object; span=(4, 5), match='d'>\n",
      "<re.Match object; span=(5, 6), match='e'>\n",
      "<re.Match object; span=(6, 7), match='f'>\n",
      "<re.Match object; span=(7, 8), match='g'>\n",
      "<re.Match object; span=(8, 9), match='h'>\n",
      "<re.Match object; span=(9, 10), match='i'>\n",
      "<re.Match object; span=(10, 11), match='j'>\n",
      "<re.Match object; span=(11, 12), match='k'>\n",
      "<re.Match object; span=(12, 13), match='l'>\n",
      "<re.Match object; span=(13, 14), match='m'>\n",
      "<re.Match object; span=(14, 15), match='n'>\n",
      "<re.Match object; span=(15, 16), match='o'>\n",
      "<re.Match object; span=(16, 17), match='p'>\n",
      "<re.Match object; span=(17, 18), match='q'>\n",
      "<re.Match object; span=(18, 19), match='r'>\n",
      "<re.Match object; span=(19, 20), match='s'>\n",
      "<re.Match object; span=(20, 21), match='t'>\n",
      "<re.Match object; span=(21, 22), match='u'>\n",
      "<re.Match object; span=(22, 23), match='v'>\n",
      "<re.Match object; span=(23, 24), match='w'>\n",
      "<re.Match object; span=(24, 25), match='x'>\n",
      "<re.Match object; span=(25, 26), match='y'>\n",
      "<re.Match object; span=(26, 27), match='z'>\n",
      "<re.Match object; span=(28, 29), match='A'>\n",
      "<re.Match object; span=(29, 30), match='B'>\n",
      "<re.Match object; span=(30, 31), match='C'>\n",
      "<re.Match object; span=(31, 32), match='D'>\n",
      "<re.Match object; span=(32, 33), match='E'>\n",
      "<re.Match object; span=(33, 34), match='F'>\n",
      "<re.Match object; span=(34, 35), match='G'>\n",
      "<re.Match object; span=(35, 36), match='H'>\n",
      "<re.Match object; span=(36, 37), match='I'>\n",
      "<re.Match object; span=(37, 38), match='J'>\n",
      "<re.Match object; span=(38, 39), match='K'>\n",
      "<re.Match object; span=(39, 40), match='L'>\n",
      "<re.Match object; span=(40, 41), match='M'>\n",
      "<re.Match object; span=(41, 42), match='N'>\n",
      "<re.Match object; span=(42, 43), match='O'>\n",
      "<re.Match object; span=(43, 44), match='P'>\n",
      "<re.Match object; span=(44, 45), match='Q'>\n",
      "<re.Match object; span=(45, 46), match='R'>\n",
      "<re.Match object; span=(46, 47), match='S'>\n",
      "<re.Match object; span=(47, 48), match='T'>\n",
      "<re.Match object; span=(48, 49), match='U'>\n",
      "<re.Match object; span=(49, 50), match='V'>\n",
      "<re.Match object; span=(50, 51), match='W'>\n",
      "<re.Match object; span=(51, 52), match='X'>\n",
      "<re.Match object; span=(52, 53), match='Y'>\n",
      "<re.Match object; span=(53, 54), match='Z'>\n",
      "<re.Match object; span=(55, 56), match='0'>\n",
      "<re.Match object; span=(56, 57), match='1'>\n",
      "<re.Match object; span=(57, 58), match='2'>\n",
      "<re.Match object; span=(58, 59), match='3'>\n",
      "<re.Match object; span=(59, 60), match='4'>\n",
      "<re.Match object; span=(60, 61), match='5'>\n",
      "<re.Match object; span=(61, 62), match='6'>\n",
      "<re.Match object; span=(62, 63), match='7'>\n",
      "<re.Match object; span=(63, 64), match='8'>\n",
      "<re.Match object; span=(64, 65), match='9'>\n",
      "<re.Match object; span=(67, 68), match='w'>\n",
      "<re.Match object; span=(68, 69), match='e'>\n",
      "<re.Match object; span=(69, 70), match='n'>\n",
      "<re.Match object; span=(70, 71), match='d'>\n",
      "<re.Match object; span=(71, 72), match='y'>\n",
      "<re.Match object; span=(72, 73), match='@'>\n",
      "<re.Match object; span=(73, 74), match='w'>\n",
      "<re.Match object; span=(74, 75), match='e'>\n",
      "<re.Match object; span=(75, 76), match='l'>\n",
      "<re.Match object; span=(76, 77), match='l'>\n",
      "<re.Match object; span=(77, 78), match='e'>\n",
      "<re.Match object; span=(78, 79), match='s'>\n",
      "<re.Match object; span=(79, 80), match='l'>\n",
      "<re.Match object; span=(80, 81), match='e'>\n",
      "<re.Match object; span=(81, 82), match='y'>\n",
      "<re.Match object; span=(82, 83), match='.'>\n",
      "<re.Match object; span=(83, 84), match='e'>\n",
      "<re.Match object; span=(84, 85), match='d'>\n",
      "<re.Match object; span=(85, 86), match='u'>\n",
      "<re.Match object; span=(87, 88), match='w'>\n",
      "<re.Match object; span=(88, 89), match='w'>\n",
      "<re.Match object; span=(89, 90), match='w'>\n",
      "<re.Match object; span=(90, 91), match='.'>\n",
      "<re.Match object; span=(91, 92), match='w'>\n",
      "<re.Match object; span=(92, 93), match='e'>\n",
      "<re.Match object; span=(93, 94), match='l'>\n",
      "<re.Match object; span=(94, 95), match='l'>\n",
      "<re.Match object; span=(95, 96), match='e'>\n",
      "<re.Match object; span=(96, 97), match='s'>\n",
      "<re.Match object; span=(97, 98), match='l'>\n",
      "<re.Match object; span=(98, 99), match='e'>\n",
      "<re.Match object; span=(99, 100), match='y'>\n",
      "<re.Match object; span=(100, 101), match='.'>\n",
      "<re.Match object; span=(101, 102), match='e'>\n",
      "<re.Match object; span=(102, 103), match='d'>\n",
      "<re.Match object; span=(103, 104), match='u'>\n",
      "<re.Match object; span=(106, 107), match='o'>\n",
      "<re.Match object; span=(107, 108), match='h'>\n",
      "<re.Match object; span=(109, 110), match='o'>\n",
      "<re.Match object; span=(110, 111), match='h'>\n",
      "<re.Match object; span=(111, 112), match='o'>\n",
      "<re.Match object; span=(112, 113), match='h'>\n",
      "<re.Match object; span=(113, 114), match='o'>\n",
      "<re.Match object; span=(114, 115), match='h'>\n",
      "<re.Match object; span=(117, 118), match='M'>\n",
      "<re.Match object; span=(118, 119), match='e'>\n",
      "<re.Match object; span=(119, 120), match='t'>\n",
      "<re.Match object; span=(120, 121), match='a'>\n",
      "<re.Match object; span=(121, 122), match='c'>\n",
      "<re.Match object; span=(122, 123), match='h'>\n",
      "<re.Match object; span=(123, 124), match='a'>\n",
      "<re.Match object; span=(124, 125), match='r'>\n",
      "<re.Match object; span=(125, 126), match='a'>\n",
      "<re.Match object; span=(126, 127), match='c'>\n",
      "<re.Match object; span=(127, 128), match='t'>\n",
      "<re.Match object; span=(128, 129), match='e'>\n",
      "<re.Match object; span=(129, 130), match='r'>\n",
      "<re.Match object; span=(130, 131), match='s'>\n",
      "<re.Match object; span=(132, 133), match='t'>\n",
      "<re.Match object; span=(133, 134), match='h'>\n",
      "<re.Match object; span=(134, 135), match='a'>\n",
      "<re.Match object; span=(135, 136), match='t'>\n",
      "<re.Match object; span=(137, 138), match='n'>\n",
      "<re.Match object; span=(138, 139), match='e'>\n",
      "<re.Match object; span=(139, 140), match='e'>\n",
      "<re.Match object; span=(140, 141), match='d'>\n",
      "<re.Match object; span=(142, 143), match='t'>\n",
      "<re.Match object; span=(143, 144), match='o'>\n",
      "<re.Match object; span=(145, 146), match='b'>\n",
      "<re.Match object; span=(146, 147), match='e'>\n",
      "<re.Match object; span=(148, 149), match='e'>\n",
      "<re.Match object; span=(149, 150), match='s'>\n",
      "<re.Match object; span=(150, 151), match='c'>\n",
      "<re.Match object; span=(151, 152), match='a'>\n",
      "<re.Match object; span=(152, 153), match='p'>\n",
      "<re.Match object; span=(153, 154), match='e'>\n",
      "<re.Match object; span=(154, 155), match='d'>\n",
      "<re.Match object; span=(157, 158), match='.'>\n",
      "<re.Match object; span=(159, 160), match='^'>\n",
      "<re.Match object; span=(161, 162), match='$'>\n",
      "<re.Match object; span=(163, 164), match='*'>\n",
      "<re.Match object; span=(165, 166), match='+'>\n",
      "<re.Match object; span=(167, 168), match='?'>\n",
      "<re.Match object; span=(169, 170), match='{'>\n",
      "<re.Match object; span=(171, 172), match='}'>\n",
      "<re.Match object; span=(173, 174), match='['>\n",
      "<re.Match object; span=(175, 176), match=']'>\n",
      "<re.Match object; span=(177, 178), match='\\\\'>\n",
      "<re.Match object; span=(179, 180), match='|'>\n",
      "<re.Match object; span=(181, 182), match='('>\n",
      "<re.Match object; span=(183, 184), match=')'>\n",
      "<re.Match object; span=(186, 187), match='7'>\n",
      "<re.Match object; span=(187, 188), match='8'>\n",
      "<re.Match object; span=(188, 189), match='1'>\n",
      "<re.Match object; span=(189, 190), match='-'>\n",
      "<re.Match object; span=(190, 191), match='2'>\n",
      "<re.Match object; span=(191, 192), match='8'>\n",
      "<re.Match object; span=(192, 193), match='3'>\n",
      "<re.Match object; span=(193, 194), match='-'>\n",
      "<re.Match object; span=(194, 195), match='3'>\n",
      "<re.Match object; span=(195, 196), match='1'>\n",
      "<re.Match object; span=(196, 197), match='9'>\n",
      "<re.Match object; span=(197, 198), match='0'>\n",
      "<re.Match object; span=(199, 200), match='8'>\n",
      "<re.Match object; span=(200, 201), match='0'>\n",
      "<re.Match object; span=(201, 202), match='0'>\n",
      "<re.Match object; span=(202, 203), match='.'>\n",
      "<re.Match object; span=(203, 204), match='2'>\n",
      "<re.Match object; span=(204, 205), match='5'>\n",
      "<re.Match object; span=(205, 206), match='5'>\n",
      "<re.Match object; span=(206, 207), match='.'>\n",
      "<re.Match object; span=(207, 208), match='4'>\n",
      "<re.Match object; span=(208, 209), match='3'>\n",
      "<re.Match object; span=(209, 210), match='9'>\n",
      "<re.Match object; span=(210, 211), match='8'>\n",
      "<re.Match object; span=(212, 213), match='7'>\n",
      "<re.Match object; span=(213, 214), match='8'>\n",
      "<re.Match object; span=(214, 215), match='1'>\n",
      "<re.Match object; span=(216, 217), match='3'>\n",
      "<re.Match object; span=(217, 218), match='0'>\n",
      "<re.Match object; span=(218, 219), match='5'>\n",
      "<re.Match object; span=(220, 221), match='0'>\n",
      "<re.Match object; span=(221, 222), match='0'>\n",
      "<re.Match object; span=(222, 223), match='0'>\n",
      "<re.Match object; span=(223, 224), match='0'>\n",
      "<re.Match object; span=(226, 227), match='M'>\n",
      "<re.Match object; span=(227, 228), match='r'>\n",
      "<re.Match object; span=(228, 229), match='s'>\n",
      "<re.Match object; span=(229, 230), match='.'>\n",
      "<re.Match object; span=(231, 232), match='R'>\n",
      "<re.Match object; span=(232, 233), match='o'>\n",
      "<re.Match object; span=(233, 234), match='b'>\n",
      "<re.Match object; span=(234, 235), match='i'>\n",
      "<re.Match object; span=(235, 236), match='n'>\n",
      "<re.Match object; span=(236, 237), match='s'>\n",
      "<re.Match object; span=(237, 238), match='o'>\n",
      "<re.Match object; span=(238, 239), match='n'>\n",
      "<re.Match object; span=(240, 241), match='M'>\n",
      "<re.Match object; span=(241, 242), match='s'>\n",
      "<re.Match object; span=(243, 244), match='G'>\n",
      "<re.Match object; span=(244, 245), match='a'>\n",
      "<re.Match object; span=(245, 246), match='r'>\n",
      "<re.Match object; span=(246, 247), match='d'>\n",
      "<re.Match object; span=(247, 248), match='n'>\n",
      "<re.Match object; span=(248, 249), match='e'>\n",
      "<re.Match object; span=(249, 250), match='r'>\n",
      "<re.Match object; span=(251, 252), match='M'>\n",
      "<re.Match object; span=(252, 253), match='r'>\n",
      "<re.Match object; span=(254, 255), match='P'>\n",
      "<re.Match object; span=(255, 256), match='o'>\n",
      "<re.Match object; span=(256, 257), match='t'>\n",
      "<re.Match object; span=(257, 258), match='t'>\n",
      "<re.Match object; span=(258, 259), match='e'>\n",
      "<re.Match object; span=(259, 260), match='r'>\n",
      "<re.Match object; span=(261, 262), match='M'>\n",
      "<re.Match object; span=(262, 263), match='r'>\n",
      "<re.Match object; span=(263, 264), match='.'>\n",
      "<re.Match object; span=(265, 266), match='B'>\n",
      "<re.Match object; span=(266, 267), match='o'>\n",
      "<re.Match object; span=(267, 268), match='n'>\n",
      "<re.Match object; span=(268, 269), match='d'>\n",
      "<re.Match object; span=(270, 271), match='M'>\n",
      "<re.Match object; span=(271, 272), match='r'>\n",
      "<re.Match object; span=(273, 274), match='T'>\n",
      "<re.Match object; span=(276, 277), match='e'>\n",
      "<re.Match object; span=(277, 278), match='-'>\n",
      "<re.Match object; span=(278, 279), match='m'>\n",
      "<re.Match object; span=(279, 280), match='a'>\n",
      "<re.Match object; span=(280, 281), match='i'>\n",
      "<re.Match object; span=(281, 282), match='l'>\n",
      "<re.Match object; span=(283, 284), match='f'>\n",
      "<re.Match object; span=(284, 285), match='o'>\n",
      "<re.Match object; span=(285, 286), match='r'>\n",
      "<re.Match object; span=(287, 288), match='u'>\n",
      "<re.Match object; span=(288, 289), match='p'>\n",
      "<re.Match object; span=(289, 290), match='-'>\n",
      "<re.Match object; span=(290, 291), match='t'>\n",
      "<re.Match object; span=(291, 292), match='o'>\n",
      "<re.Match object; span=(292, 293), match='-'>\n",
      "<re.Match object; span=(293, 294), match='d'>\n",
      "<re.Match object; span=(294, 295), match='a'>\n",
      "<re.Match object; span=(295, 296), match='t'>\n",
      "<re.Match object; span=(296, 297), match='e'>\n",
      "<re.Match object; span=(298, 299), match='n'>\n",
      "<re.Match object; span=(299, 300), match='e'>\n",
      "<re.Match object; span=(300, 301), match='w'>\n",
      "<re.Match object; span=(301, 302), match='s'>\n",
      "<re.Match object; span=(303, 304), match='o'>\n",
      "<re.Match object; span=(304, 305), match='u'>\n",
      "<re.Match object; span=(305, 306), match='r'>\n",
      "<re.Match object; span=(306, 307), match='_'>\n",
      "<re.Match object; span=(307, 308), match='v'>\n",
      "<re.Match object; span=(308, 309), match='a'>\n",
      "<re.Match object; span=(309, 310), match='l'>\n",
      "<re.Match object; span=(310, 311), match='u'>\n",
      "<re.Match object; span=(311, 312), match='e'>\n",
      "<re.Match object; span=(312, 313), match='s'>\n"
     ]
    }
   ],
   "source": [
    "pattern = re.compile('\\S')\n",
    "for p in pattern.finditer(someText):\n",
    "    print(p)"
   ]
  },
  {
   "cell_type": "markdown",
   "metadata": {},
   "source": [
    "<a id=\"anchors\"></a>\n",
    "## 5. Introducing Anchors\n",
    "\n",
    "In addition to the metacharacters we saw, there are some special characters that match invisible positions before or after characters. They are always used in conjunction with other patterns and are known as **anchors**:\n",
    "\n",
    "```\n",
    "\\b - word boundary\n",
    "\\B - not a word boundary\n",
    "^ - start of a string\n",
    "$ - end of a string\n",
    "```"
   ]
  },
  {
   "cell_type": "code",
   "execution_count": 26,
   "metadata": {},
   "outputs": [
    {
     "name": "stdout",
     "output_type": "stream",
     "text": [
      "<re.Match object; span=(106, 108), match='oh'> oh\n",
      "<re.Match object; span=(109, 111), match='oh'> oh\n"
     ]
    }
   ],
   "source": [
    "pattern = re.compile(r'\\boh')\n",
    "for p in pattern.finditer(someText):\n",
    "    print(p, p.group())"
   ]
  },
  {
   "cell_type": "markdown",
   "metadata": {},
   "source": [
    "It matched two \"oh\" strings, which have a word boundary, but didn't match the other two \"oh\"s. Meanwhile, `\\B` will do the opposite and match the `oh`s that don't have a word boundary."
   ]
  },
  {
   "cell_type": "code",
   "execution_count": 27,
   "metadata": {},
   "outputs": [
    {
     "data": {
      "text/plain": [
       "'oh ohohoh'"
      ]
     },
     "execution_count": 27,
     "metadata": {},
     "output_type": "execute_result"
    }
   ],
   "source": [
    "someText[106:115]"
   ]
  },
  {
   "cell_type": "code",
   "execution_count": 28,
   "metadata": {},
   "outputs": [
    {
     "name": "stdout",
     "output_type": "stream",
     "text": [
      "<re.Match object; span=(111, 113), match='oh'>\n",
      "<re.Match object; span=(113, 115), match='oh'>\n"
     ]
    }
   ],
   "source": [
    "pattern = re.compile(r'\\Boh')\n",
    "for p in pattern.finditer(someText):\n",
    "    print(p)"
   ]
  },
  {
   "cell_type": "code",
   "execution_count": 31,
   "metadata": {},
   "outputs": [
    {
     "data": {
      "text/plain": [
       "'ohoh'"
      ]
     },
     "execution_count": 31,
     "metadata": {},
     "output_type": "execute_result"
    }
   ],
   "source": [
    "someText[111:115]"
   ]
  },
  {
   "cell_type": "markdown",
   "metadata": {},
   "source": [
    "Let's look at `^` that finds patterns at the beginning of text."
   ]
  },
  {
   "cell_type": "code",
   "execution_count": 32,
   "metadata": {},
   "outputs": [
    {
     "name": "stdout",
     "output_type": "stream",
     "text": [
      "<re.Match object; span=(0, 3), match='Two'>\n"
     ]
    }
   ],
   "source": [
    "pattern = re.compile(r'^Two')\n",
    "for p in pattern.finditer(sentence):\n",
    "    print(p)"
   ]
  },
  {
   "cell_type": "markdown",
   "metadata": {},
   "source": [
    "It found the pattern \"Two\" at the beginning, but if we look for something else, it will not work, if that fragment is not at the start of the sentence:"
   ]
  },
  {
   "cell_type": "code",
   "execution_count": 34,
   "metadata": {},
   "outputs": [],
   "source": [
    "pattern = re.compile(r'^road')\n",
    "for p in pattern.finditer(sentence):\n",
    "    print(p)"
   ]
  },
  {
   "cell_type": "markdown",
   "metadata": {},
   "source": [
    "We know that \"road\" is in the sentence, but it's not at the beginning:"
   ]
  },
  {
   "cell_type": "code",
   "execution_count": 37,
   "metadata": {},
   "outputs": [
    {
     "name": "stdout",
     "output_type": "stream",
     "text": [
      "<re.Match object; span=(4, 8), match='road'> 4 8\n"
     ]
    }
   ],
   "source": [
    "pattern = re.compile(r'road')\n",
    "for p in pattern.finditer(sentence):\n",
    "    print(p, p.start(), p.end())"
   ]
  },
  {
   "cell_type": "code",
   "execution_count": 39,
   "metadata": {},
   "outputs": [
    {
     "data": {
      "text/plain": [
       "'Two roads diverged i'"
      ]
     },
     "execution_count": 39,
     "metadata": {},
     "output_type": "execute_result"
    }
   ],
   "source": [
    "sentence[:20]"
   ]
  },
  {
   "cell_type": "markdown",
   "metadata": {},
   "source": [
    "Similarly, we can use `$` to search for a pattern at the end of a word, notice that `$` is at the end."
   ]
  },
  {
   "cell_type": "code",
   "execution_count": 40,
   "metadata": {},
   "outputs": [
    {
     "name": "stdout",
     "output_type": "stream",
     "text": [
      "<re.Match object; span=(66, 70), match='both'>\n"
     ]
    }
   ],
   "source": [
    "pattern = re.compile(r'both$')\n",
    "for p in pattern.finditer(sentence):\n",
    "    print(p)"
   ]
  },
  {
   "cell_type": "markdown",
   "metadata": {},
   "source": [
    "Same way, if we search for something that's in the string but not at the end, it will not find it:"
   ]
  },
  {
   "cell_type": "code",
   "execution_count": 41,
   "metadata": {},
   "outputs": [],
   "source": [
    "pattern = re.compile(r'travel$')\n",
    "for p in pattern.finditer(sentence):\n",
    "    print(p)"
   ]
  },
  {
   "cell_type": "markdown",
   "metadata": {},
   "source": [
    "<a id=\"phone\"></a>\n",
    "## 6. Matching phone numbers\n",
    "\n",
    "There are two phone numbers in our text, they look like this:\n",
    "\n",
    "```\n",
    "781-283-3190\n",
    "800.255.4398\n",
    "```\n",
    "\n",
    "We can start by matching the first three digits:"
   ]
  },
  {
   "cell_type": "code",
   "execution_count": 42,
   "metadata": {},
   "outputs": [
    {
     "name": "stdout",
     "output_type": "stream",
     "text": [
      "<re.Match object; span=(55, 58), match='012'>\n",
      "<re.Match object; span=(58, 61), match='345'>\n",
      "<re.Match object; span=(61, 64), match='678'>\n",
      "<re.Match object; span=(186, 189), match='781'>\n",
      "<re.Match object; span=(190, 193), match='283'>\n",
      "<re.Match object; span=(194, 197), match='319'>\n",
      "<re.Match object; span=(199, 202), match='800'>\n",
      "<re.Match object; span=(203, 206), match='255'>\n",
      "<re.Match object; span=(207, 210), match='439'>\n",
      "<re.Match object; span=(212, 215), match='781'>\n",
      "<re.Match object; span=(216, 219), match='305'>\n",
      "<re.Match object; span=(220, 223), match='000'>\n"
     ]
    }
   ],
   "source": [
    "pattern = re.compile(r'\\d\\d\\d')\n",
    "for p in pattern.finditer(someText):\n",
    "    print(p)"
   ]
  },
  {
   "cell_type": "markdown",
   "metadata": {},
   "source": [
    "We can use `.` to match any character, in this case the hyphen or the period itself. Then, we match the other groups of digits as above, the final result will look like this:"
   ]
  },
  {
   "cell_type": "code",
   "execution_count": 43,
   "metadata": {},
   "outputs": [
    {
     "name": "stdout",
     "output_type": "stream",
     "text": [
      "<re.Match object; span=(186, 198), match='781-283-3190'>\n",
      "<re.Match object; span=(199, 211), match='800.255.4398'>\n",
      "<re.Match object; span=(212, 224), match='781 305 0000'>\n"
     ]
    }
   ],
   "source": [
    "pattern = re.compile(r'\\d\\d\\d.\\d\\d\\d.\\d\\d\\d\\d')\n",
    "for p in pattern.finditer(someText):\n",
    "    print(p)"
   ]
  },
  {
   "cell_type": "markdown",
   "metadata": {},
   "source": [
    "A more succinct way of writing the pattern for phone numbers is shown in the section about Quantifiers further down in this notebook."
   ]
  },
  {
   "cell_type": "markdown",
   "metadata": {},
   "source": [
    "<a id=\"set\"></a>\n",
    "## 7. Using a character set\n",
    "\n",
    "The period we used above can match any character as a separator for the phone numbers. If we want to restrict what separators to accept, we can use a character set, denoted by the use of square brackets."
   ]
  },
  {
   "cell_type": "code",
   "execution_count": 44,
   "metadata": {},
   "outputs": [
    {
     "name": "stdout",
     "output_type": "stream",
     "text": [
      "<re.Match object; span=(186, 198), match='781-283-3190'>\n",
      "<re.Match object; span=(199, 211), match='800.255.4398'>\n"
     ]
    }
   ],
   "source": [
    "pattern = re.compile(r'\\d\\d\\d[-.]\\d\\d\\d[-.]\\d\\d\\d\\d')\n",
    "for p in pattern.finditer(someText):\n",
    "    print(p)"
   ]
  },
  {
   "cell_type": "markdown",
   "metadata": {},
   "source": [
    "If we use a different separator in the number, for example space, as shown in the example below, then, our character set will not match anything:"
   ]
  },
  {
   "cell_type": "code",
   "execution_count": 47,
   "metadata": {},
   "outputs": [],
   "source": [
    "pattern = re.compile(r'\\d\\d\\d[-.]\\d\\d\\d[-.]\\d\\d\\d\\d')\n",
    "for p in pattern.finditer(\"781 283 3190\"):\n",
    "    print(p)"
   ]
  },
  {
   "cell_type": "markdown",
   "metadata": {},
   "source": [
    "**Question:** How to modify the pattern to also capture the empty space as a separator of the phone numbers? Try it out in the cell above."
   ]
  },
  {
   "cell_type": "code",
   "execution_count": 48,
   "metadata": {},
   "outputs": [
    {
     "name": "stdout",
     "output_type": "stream",
     "text": [
      "<re.Match object; span=(0, 12), match='781 283 3190'>\n"
     ]
    }
   ],
   "source": [
    "# Modified\n",
    "pattern = re.compile(r'\\d\\d\\d[ -.]\\d\\d\\d[ -.]\\d\\d\\d\\d')\n",
    "for p in pattern.finditer(\"781 283 3190\"):\n",
    "    print(p)"
   ]
  },
  {
   "cell_type": "markdown",
   "metadata": {},
   "source": [
    "Let's see another use for character sets, finding 800 and 900 numbers:"
   ]
  },
  {
   "cell_type": "code",
   "execution_count": 49,
   "metadata": {},
   "outputs": [],
   "source": [
    "numbers = \"\"\"800-200-4000\n",
    "900.234.5678\n",
    "300-211-9087\"\"\""
   ]
  },
  {
   "cell_type": "code",
   "execution_count": 50,
   "metadata": {},
   "outputs": [
    {
     "name": "stdout",
     "output_type": "stream",
     "text": [
      "<re.Match object; span=(0, 12), match='800-200-4000'>\n",
      "<re.Match object; span=(13, 25), match='900.234.5678'>\n"
     ]
    }
   ],
   "source": [
    "pattern = re.compile(r'[89]00[-.]\\d\\d\\d[-.]\\d\\d\\d\\d')\n",
    "for p in pattern.finditer(numbers):\n",
    "    print(p)"
   ]
  },
  {
   "cell_type": "markdown",
   "metadata": {},
   "source": [
    "**Note:** Character sets only match one and only one of the characters in the set."
   ]
  },
  {
   "cell_type": "markdown",
   "metadata": {},
   "source": [
    "<a id=\"dash\"></a>\n",
    "## 8. Character ranges with dash\n",
    "\n",
    "The special character dash, when in between two other characters in a character set, serves to create a range."
   ]
  },
  {
   "cell_type": "code",
   "execution_count": 51,
   "metadata": {},
   "outputs": [
    {
     "name": "stdout",
     "output_type": "stream",
     "text": [
      "<re.Match object; span=(1, 2), match='0'>\n",
      "<re.Match object; span=(2, 3), match='0'>\n",
      "<re.Match object; span=(4, 5), match='2'>\n",
      "<re.Match object; span=(5, 6), match='0'>\n",
      "<re.Match object; span=(6, 7), match='0'>\n",
      "<re.Match object; span=(8, 9), match='4'>\n",
      "<re.Match object; span=(9, 10), match='0'>\n",
      "<re.Match object; span=(10, 11), match='0'>\n",
      "<re.Match object; span=(11, 12), match='0'>\n",
      "<re.Match object; span=(14, 15), match='0'>\n",
      "<re.Match object; span=(15, 16), match='0'>\n",
      "<re.Match object; span=(17, 18), match='2'>\n",
      "<re.Match object; span=(18, 19), match='3'>\n",
      "<re.Match object; span=(19, 20), match='4'>\n",
      "<re.Match object; span=(21, 22), match='5'>\n",
      "<re.Match object; span=(26, 27), match='3'>\n",
      "<re.Match object; span=(27, 28), match='0'>\n",
      "<re.Match object; span=(28, 29), match='0'>\n",
      "<re.Match object; span=(30, 31), match='2'>\n",
      "<re.Match object; span=(31, 32), match='1'>\n",
      "<re.Match object; span=(32, 33), match='1'>\n",
      "<re.Match object; span=(35, 36), match='0'>\n"
     ]
    }
   ],
   "source": [
    "# find all digits between 0 and 5\n",
    "pattern = re.compile(r'[0-5]')\n",
    "for p in pattern.finditer(numbers):\n",
    "    print(p)"
   ]
  },
  {
   "cell_type": "markdown",
   "metadata": {},
   "source": [
    "Notice that it's matching only the digits 0 to 5. Let's try range with letter characters. As a reminder, here is our sentence:"
   ]
  },
  {
   "cell_type": "code",
   "execution_count": 52,
   "metadata": {},
   "outputs": [
    {
     "data": {
      "text/plain": [
       "'Two roads diverged in a yellow wood, And sorry I could not travel both'"
      ]
     },
     "execution_count": 52,
     "metadata": {},
     "output_type": "execute_result"
    }
   ],
   "source": [
    "sentence"
   ]
  },
  {
   "cell_type": "code",
   "execution_count": 53,
   "metadata": {},
   "outputs": [
    {
     "name": "stdout",
     "output_type": "stream",
     "text": [
      "<re.Match object; span=(6, 7), match='a'>\n",
      "<re.Match object; span=(7, 8), match='d'>\n",
      "<re.Match object; span=(10, 11), match='d'>\n",
      "<re.Match object; span=(13, 14), match='e'>\n",
      "<re.Match object; span=(16, 17), match='e'>\n",
      "<re.Match object; span=(17, 18), match='d'>\n",
      "<re.Match object; span=(22, 23), match='a'>\n",
      "<re.Match object; span=(25, 26), match='e'>\n",
      "<re.Match object; span=(34, 35), match='d'>\n",
      "<re.Match object; span=(39, 40), match='d'>\n",
      "<re.Match object; span=(49, 50), match='c'>\n",
      "<re.Match object; span=(53, 54), match='d'>\n",
      "<re.Match object; span=(61, 62), match='a'>\n",
      "<re.Match object; span=(63, 64), match='e'>\n",
      "<re.Match object; span=(66, 67), match='b'>\n"
     ]
    }
   ],
   "source": [
    "pattern = re.compile(r'[a-e]')\n",
    "for p in pattern.finditer(sentence):\n",
    "    print(p)"
   ]
  },
  {
   "cell_type": "markdown",
   "metadata": {},
   "source": [
    "We can use character range sets for uppercase letters too:"
   ]
  },
  {
   "cell_type": "code",
   "execution_count": 54,
   "metadata": {},
   "outputs": [
    {
     "name": "stdout",
     "output_type": "stream",
     "text": [
      "<re.Match object; span=(0, 1), match='T'>\n",
      "<re.Match object; span=(37, 38), match='A'>\n",
      "<re.Match object; span=(47, 48), match='I'>\n"
     ]
    }
   ],
   "source": [
    "pattern = re.compile(r'[A-Z]')\n",
    "for p in pattern.finditer(sentence):\n",
    "    print(p)"
   ]
  },
  {
   "cell_type": "markdown",
   "metadata": {},
   "source": [
    "<a id=\"carot\"></a>\n",
    "## 9. The ^ character for negating\n",
    "\n",
    "The character ^ within a character set behaves differently from when it is outside. In this case, it will negate the content of the set, so that the pattern matches everything that is not in the set."
   ]
  },
  {
   "cell_type": "code",
   "execution_count": 55,
   "metadata": {},
   "outputs": [],
   "source": [
    "phrase = \"My number is: 555\""
   ]
  },
  {
   "cell_type": "code",
   "execution_count": 56,
   "metadata": {},
   "outputs": [
    {
     "name": "stdout",
     "output_type": "stream",
     "text": [
      "<re.Match object; span=(2, 3), match=' '>\n",
      "<re.Match object; span=(9, 10), match=' '>\n",
      "<re.Match object; span=(12, 13), match=':'>\n",
      "<re.Match object; span=(13, 14), match=' '>\n",
      "<re.Match object; span=(14, 15), match='5'>\n",
      "<re.Match object; span=(15, 16), match='5'>\n",
      "<re.Match object; span=(16, 17), match='5'>\n"
     ]
    }
   ],
   "source": [
    "pattern = re.compile(r'[^a-zA-Z]')\n",
    "for p in pattern.finditer(phrase):\n",
    "    print(p)"
   ]
  },
  {
   "cell_type": "markdown",
   "metadata": {},
   "source": [
    "For the phrase above, the pattern matches only the white space, the colon, and the digits, which are non-letter characters.\n",
    "\n",
    "Below is another use of ^ for negating a character set:"
   ]
  },
  {
   "cell_type": "code",
   "execution_count": 57,
   "metadata": {},
   "outputs": [
    {
     "name": "stdout",
     "output_type": "stream",
     "text": [
      "<re.Match object; span=(0, 3), match='cat'>\n",
      "<re.Match object; span=(8, 11), match='mat'>\n",
      "<re.Match object; span=(16, 19), match='tat'>\n"
     ]
    }
   ],
   "source": [
    "words = \"\"\"cat\n",
    "bat\n",
    "mat\n",
    "pat\n",
    "tat\"\"\"\n",
    "\n",
    "pattern = re.compile(r'[^bp]at') # find three letter words ending with at, but that don't start with b or p\n",
    "for p in pattern.finditer(words):\n",
    "    print(p)"
   ]
  },
  {
   "cell_type": "markdown",
   "metadata": {},
   "source": [
    "<a id=\"quant\"></a>\n",
    "## 10. Quantifiers\n",
    "\n",
    "All the examples so far find one character at a time. Even when we found the phone number, we used a complex pattern. But, that doesn't need to be the case. We can use other special characters to look for repeating patterns.\n",
    "\n",
    "```\n",
    "*       - 0 or more\n",
    "+       - 1 or more\n",
    "?       - 0 or 1\n",
    "{3}     - exact number\n",
    "{3, 4}  - range of numbers (min, max)\n",
    "```"
   ]
  },
  {
   "cell_type": "markdown",
   "metadata": {},
   "source": [
    "Let's rewrite the pattern for phone numbers, by using one of these quantifiers, that specifies an exact number of digits:"
   ]
  },
  {
   "cell_type": "code",
   "execution_count": 58,
   "metadata": {},
   "outputs": [
    {
     "name": "stdout",
     "output_type": "stream",
     "text": [
      "781-283-3190\n",
      "800.255.4398\n",
      "781 305 0000\n"
     ]
    }
   ],
   "source": [
    "pattern = re.compile(r'\\d{3}.\\d{3}.\\d{4}')\n",
    "for p in pattern.finditer(someText):\n",
    "    print(p.group())\n"
   ]
  },
  {
   "cell_type": "markdown",
   "metadata": {},
   "source": [
    "Often, we don't know the length of a sequence as we do with phone numbers, thus, we need to use the other quantifiers. Let's do that to try to get all Misters from this string of names:"
   ]
  },
  {
   "cell_type": "code",
   "execution_count": 59,
   "metadata": {},
   "outputs": [],
   "source": [
    "names = \"\"\"Mrs. Robinson\n",
    "Ms Gardner\n",
    "Mr Potter\n",
    "Mr. Bond\n",
    "Mr T\"\"\""
   ]
  },
  {
   "cell_type": "markdown",
   "metadata": {},
   "source": [
    "**Step 1: Find Mr.** "
   ]
  },
  {
   "cell_type": "code",
   "execution_count": 60,
   "metadata": {},
   "outputs": [
    {
     "name": "stdout",
     "output_type": "stream",
     "text": [
      "<re.Match object; span=(35, 38), match='Mr.'>\n"
     ]
    }
   ],
   "source": [
    "pattern = re.compile(r'Mr\\.') # escape the period\n",
    "for p in pattern.finditer(names):\n",
    "    print(p)"
   ]
  },
  {
   "cell_type": "markdown",
   "metadata": {},
   "source": [
    "This finds Mr. but we miss Mr that is not followed by a period. By using the question mark character we can specify that the period can show 0 or 1 times.\n",
    "\n",
    "**Step 2: Find Mr. and Mr**"
   ]
  },
  {
   "cell_type": "code",
   "execution_count": 61,
   "metadata": {},
   "outputs": [
    {
     "name": "stdout",
     "output_type": "stream",
     "text": [
      "<re.Match object; span=(0, 2), match='Mr'>\n",
      "<re.Match object; span=(25, 27), match='Mr'>\n",
      "<re.Match object; span=(35, 38), match='Mr.'>\n",
      "<re.Match object; span=(44, 46), match='Mr'>\n"
     ]
    }
   ],
   "source": [
    "pattern = re.compile(r'Mr\\.?')\n",
    "for p in pattern.finditer(names):\n",
    "    print(p)"
   ]
  },
  {
   "cell_type": "markdown",
   "metadata": {},
   "source": [
    "This catches all of them, but also Mr in Mrs. Robinson. Now, let's get the rest of the name:\n",
    "\n",
    "**Step 3: Find name**"
   ]
  },
  {
   "cell_type": "code",
   "execution_count": 62,
   "metadata": {},
   "outputs": [
    {
     "name": "stdout",
     "output_type": "stream",
     "text": [
      "<re.Match object; span=(25, 29), match='Mr P'>\n",
      "<re.Match object; span=(35, 40), match='Mr. B'>\n",
      "<re.Match object; span=(44, 48), match='Mr T'>\n"
     ]
    }
   ],
   "source": [
    "pattern = re.compile(r'Mr\\.?\\s[A-Z]')\n",
    "for p in pattern.finditer(names):\n",
    "    print(p)"
   ]
  },
  {
   "cell_type": "markdown",
   "metadata": {},
   "source": [
    "We followed the question mark with the space character `\\s`, and then a character set for uppercase letters. Finally, to get the whole names, we can use `\\w`, to match word characters.\n",
    "\n",
    "**Step 4: Find the complete names**"
   ]
  },
  {
   "cell_type": "code",
   "execution_count": 63,
   "metadata": {},
   "outputs": [
    {
     "name": "stdout",
     "output_type": "stream",
     "text": [
      "<re.Match object; span=(25, 34), match='Mr Potter'>\n",
      "<re.Match object; span=(35, 43), match='Mr. Bond'>\n",
      "<re.Match object; span=(44, 48), match='Mr T'>\n"
     ]
    }
   ],
   "source": [
    "pattern = re.compile(r'Mr\\.?\\s[A-Z]\\w*')\n",
    "for p in pattern.finditer(names):\n",
    "    print(p)"
   ]
  },
  {
   "cell_type": "markdown",
   "metadata": {},
   "source": [
    "It worked! We found all strings about misters, despite their different structure."
   ]
  },
  {
   "cell_type": "markdown",
   "metadata": {},
   "source": [
    "<a id=\"groups\"></a>\n",
    "\n",
    "## 11. Groups\n",
    "\n",
    "The special characters `( )` are used to create groups, and often the pipe character `|` (that means OR), is used together with them. Groups allow for the definition of more complex patterns. For example, we can modify the code from **Step 4** above to also include female titles:"
   ]
  },
  {
   "cell_type": "code",
   "execution_count": 64,
   "metadata": {},
   "outputs": [
    {
     "name": "stdout",
     "output_type": "stream",
     "text": [
      "<re.Match object; span=(0, 13), match='Mrs. Robinson'>\n",
      "<re.Match object; span=(14, 24), match='Ms Gardner'>\n",
      "<re.Match object; span=(25, 34), match='Mr Potter'>\n",
      "<re.Match object; span=(35, 43), match='Mr. Bond'>\n",
      "<re.Match object; span=(44, 48), match='Mr T'>\n"
     ]
    }
   ],
   "source": [
    "pattern = re.compile(r'(Mrs|Ms|Mr)\\.?\\s[A-Z]\\w*') # match Mr or Ms in their variations\n",
    "for p in pattern.finditer(names):\n",
    "    print(p)"
   ]
  },
  {
   "cell_type": "markdown",
   "metadata": {},
   "source": [
    "Let's look at another example, matching email addresses:"
   ]
  },
  {
   "cell_type": "code",
   "execution_count": 65,
   "metadata": {},
   "outputs": [],
   "source": [
    "emails = \"\"\"harry.potter@hogwards.edu\n",
    "hgranger@gryffindor-house.info\n",
    "ron_weasley@theburrow.com\n",
    "\"\"\""
   ]
  },
  {
   "cell_type": "markdown",
   "metadata": {},
   "source": [
    "We can start by thinking of the simplest pattern, some characters, the @ symbol, and some more characters. If we use `\\w` to match word characters, we can write:"
   ]
  },
  {
   "cell_type": "code",
   "execution_count": 66,
   "metadata": {},
   "outputs": [
    {
     "name": "stdout",
     "output_type": "stream",
     "text": [
      "<re.Match object; span=(6, 21), match='potter@hogwards'>\n",
      "<re.Match object; span=(26, 45), match='hgranger@gryffindor'>\n",
      "<re.Match object; span=(57, 78), match='ron_weasley@theburrow'>\n"
     ]
    }
   ],
   "source": [
    "pattern = re.compile(r'\\w+@\\w+')\n",
    "for p in pattern.finditer(emails):\n",
    "    print(p)"
   ]
  },
  {
   "cell_type": "markdown",
   "metadata": {},
   "source": [
    "We got all the emails, but they are truncated at characters such as the period or dash. Here is another try:"
   ]
  },
  {
   "cell_type": "code",
   "execution_count": 67,
   "metadata": {},
   "outputs": [
    {
     "name": "stdout",
     "output_type": "stream",
     "text": [
      "<re.Match object; span=(6, 25), match='potter@hogwards.edu'>\n",
      "<re.Match object; span=(57, 82), match='ron_weasley@theburrow.com'>\n"
     ]
    }
   ],
   "source": [
    "pattern = re.compile(r'\\w+@\\w+\\.(edu|info|com)')\n",
    "for p in pattern.finditer(emails):\n",
    "    print(p)"
   ]
  },
  {
   "cell_type": "markdown",
   "metadata": {},
   "source": [
    "We got only two addresses, because that from Hermione contains a dash for which we have not accounted. We should add that as a character set that is repeated 0 or one time."
   ]
  },
  {
   "cell_type": "code",
   "execution_count": 68,
   "metadata": {},
   "outputs": [
    {
     "name": "stdout",
     "output_type": "stream",
     "text": [
      "<re.Match object; span=(0, 25), match='harry.potter@hogwards.edu'>\n",
      "<re.Match object; span=(26, 56), match='hgranger@gryffindor-house.info'>\n",
      "<re.Match object; span=(57, 82), match='ron_weasley@theburrow.com'>\n"
     ]
    }
   ],
   "source": [
    "pattern = re.compile(r'\\w+[-.]?\\w+@\\w+[-]?\\w+\\.(edu|info|com)')\n",
    "for p in pattern.finditer(emails):\n",
    "    print(p)"
   ]
  },
  {
   "cell_type": "markdown",
   "metadata": {},
   "source": [
    "Finally, to cover more email domain endings, we can replace the group with repeated characters:"
   ]
  },
  {
   "cell_type": "code",
   "execution_count": 69,
   "metadata": {},
   "outputs": [
    {
     "name": "stdout",
     "output_type": "stream",
     "text": [
      "<re.Match object; span=(0, 25), match='harry.potter@hogwards.edu'>\n",
      "<re.Match object; span=(26, 56), match='hgranger@gryffindor-house.info'>\n",
      "<re.Match object; span=(57, 82), match='ron_weasley@theburrow.com'>\n"
     ]
    }
   ],
   "source": [
    "pattern = re.compile(r'\\w+[-.]?\\w+@\\w+[-]?\\w+\\.\\w+')\n",
    "for p in pattern.finditer(emails):\n",
    "    print(p)"
   ]
  },
  {
   "cell_type": "markdown",
   "metadata": {},
   "source": [
    "By grouping the various elements of the email structure, we can access each of them separately by using the method group. Without an argument, this method prints the entire group:"
   ]
  },
  {
   "cell_type": "code",
   "execution_count": 70,
   "metadata": {},
   "outputs": [
    {
     "name": "stdout",
     "output_type": "stream",
     "text": [
      "harry.potter@hogwards.edu\n",
      "hgranger@gryffindor-house.info\n",
      "ron_weasley@theburrow.com\n"
     ]
    }
   ],
   "source": [
    "pattern = re.compile(r'(\\w+[-.]?\\w+)+@(\\w+[-]?\\w+)(\\.\\w+)') # notice three groups\n",
    "for p in pattern.finditer(emails):\n",
    "    print(p.group())"
   ]
  },
  {
   "cell_type": "markdown",
   "metadata": {},
   "source": [
    "By providing the indices of the groups: 1, 2, 3, we can access each group separately:"
   ]
  },
  {
   "cell_type": "code",
   "execution_count": 71,
   "metadata": {},
   "outputs": [
    {
     "name": "stdout",
     "output_type": "stream",
     "text": [
      "harry.potter\n",
      "hgranger\n",
      "ron_weasley\n"
     ]
    }
   ],
   "source": [
    "for p in pattern.finditer(emails):\n",
    "    print(p.group(1)) # 1st group is the email account"
   ]
  },
  {
   "cell_type": "code",
   "execution_count": 72,
   "metadata": {},
   "outputs": [
    {
     "name": "stdout",
     "output_type": "stream",
     "text": [
      "hogwards\n",
      "gryffindor-house\n",
      "theburrow\n"
     ]
    }
   ],
   "source": [
    "for p in pattern.finditer(emails):\n",
    "    print(p.group(2)) # 2nd group is the email domain server"
   ]
  },
  {
   "cell_type": "code",
   "execution_count": 73,
   "metadata": {},
   "outputs": [
    {
     "name": "stdout",
     "output_type": "stream",
     "text": [
      ".edu\n",
      ".info\n",
      ".com\n"
     ]
    }
   ],
   "source": [
    "for p in pattern.finditer(emails):\n",
    "    print(p.group(3)) # 3rd group is the domain ending"
   ]
  },
  {
   "cell_type": "markdown",
   "metadata": {},
   "source": [
    "<a id=\"replace\"></a>\n",
    "## 12. Replace using groups\n",
    "\n",
    "Until now we have only used regular expressions to find patterns in text, but often, we are interested in replacing something we find. Groups can be very useful to do this, because they serve as indices to access parts of a matched pattern. This is done through a mechanism known as back references.\n",
    "\n",
    "For this example, we will use a few URLs. We want to identify irrelevant parts and \"remove\" them, so that we only have the domain names such as __google.com__, etc."
   ]
  },
  {
   "cell_type": "code",
   "execution_count": 74,
   "metadata": {},
   "outputs": [],
   "source": [
    "urls = \"\"\"\n",
    "https://www.google.com\n",
    "https://nytimes.com\n",
    "https://www.wellesley.edu\n",
    "http://facebook.com\n",
    "\"\"\""
   ]
  },
  {
   "cell_type": "markdown",
   "metadata": {},
   "source": [
    "Below we use the group syntax, `( )`, to refer to three different groups that usually compose a domain URL."
   ]
  },
  {
   "cell_type": "code",
   "execution_count": 75,
   "metadata": {},
   "outputs": [
    {
     "data": {
      "text/plain": [
       "re.compile(r'https?://(www\\.)?(\\w+)(\\.\\w+)', re.UNICODE)"
      ]
     },
     "execution_count": 75,
     "metadata": {},
     "output_type": "execute_result"
    }
   ],
   "source": [
    "pattern = re.compile(r'https?://(www\\.)?(\\w+)(\\.\\w+)') # notice three groups, one for each part of the domain\n",
    "pattern"
   ]
  },
  {
   "cell_type": "markdown",
   "metadata": {},
   "source": [
    "We'll use the method `sub` which has a different syntax, so, we'll first create a list of URLs:"
   ]
  },
  {
   "cell_type": "code",
   "execution_count": 76,
   "metadata": {},
   "outputs": [
    {
     "data": {
      "text/plain": [
       "['https://www.google.com',\n",
       " 'https://nytimes.com',\n",
       " 'https://www.wellesley.edu',\n",
       " 'http://facebook.com']"
      ]
     },
     "execution_count": 76,
     "metadata": {},
     "output_type": "execute_result"
    }
   ],
   "source": [
    "urls = urls.split()\n",
    "urls"
   ]
  },
  {
   "cell_type": "markdown",
   "metadata": {},
   "source": [
    "The method `sub` takes three arguments, the pattern, a replacement string, and the original string. In the code below, our replacement string is composed of **back references**, that is, of indices that refers to groups in the pattern. The command is saying, if you find the pattern in the string, replace it with the content of the replacement string. "
   ]
  },
  {
   "cell_type": "code",
   "execution_count": 77,
   "metadata": {},
   "outputs": [
    {
     "name": "stdout",
     "output_type": "stream",
     "text": [
      "google.com\n",
      "nytimes.com\n",
      "wellesley.edu\n",
      "facebook.com\n"
     ]
    }
   ],
   "source": [
    "for url in urls:\n",
    "    print(re.sub(pattern, r'\\2\\3', url))"
   ]
  },
  {
   "cell_type": "markdown",
   "metadata": {},
   "source": [
    "As we can see, the regex finds the whole URLs, but replaces them with the contenxt of groups 2 and 3 that contain the domain name and ending."
   ]
  },
  {
   "cell_type": "markdown",
   "metadata": {},
   "source": [
    "To learn more about the syntax of the `sub` function, check out its documentation with `help`:"
   ]
  },
  {
   "cell_type": "code",
   "execution_count": 78,
   "metadata": {},
   "outputs": [
    {
     "name": "stdout",
     "output_type": "stream",
     "text": [
      "Help on function sub in module re:\n",
      "\n",
      "sub(pattern, repl, string, count=0, flags=0)\n",
      "    Return the string obtained by replacing the leftmost\n",
      "    non-overlapping occurrences of the pattern in string by the\n",
      "    replacement repl.  repl can be either a string or a callable;\n",
      "    if a string, backslash escapes in it are processed.  If it is\n",
      "    a callable, it's passed the Match object and must return\n",
      "    a replacement string to be used.\n",
      "\n"
     ]
    }
   ],
   "source": [
    "help(re.sub)"
   ]
  },
  {
   "cell_type": "markdown",
   "metadata": {},
   "source": [
    "<a id=\"flags\"></a>\n",
    "## 13. Python flags\n",
    "\n",
    "The Python module `re` has so-called flags that can be called in the function `findall` or `finditer` to change its behavior. Here are some flags:\n",
    "\n",
    "```\n",
    "re.IGNORECASE or re.I  \n",
    "re.ASCII or re.A. \n",
    "re.LOCALE or re.L  \n",
    "```\n",
    "\n",
    "Each of them does something different. For example, re.ASCII makes the regex apply only to ascii characters (by default it applies to unicde). Ignore case is about ignoring the casing of a word. Here is an example: find all instances of a word, independently of the case."
   ]
  },
  {
   "cell_type": "code",
   "execution_count": 79,
   "metadata": {},
   "outputs": [
    {
     "name": "stdout",
     "output_type": "stream",
     "text": [
      "<re.Match object; span=(0, 6), match='Python'>\n",
      "<re.Match object; span=(15, 21), match='python'>\n",
      "<re.Match object; span=(42, 48), match='PYTHON'>\n"
     ]
    }
   ],
   "source": [
    "pattern = re.compile(\"python\", re.IGNORECASE)\n",
    "text = \"Python is fun. python is powerful. I love PYTHON!\"\n",
    "\n",
    "for p in pattern.finditer(text):\n",
    "    print(p)"
   ]
  },
  {
   "cell_type": "markdown",
   "metadata": {},
   "source": [
    "Remember, that if you only want the text, you can always use the function `findall`:"
   ]
  },
  {
   "cell_type": "code",
   "execution_count": 80,
   "metadata": {},
   "outputs": [
    {
     "data": {
      "text/plain": [
       "['Python', 'python', 'PYTHON']"
      ]
     },
     "execution_count": 80,
     "metadata": {},
     "output_type": "execute_result"
    }
   ],
   "source": [
    "matches = re.findall(r'python', text, re.IGNORECASE)\n",
    "matches"
   ]
  },
  {
   "cell_type": "markdown",
   "metadata": {},
   "source": [
    "<a id=\"turn\"></a>\n",
    "## 14. Your Turn: Solve simple problems\n",
    "\n",
    "Put to action the things you learned above:  \n",
    "\n",
    "**Ex. 1:** Find all the words that start with \"a\" and end with an \"e\" (independetly of case). Here is a sentence to try: \"Alice asked for an apple, an envelope, and an artichoke. What an astute girl!\"  The expected result is: ['Alice', 'apple', 'artichoke', 'astute'].\n",
    "\n",
    "**Ex. 2:** Replace all occurrences of whitespace (space, tab, newline) with a single space. Here is an example text: \"This\\nstring\\tcontains multiple\\n\\tspaces.\" You need to use the function `sub`.\n",
    "\n",
    "**Ex 3:** Find all instances of year in dates of format \"YYYY-MM-DD\". Here is some text:\n",
    "\"The school year started in 2023-09-05. More than 2300 students were enrolled. 2023-2024 is going to be a great year! The ending ceremony is on 2024-05-17.\" Your code will use groups to find the dates, for example, [('2023', '09', '05'), ('2024', '05', '17')], and then index the year."
   ]
  },
  {
   "cell_type": "markdown",
   "metadata": {},
   "source": [
    "##### Example 1"
   ]
  },
  {
   "cell_type": "code",
   "execution_count": 110,
   "metadata": {},
   "outputs": [
    {
     "data": {
      "text/plain": [
       "['Alice', 'apple', 'artichoke', 'astute']"
      ]
     },
     "execution_count": 110,
     "metadata": {},
     "output_type": "execute_result"
    }
   ],
   "source": [
    "sent1 = \"Alice asked for an apple, an envelope, and an artichoke. What an astute girl!\"\n",
    "matches1 = re.findall(r'[Aa]\\w*[Ee]\\b', sent1, re.IGNORECASE)\n",
    "matches1"
   ]
  },
  {
   "cell_type": "markdown",
   "metadata": {},
   "source": [
    "##### Example 2"
   ]
  },
  {
   "cell_type": "code",
   "execution_count": 107,
   "metadata": {},
   "outputs": [
    {
     "data": {
      "text/plain": [
       "'This string contains multiple spaces.'"
      ]
     },
     "execution_count": 107,
     "metadata": {},
     "output_type": "execute_result"
    }
   ],
   "source": [
    "sent2 = \"This\\nstring\\tcontains multiple\\n\\tspaces.\"\n",
    "re.sub('\\s+', ' ', sent2)"
   ]
  },
  {
   "cell_type": "markdown",
   "metadata": {},
   "source": [
    "##### Example 3"
   ]
  },
  {
   "cell_type": "markdown",
   "metadata": {},
   "source": [
    "**Ex 3:** Find all instances of year in dates of format \"YYYY-MM-DD\". Here is some text:\n",
    "\"The school year started in 2023-09-05. More than 2300 students were enrolled. 2023-2024 is going to be a great year! The ending ceremony is on 2024-05-17.\" Your code will use groups to find the dates, for example, [('2023', '09', '05'), ('2024', '05', '17')], and then index the year."
   ]
  },
  {
   "cell_type": "code",
   "execution_count": 112,
   "metadata": {},
   "outputs": [
    {
     "data": {
      "text/plain": [
       "['2023-09-05', '2024-05-17']"
      ]
     },
     "execution_count": 112,
     "metadata": {},
     "output_type": "execute_result"
    }
   ],
   "source": [
    "sent3 = \"The school year started in 2023-09-05. More than 2300 students were enrolled. 2023-2024 is going to be a great year! The ending ceremony is on 2024-05-17.\"\n",
    "matches3 = re.findall(r'\\d{4}[-]\\d{2}-\\d{2}', sent3)\n",
    "matches3"
   ]
  }
 ],
 "metadata": {
  "kernelspec": {
   "display_name": "Python 3 (ipykernel)",
   "language": "python",
   "name": "python3"
  },
  "language_info": {
   "codemirror_mode": {
    "name": "ipython",
    "version": 3
   },
   "file_extension": ".py",
   "mimetype": "text/x-python",
   "name": "python",
   "nbconvert_exporter": "python",
   "pygments_lexer": "ipython3",
   "version": "3.11.5"
  }
 },
 "nbformat": 4,
 "nbformat_minor": 4
}
